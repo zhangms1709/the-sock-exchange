{
  "cells": [
    {
      "cell_type": "markdown",
      "id": "af490450",
      "metadata": {
        "id": "af490450"
      },
      "source": [
        "# Exercise 5 - Repairing and Normalizing Data"
      ]
    },
    {
      "cell_type": "markdown",
      "source": [
        "## Setup\n",
        "\n",
        "Make sure the following files are in your file system:\n",
        "- data_with_nulls.csv\n",
        "- data_with_outliers.csv\n",
        "- data_mixed_problems.csv\n",
        "\n",
        "Take a look at the files to verify the issues with their contents\n",
        "\n",
        "Install the required non-standard module `flaker`."
      ],
      "metadata": {
        "id": "M2j9KT5r8Im8"
      },
      "id": "M2j9KT5r8Im8"
    },
    {
      "cell_type": "code",
      "source": [
        "# install flaker to runtime\n",
        "!pip install faker\n"
      ],
      "metadata": {
        "colab": {
          "base_uri": "https://localhost:8080/"
        },
        "id": "2jQ0vFRKAtc6",
        "outputId": "244f5247-d696-49bd-a879-7732cd37eadf"
      },
      "id": "2jQ0vFRKAtc6",
      "execution_count": null,
      "outputs": [
        {
          "output_type": "stream",
          "name": "stdout",
          "text": [
            "Requirement already satisfied: faker in /usr/local/lib/python3.11/dist-packages (37.4.0)\n",
            "Requirement already satisfied: tzdata in /usr/local/lib/python3.11/dist-packages (from faker) (2025.2)\n"
          ]
        }
      ]
    },
    {
      "cell_type": "markdown",
      "id": "b02db3c8",
      "metadata": {
        "id": "b02db3c8"
      },
      "source": [
        "## Generating Sample Data Files for Cleaning\n",
        "To simulate real-world cleaning tasks, we will generate several example CSV files that contain common issues such as missing data, outliers, and inconsistent categories.\n",
        "\n",
        "These files were generated using Python's `pandas` and `faker` libraries.\n"
      ]
    },
    {
      "cell_type": "code",
      "execution_count": null,
      "id": "122aa11d",
      "metadata": {
        "colab": {
          "base_uri": "https://localhost:8080/"
        },
        "id": "122aa11d",
        "outputId": "c6b0621f-8d84-46d2-c4d1-13f9b4f5ab47"
      },
      "outputs": [
        {
          "output_type": "stream",
          "name": "stdout",
          "text": [
            "       Name   Age    Income Department  Rating\n",
            "0  Patricia   NaN  999999.0       None     3.0\n",
            "1    Lauren  28.0   88812.0         HR     2.3\n",
            "2  Nicholas  39.0  999999.0      Sales     3.0\n",
            "3    Hunter  56.0       NaN         HR     2.7\n",
            "4    Briana  45.0  999999.0       None     3.2\n"
          ]
        }
      ],
      "source": [
        "import pandas as pd\n",
        "import numpy as np\n",
        "import random\n",
        "from faker import Faker\n",
        "\n",
        "fake = Faker()\n",
        "\n",
        "# Generate nulls dataset\n",
        "def generate_nulls_dataset(num_rows=10):\n",
        "    data = {\n",
        "        \"Name\": [fake.first_name() if random.random() > 0.2 else None for _ in range(num_rows)],\n",
        "        \"Age\": [random.randint(20, 60) if random.random() > 0.3 else None for _ in range(num_rows)],\n",
        "        \"Income\": [random.randint(30000, 90000) if random.random() > 0.1 else None for _ in range(num_rows)],\n",
        "    }\n",
        "    return pd.DataFrame(data)\n",
        "\n",
        "# Generate outliers dataset\n",
        "def generate_outliers_dataset(num_rows=10):\n",
        "    data = {\n",
        "        \"Salary\": [random.randint(50000, 100000) if i < num_rows - 2 else random.randint(200000, 300000) for i in range(num_rows)],\n",
        "        \"YearsExperience\": [random.randint(1, 10) for _ in range(num_rows)],\n",
        "    }\n",
        "    return pd.DataFrame(data)\n",
        "\n",
        "# Generate mixed-problem dataset\n",
        "def generate_mixed_problem_dataset(num_rows=50):\n",
        "    data = {\n",
        "        \"Name\": [fake.first_name() if random.random() > 0.1 else None for _ in range(num_rows)],\n",
        "        \"Age\": [random.randint(18, 65) if random.random() > 0.2 else None for _ in range(num_rows)],\n",
        "        \"Income\": [random.choice([random.randint(30000, 90000), None, 999999]) for _ in range(num_rows)],\n",
        "        \"Department\": [random.choice([\"Sales\", \"HR\", \"IT\", \"Finance\", None]) for _ in range(num_rows)],\n",
        "        \"Rating\": [round(random.uniform(1.0, 5.0), 1) if random.random() > 0.15 else None for _ in range(num_rows)],\n",
        "    }\n",
        "    return pd.DataFrame(data)\n",
        "\n",
        "# Generate and preview\n",
        "df_mixed = generate_mixed_problem_dataset()\n",
        "print(df_mixed.head())\n"
      ]
    },
    {
      "cell_type": "markdown",
      "id": "cc2b4df5",
      "metadata": {
        "id": "cc2b4df5"
      },
      "source": [
        "### Practice\n",
        "- Try modifying the generators to produce different types of problems (e.g., duplicated records or data type errors).\n"
      ]
    },
    {
      "cell_type": "code",
      "execution_count": null,
      "id": "8b9a91f0",
      "metadata": {
        "id": "8b9a91f0"
      },
      "outputs": [],
      "source": [
        "# Your practice code here\n"
      ]
    },
    {
      "cell_type": "markdown",
      "id": "f93d07fb",
      "metadata": {
        "id": "f93d07fb"
      },
      "source": [
        "## Cleaning Missing Values (data_with_nulls.csv)\n",
        "We will start by reading and cleaning a file containing missing values. You will practice detecting and fixing these issues using pandas.\n"
      ]
    },
    {
      "cell_type": "code",
      "execution_count": null,
      "id": "af78303d",
      "metadata": {
        "colab": {
          "base_uri": "https://localhost:8080/"
        },
        "id": "af78303d",
        "outputId": "67ca072c-d050-48bb-c093-e5ca0cd65405"
      },
      "outputs": [
        {
          "output_type": "stream",
          "name": "stdout",
          "text": [
            "Original Nulls Dataset:\n",
            "       Name   Age   Income\n",
            "0      Luis   NaN  81836.0\n",
            "1   Bethany  37.0  42778.0\n",
            "2   Antonio   NaN  71272.0\n",
            "3       NaN  20.0  48813.0\n",
            "4       NaN   NaN  83910.0\n",
            "5    Latoya  23.0  35218.0\n",
            "6    Andrew  27.0      NaN\n",
            "7   Michele   NaN      NaN\n",
            "8       NaN  25.0  64056.0\n",
            "9  Veronica  33.0  50847.0\n",
            "\n",
            "Cleaned Dataset:\n",
            "       Name   Age   Income\n",
            "0      Luis  27.5  81836.0\n",
            "1   Bethany  37.0  42778.0\n",
            "2   Antonio  27.5  71272.0\n",
            "3   Unknown  20.0  48813.0\n",
            "4   Unknown  27.5  83910.0\n",
            "5    Latoya  23.0  35218.0\n",
            "6    Andrew  27.0  57451.5\n",
            "7   Michele  27.5  57451.5\n",
            "8   Unknown  25.0  64056.0\n",
            "9  Veronica  33.0  50847.0\n"
          ]
        },
        {
          "output_type": "stream",
          "name": "stderr",
          "text": [
            "/tmp/ipython-input-4-1169282766.py:6: FutureWarning: A value is trying to be set on a copy of a DataFrame or Series through chained assignment using an inplace method.\n",
            "The behavior will change in pandas 3.0. This inplace method will never work because the intermediate object on which we are setting values always behaves as a copy.\n",
            "\n",
            "For example, when doing 'df[col].method(value, inplace=True)', try using 'df.method({col: value}, inplace=True)' or df[col] = df[col].method(value) instead, to perform the operation inplace on the original object.\n",
            "\n",
            "\n",
            "  df_nulls['Name'].fillna('Unknown', inplace=True)\n",
            "/tmp/ipython-input-4-1169282766.py:7: FutureWarning: A value is trying to be set on a copy of a DataFrame or Series through chained assignment using an inplace method.\n",
            "The behavior will change in pandas 3.0. This inplace method will never work because the intermediate object on which we are setting values always behaves as a copy.\n",
            "\n",
            "For example, when doing 'df[col].method(value, inplace=True)', try using 'df.method({col: value}, inplace=True)' or df[col] = df[col].method(value) instead, to perform the operation inplace on the original object.\n",
            "\n",
            "\n",
            "  df_nulls['Age'].fillna(df_nulls['Age'].mean(), inplace=True)\n",
            "/tmp/ipython-input-4-1169282766.py:8: FutureWarning: A value is trying to be set on a copy of a DataFrame or Series through chained assignment using an inplace method.\n",
            "The behavior will change in pandas 3.0. This inplace method will never work because the intermediate object on which we are setting values always behaves as a copy.\n",
            "\n",
            "For example, when doing 'df[col].method(value, inplace=True)', try using 'df.method({col: value}, inplace=True)' or df[col] = df[col].method(value) instead, to perform the operation inplace on the original object.\n",
            "\n",
            "\n",
            "  df_nulls['Income'].fillna(df_nulls['Income'].median(), inplace=True)\n"
          ]
        }
      ],
      "source": [
        "df_nulls = pd.read_csv(\"data_with_nulls.csv\")\n",
        "print(\"Original Nulls Dataset:\")\n",
        "print(df_nulls)\n",
        "\n",
        "# Fill missing values\n",
        "df_nulls['Name'].fillna('Unknown', inplace=True)\n",
        "df_nulls['Age'].fillna(df_nulls['Age'].mean(), inplace=True)\n",
        "df_nulls['Income'].fillna(df_nulls['Income'].median(), inplace=True)\n",
        "\n",
        "print(\"\\nCleaned Dataset:\")\n",
        "print(df_nulls)\n"
      ]
    },
    {
      "cell_type": "markdown",
      "source": [
        "\n",
        "\n",
        "---\n",
        "**Version 2**\n",
        "\n",
        "Here is another version of the implementation which applies the suggestions from the previous output."
      ],
      "metadata": {
        "id": "AAS9KW5eDb7t"
      },
      "id": "AAS9KW5eDb7t"
    },
    {
      "cell_type": "code",
      "metadata": {
        "colab": {
          "base_uri": "https://localhost:8080/"
        },
        "id": "5673013a-535e-477b-8988-d12f27b7455f",
        "outputId": "1d32babe-b821-4834-846a-051081e1f6d5"
      },
      "source": [
        "df_nulls_updated = pd.read_csv(\"data_with_nulls.csv\")\n",
        "print(\"Original Nulls Dataset:\")\n",
        "print(df_nulls_updated)\n",
        "\n",
        "# Fill missing values using the recommended approach\n",
        "# The previous code used inplace=True, which is being deprecated for chained assignments\n",
        "# This updated code assigns the result of fillna back to the column, which is the recommended approach.\n",
        "df_nulls_updated['Name'] = df_nulls_updated['Name'].fillna('Unknown')\n",
        "df_nulls_updated['Age'] = df_nulls_updated['Age'].fillna(df_nulls_updated['Age'].mean())\n",
        "df_nulls_updated['Income'] = df_nulls_updated['Income'].fillna(df_nulls_updated['Income'].median())\n",
        "\n",
        "print(\"\\nCleaned Dataset (Updated Code):\")\n",
        "print(df_nulls_updated)"
      ],
      "id": "5673013a-535e-477b-8988-d12f27b7455f",
      "execution_count": null,
      "outputs": [
        {
          "output_type": "stream",
          "name": "stdout",
          "text": [
            "Original Nulls Dataset:\n",
            "       Name   Age   Income\n",
            "0      Luis   NaN  81836.0\n",
            "1   Bethany  37.0  42778.0\n",
            "2   Antonio   NaN  71272.0\n",
            "3       NaN  20.0  48813.0\n",
            "4       NaN   NaN  83910.0\n",
            "5    Latoya  23.0  35218.0\n",
            "6    Andrew  27.0      NaN\n",
            "7   Michele   NaN      NaN\n",
            "8       NaN  25.0  64056.0\n",
            "9  Veronica  33.0  50847.0\n",
            "\n",
            "Cleaned Dataset (Updated Code):\n",
            "       Name   Age   Income\n",
            "0      Luis  27.5  81836.0\n",
            "1   Bethany  37.0  42778.0\n",
            "2   Antonio  27.5  71272.0\n",
            "3   Unknown  20.0  48813.0\n",
            "4   Unknown  27.5  83910.0\n",
            "5    Latoya  23.0  35218.0\n",
            "6    Andrew  27.0  57451.5\n",
            "7   Michele  27.5  57451.5\n",
            "8   Unknown  25.0  64056.0\n",
            "9  Veronica  33.0  50847.0\n"
          ]
        }
      ]
    },
    {
      "cell_type": "markdown",
      "id": "08817986",
      "metadata": {
        "id": "08817986"
      },
      "source": [
        "### Practice\n",
        "- Drop any rows where both Age and Income are missing.\n",
        "- Try filling values using interpolation: `df.interpolate()`.\n"
      ]
    },
    {
      "cell_type": "code",
      "execution_count": null,
      "id": "599ba119",
      "metadata": {
        "id": "599ba119"
      },
      "outputs": [],
      "source": [
        "# Your practice code here\n"
      ]
    },
    {
      "cell_type": "markdown",
      "id": "375d9c87",
      "metadata": {
        "id": "375d9c87"
      },
      "source": [
        "## Handling Outliers (data_with_outliers.csv)\n",
        "Next, we'll handle outliers using a salary dataset. We'll use statistical thresholds to detect and optionally remove or cap outliers.\n"
      ]
    },
    {
      "cell_type": "code",
      "execution_count": null,
      "id": "c45bf520",
      "metadata": {
        "colab": {
          "base_uri": "https://localhost:8080/"
        },
        "id": "c45bf520",
        "outputId": "25de94a4-9fef-4f39-cac4-ccc4dcf8d1e0"
      },
      "outputs": [
        {
          "output_type": "stream",
          "name": "stdout",
          "text": [
            "Outliers Dataset:\n",
            "   Salary  YearsExperience\n",
            "0   84140                8\n",
            "1   88511                5\n",
            "2   79522                9\n",
            "3   78062                4\n",
            "4   94667                8\n",
            "5   92553                1\n",
            "6   51328                3\n",
            "7   85298                8\n",
            "8  273001                1\n",
            "9  260579                6\n",
            "\n",
            "Capped Dataset:\n",
            "     Salary  YearsExperience\n",
            "0   84140.0                8\n",
            "1   88511.0                5\n",
            "2   79522.0                9\n",
            "3   78062.0                4\n",
            "4   94667.0                8\n",
            "5   92553.0                1\n",
            "6   51328.0                3\n",
            "7   85298.0                8\n",
            "8  114331.5                1\n",
            "9  114331.5                6\n"
          ]
        }
      ],
      "source": [
        "df_outliers = pd.read_csv(\"data_with_outliers.csv\")\n",
        "print(\"Outliers Dataset:\")\n",
        "print(df_outliers)\n",
        "\n",
        "# Identify outliers using IQR\n",
        "Q1 = df_outliers['Salary'].quantile(0.25)\n",
        "Q3 = df_outliers['Salary'].quantile(0.75)\n",
        "IQR = Q3 - Q1\n",
        "lower_bound = Q1 - 1.5 * IQR\n",
        "upper_bound = Q3 + 1.5 * IQR\n",
        "\n",
        "# Cap outliers\n",
        "df_outliers['Salary'] = np.where(df_outliers['Salary'] > upper_bound, upper_bound, df_outliers['Salary'])\n",
        "\n",
        "print(\"\\nCapped Dataset:\")\n",
        "print(df_outliers)\n"
      ]
    },
    {
      "cell_type": "markdown",
      "id": "598f9b78",
      "metadata": {
        "id": "598f9b78"
      },
      "source": [
        "### Practice\n",
        "- Instead of capping, try removing the outliers.\n",
        "- Try detecting outliers with Z-score using scipy.stats.zscore().\n"
      ]
    },
    {
      "cell_type": "code",
      "execution_count": null,
      "id": "6ce37b30",
      "metadata": {
        "id": "6ce37b30"
      },
      "outputs": [],
      "source": [
        "# Your practice code here\n"
      ]
    },
    {
      "cell_type": "markdown",
      "id": "8937b259",
      "metadata": {
        "id": "8937b259"
      },
      "source": [
        "## Cleaning a Mixed-Problem Dataset (data_mixed_problems.csv)\n",
        "This dataset has a mix of issues: missing values, extreme values, and inconsistent categorical data. Practice multiple techniques to clean it up.\n"
      ]
    },
    {
      "cell_type": "code",
      "execution_count": null,
      "id": "3e940fff",
      "metadata": {
        "colab": {
          "base_uri": "https://localhost:8080/"
        },
        "id": "3e940fff",
        "outputId": "a30a48c3-589b-43c0-9218-84ee05151f5d"
      },
      "outputs": [
        {
          "output_type": "stream",
          "name": "stdout",
          "text": [
            "Original Mixed Dataset Summary:\n",
            "<class 'pandas.core.frame.DataFrame'>\n",
            "RangeIndex: 50 entries, 0 to 49\n",
            "Data columns (total 5 columns):\n",
            " #   Column      Non-Null Count  Dtype  \n",
            "---  ------      --------------  -----  \n",
            " 0   Name        45 non-null     object \n",
            " 1   Age         40 non-null     float64\n",
            " 2   Income      29 non-null     float64\n",
            " 3   Department  42 non-null     object \n",
            " 4   Rating      39 non-null     float64\n",
            "dtypes: float64(3), object(2)\n",
            "memory usage: 2.1+ KB\n",
            "None\n",
            "\n",
            "Cleaned Mixed Dataset (Preview):\n",
            "      Name   Age   Income Department  Rating\n",
            "0  Stephen  40.0      NaN    Finance     1.3\n",
            "1  Shannon  42.0      NaN      Sales     3.3\n",
            "2     Anna  49.0      NaN         HR     2.1\n",
            "3  Michael  43.0  88427.0         IT     4.4\n",
            "4    Megan  44.0  85377.0      Sales     1.8\n"
          ]
        },
        {
          "output_type": "stream",
          "name": "stderr",
          "text": [
            "/tmp/ipython-input-8-4079317423.py:8: FutureWarning: A value is trying to be set on a copy of a DataFrame or Series through chained assignment using an inplace method.\n",
            "The behavior will change in pandas 3.0. This inplace method will never work because the intermediate object on which we are setting values always behaves as a copy.\n",
            "\n",
            "For example, when doing 'df[col].method(value, inplace=True)', try using 'df.method({col: value}, inplace=True)' or df[col] = df[col].method(value) instead, to perform the operation inplace on the original object.\n",
            "\n",
            "\n",
            "  df_mixed['Name'].fillna('Unknown', inplace=True)\n",
            "/tmp/ipython-input-8-4079317423.py:9: FutureWarning: A value is trying to be set on a copy of a DataFrame or Series through chained assignment using an inplace method.\n",
            "The behavior will change in pandas 3.0. This inplace method will never work because the intermediate object on which we are setting values always behaves as a copy.\n",
            "\n",
            "For example, when doing 'df[col].method(value, inplace=True)', try using 'df.method({col: value}, inplace=True)' or df[col] = df[col].method(value) instead, to perform the operation inplace on the original object.\n",
            "\n",
            "\n",
            "  df_mixed['Age'].fillna(df_mixed['Age'].median(), inplace=True)\n",
            "/tmp/ipython-input-8-4079317423.py:11: FutureWarning: A value is trying to be set on a copy of a DataFrame or Series through chained assignment using an inplace method.\n",
            "The behavior will change in pandas 3.0. This inplace method will never work because the intermediate object on which we are setting values always behaves as a copy.\n",
            "\n",
            "For example, when doing 'df[col].method(value, inplace=True)', try using 'df.method({col: value}, inplace=True)' or df[col] = df[col].method(value) instead, to perform the operation inplace on the original object.\n",
            "\n",
            "\n",
            "  df_mixed['Department'].fillna('General', inplace=True)\n",
            "/tmp/ipython-input-8-4079317423.py:12: FutureWarning: A value is trying to be set on a copy of a DataFrame or Series through chained assignment using an inplace method.\n",
            "The behavior will change in pandas 3.0. This inplace method will never work because the intermediate object on which we are setting values always behaves as a copy.\n",
            "\n",
            "For example, when doing 'df[col].method(value, inplace=True)', try using 'df.method({col: value}, inplace=True)' or df[col] = df[col].method(value) instead, to perform the operation inplace on the original object.\n",
            "\n",
            "\n",
            "  df_mixed['Rating'].fillna(df_mixed['Rating'].mean(), inplace=True)\n"
          ]
        }
      ],
      "source": [
        "df_mixed = pd.read_csv(\"data_mixed_problems.csv\")\n",
        "\n",
        "# Basic summary\n",
        "print(\"Original Mixed Dataset Summary:\")\n",
        "print(df_mixed.info())\n",
        "\n",
        "# Fix missing values\n",
        "df_mixed['Name'].fillna('Unknown', inplace=True)\n",
        "df_mixed['Age'].fillna(df_mixed['Age'].median(), inplace=True)\n",
        "df_mixed['Income'] = np.where(df_mixed['Income'] > 150000, df_mixed['Income'].median(), df_mixed['Income'])\n",
        "df_mixed['Department'].fillna('General', inplace=True)\n",
        "df_mixed['Rating'].fillna(df_mixed['Rating'].mean(), inplace=True)\n",
        "\n",
        "print(\"\\nCleaned Mixed Dataset (Preview):\")\n",
        "print(df_mixed.head())\n"
      ]
    },
    {
      "cell_type": "markdown",
      "source": [
        "\n",
        "\n",
        "---\n",
        "\n",
        "Here is another version of the implementation which applies the suggestions from the prvious output.\n",
        "\n"
      ],
      "metadata": {
        "id": "EcrFr0rzERG9"
      },
      "id": "EcrFr0rzERG9"
    },
    {
      "cell_type": "code",
      "metadata": {
        "colab": {
          "base_uri": "https://localhost:8080/"
        },
        "id": "f47222c6-7241-4992-9967-e2568a2e33c5",
        "outputId": "40ba50cd-9292-4559-fea7-53353a35a054"
      },
      "source": [
        "df_mixed_updated = pd.read_csv(\"data_mixed_problems.csv\")\n",
        "\n",
        "# Basic summary\n",
        "print(\"Original Mixed Dataset Summary:\")\n",
        "print(df_mixed_updated.info())\n",
        "\n",
        "# Fix missing values using the recommended approach (assigning the result)\n",
        "# Replacing inplace=True with assignment to avoid FutureWarning.\n",
        "df_mixed_updated['Name'] = df_mixed_updated['Name'].fillna('Unknown')\n",
        "# Replacing inplace=True with assignment to avoid FutureWarning.\n",
        "df_mixed_updated['Age'] = df_mixed_updated['Age'].fillna(df_mixed_updated['Age'].median())\n",
        "# Handling outliers in Income by capping\n",
        "df_mixed_updated['Income'] = np.where(df_mixed_updated['Income'] > 150000, df_mixed_updated['Income'].median(), df_mixed_updated['Income'])\n",
        "# Replacing inplace=True with assignment to avoid FutureWarning.\n",
        "df_mixed_updated['Department'] = df_mixed_updated['Department'].fillna('General')\n",
        "# Replacing inplace=True with assignment to avoid FutureWarning.\n",
        "df_mixed_updated['Rating'] = df_mixed_updated['Rating'].fillna(df_mixed_updated['Rating'].mean())\n",
        "\n",
        "\n",
        "print(\"\\nCleaned Mixed Dataset (Preview - Updated Code):\")\n",
        "print(df_mixed_updated.head())"
      ],
      "id": "f47222c6-7241-4992-9967-e2568a2e33c5",
      "execution_count": null,
      "outputs": [
        {
          "output_type": "stream",
          "name": "stdout",
          "text": [
            "Original Mixed Dataset Summary:\n",
            "<class 'pandas.core.frame.DataFrame'>\n",
            "RangeIndex: 50 entries, 0 to 49\n",
            "Data columns (total 5 columns):\n",
            " #   Column      Non-Null Count  Dtype  \n",
            "---  ------      --------------  -----  \n",
            " 0   Name        45 non-null     object \n",
            " 1   Age         40 non-null     float64\n",
            " 2   Income      29 non-null     float64\n",
            " 3   Department  42 non-null     object \n",
            " 4   Rating      39 non-null     float64\n",
            "dtypes: float64(3), object(2)\n",
            "memory usage: 2.1+ KB\n",
            "None\n",
            "\n",
            "Cleaned Mixed Dataset (Preview - Updated Code):\n",
            "      Name   Age   Income Department  Rating\n",
            "0  Stephen  40.0      NaN    Finance     1.3\n",
            "1  Shannon  42.0      NaN      Sales     3.3\n",
            "2     Anna  49.0      NaN         HR     2.1\n",
            "3  Michael  43.0  88427.0         IT     4.4\n",
            "4    Megan  44.0  85377.0      Sales     1.8\n"
          ]
        }
      ]
    },
    {
      "cell_type": "markdown",
      "id": "e8c249cd",
      "metadata": {
        "id": "e8c249cd"
      },
      "source": [
        "### Practice\n",
        "- Create a new column that categorizes Income (e.g., Low, Medium, High).\n",
        "- Normalize Rating and Age columns.\n",
        "- Save the cleaned dataset to a new CSV file.\n"
      ]
    },
    {
      "cell_type": "code",
      "execution_count": null,
      "id": "df808d6f",
      "metadata": {
        "id": "df808d6f"
      },
      "outputs": [],
      "source": [
        "# Your practice code here\n"
      ]
    }
  ],
  "metadata": {
    "colab": {
      "provenance": [],
      "toc_visible": true
    },
    "language_info": {
      "name": "python"
    },
    "kernelspec": {
      "name": "python3",
      "display_name": "Python 3"
    }
  },
  "nbformat": 4,
  "nbformat_minor": 5
}