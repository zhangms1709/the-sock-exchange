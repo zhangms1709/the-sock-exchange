{
  "cells": [
    {
      "cell_type": "markdown",
      "id": "e1265448",
      "metadata": {
        "id": "e1265448"
      },
      "source": [
        "# Exercise 1b - Pandas Basics"
      ]
    },
    {
      "cell_type": "markdown",
      "id": "4835a045",
      "metadata": {
        "id": "4835a045"
      },
      "source": [
        "### Getting Started with Pandas and DataFrames\n",
        "Pandas is a powerful Python library for data manipulation and analysis. Its core data structures are Series (1D) and DataFrame (2D).\n",
        "\n",
        "**Why use Pandas?**\n",
        "- Easy data exploration and cleaning.\n",
        "- Integration with NumPy and Matplotlib.\n",
        "- Tools for reading, writing, filtering, and transforming data.\n",
        "\n",
        "**DataFrame Capabilities:**\n",
        "- Intuitive access to rows/columns by label or index.\n",
        "- Built-in functions for statistics and transformation.\n",
        "\n",
        "In this exercise, you'll create a simple DataFrame, explore it, and apply filters.\n"
      ]
    },
    {
      "cell_type": "code",
      "execution_count": 1,
      "id": "90679683",
      "metadata": {
        "colab": {
          "base_uri": "https://localhost:8080/"
        },
        "id": "90679683",
        "outputId": "8e269dad-4377-4f1f-9a1e-dd07cfc0e17c"
      },
      "outputs": [
        {
          "name": "stdout",
          "output_type": "stream",
          "text": [
            "      Name  Score  Passed\n",
            "0    Alice     85    True\n",
            "1      Bob     92    True\n",
            "2  Charlie     78   False\n",
            "3    David     90    True\n",
            "           Score\n",
            "count   4.000000\n",
            "mean   86.250000\n",
            "std     6.238322\n",
            "min    78.000000\n",
            "25%    83.250000\n",
            "50%    87.500000\n",
            "75%    90.500000\n",
            "max    92.000000\n",
            "Students scoring above 80:\n",
            "    Name  Score  Passed\n",
            "0  Alice     85    True\n",
            "1    Bob     92    True\n",
            "3  David     90    True\n"
          ]
        }
      ],
      "source": [
        "import pandas as pd\n",
        "\n",
        "# Create a sample dataset\n",
        "data = {\n",
        "    'Name': ['Alice', 'Bob', 'Charlie', 'David'],\n",
        "    'Score': [85, 92, 78, 90],\n",
        "    'Passed': [True, True, False, True]\n",
        "}\n",
        "\n",
        "df = pd.DataFrame(data)\n",
        "\n",
        "# Show structure and data\n",
        "print(df.head())\n",
        "print(df.describe())\n",
        "\n",
        "# Filter students with Score > 80\n",
        "print(\"Students scoring above 80:\")\n",
        "print(df[df['Score'] > 80])\n"
      ]
    },
    {
      "cell_type": "markdown",
      "id": "58f3e211",
      "metadata": {
        "id": "58f3e211"
      },
      "source": [
        "### Practice\n",
        "Apply what you've learned by modifying the code or writing your own version.\n",
        "\n",
        "- Try creating a different shape of ndarray.\n",
        "- Filter DataFrame rows using a different condition.\n",
        "- Fill missing values using the median instead of the mean.\n",
        "- Create a new column based on existing ones."
      ]
    },
    {
      "cell_type": "code",
      "execution_count": null,
      "id": "7f5846fa",
      "metadata": {
        "id": "7f5846fa"
      },
      "outputs": [],
      "source": [
        "# Your practice code here\n"
      ]
    },
    {
      "cell_type": "markdown",
      "id": "59f9ce06",
      "metadata": {
        "id": "59f9ce06"
      },
      "source": [
        "### Handling Missing Data with Pandas\n",
        "Missing data is common in real-world datasets. Pandas provides methods to detect and fill or remove missing values.\n",
        "\n",
        "**Handling Strategies:**\n",
        "- Remove missing values (`dropna()`).\n",
        "- Replace missing values with a fixed value or statistic (`fillna()`).\n",
        "- Analyze the impact of missing data.\n",
        "\n",
        "In this exercise, you’ll practice these techniques using a DataFrame with missing entries.\n"
      ]
    },
    {
      "cell_type": "code",
      "execution_count": null,
      "id": "2136010e",
      "metadata": {
        "colab": {
          "base_uri": "https://localhost:8080/"
        },
        "id": "2136010e",
        "outputId": "b55dddf8-a78b-4f34-f520-e61737d7516d"
      },
      "outputs": [
        {
          "name": "stdout",
          "output_type": "stream",
          "text": [
            "Original DataFrame:\n",
            "     A    B\n",
            "0  1.0  NaN\n",
            "1  2.0  2.0\n",
            "2  NaN  3.0\n",
            "3  4.0  4.0\n",
            "DataFrame after filling missing values:\n",
            "          A    B\n",
            "0  1.000000  3.0\n",
            "1  2.000000  2.0\n",
            "2  2.333333  3.0\n",
            "3  4.000000  4.0\n"
          ]
        }
      ],
      "source": [
        "import pandas as pd\n",
        "import numpy as np\n",
        "\n",
        "# Create a DataFrame with NaNs\n",
        "data = {\n",
        "    'A': [1, 2, np.nan, 4],\n",
        "    'B': [np.nan, 2, 3, 4]\n",
        "}\n",
        "\n",
        "df = pd.DataFrame(data)\n",
        "\n",
        "print(\"Original DataFrame:\")\n",
        "print(df)\n",
        "\n",
        "# Fill missing values with column mean\n",
        "df_filled = df.fillna(df.mean(numeric_only=True))\n",
        "\n",
        "print(\"DataFrame after filling missing values:\")\n",
        "print(df_filled)\n"
      ]
    },
    {
      "cell_type": "markdown",
      "id": "d7b02541",
      "metadata": {
        "id": "d7b02541"
      },
      "source": [
        "### Practice\n",
        "Apply what you've learned by modifying the code or writing your own version.\n",
        "\n",
        "- Try creating a different shape of ndarray.\n",
        "- Filter DataFrame rows using a different condition.\n",
        "- Fill missing values using the median instead of the mean.\n",
        "- Create a new column based on existing ones."
      ]
    },
    {
      "cell_type": "code",
      "execution_count": null,
      "id": "91232fd5",
      "metadata": {
        "id": "91232fd5"
      },
      "outputs": [],
      "source": [
        "# Your practice code here\n"
      ]
    }
  ],
  "metadata": {
    "colab": {
      "provenance": []
    },
    "kernelspec": {
      "display_name": "Python 3",
      "name": "python3"
    },
    "language_info": {
      "codemirror_mode": {
        "name": "ipython",
        "version": 3
      },
      "file_extension": ".py",
      "mimetype": "text/x-python",
      "name": "python",
      "nbconvert_exporter": "python",
      "pygments_lexer": "ipython3",
      "version": "3.12.3"
    }
  },
  "nbformat": 4,
  "nbformat_minor": 5
}
