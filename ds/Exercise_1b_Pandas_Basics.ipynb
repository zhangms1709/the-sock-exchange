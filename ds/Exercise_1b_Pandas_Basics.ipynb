{
  "cells": [
    {
      "cell_type": "markdown",
      "id": "e1265448",
      "metadata": {
        "id": "e1265448"
      },
      "source": [
        "# Exercise 1b - Pandas Basics"
      ]
    },
    {
      "cell_type": "markdown",
      "id": "4835a045",
      "metadata": {
        "id": "4835a045"
      },
      "source": [
        "### Getting Started with Pandas and DataFrames\n",
        "Pandas is a powerful Python library for data manipulation and analysis. Its core data structures are Series (1D) and DataFrame (2D).\n",
        "\n",
        "**Why use Pandas?**\n",
        "- Easy data exploration and cleaning.\n",
        "- Integration with NumPy and Matplotlib.\n",
        "- Tools for reading, writing, filtering, and transforming data.\n",
        "\n",
        "**DataFrame Capabilities:**\n",
        "- Intuitive access to rows/columns by label or index.\n",
        "- Built-in functions for statistics and transformation.\n",
        "\n",
        "In this exercise, you'll create a simple DataFrame, explore it, and apply filters.\n"
      ]
    },
    {
      "cell_type": "code",
      "execution_count": 29,
      "id": "90679683",
      "metadata": {
        "colab": {
          "base_uri": "https://localhost:8080/"
        },
        "id": "90679683",
        "outputId": "8e269dad-4377-4f1f-9a1e-dd07cfc0e17c"
      },
      "outputs": [
        {
          "name": "stdout",
          "output_type": "stream",
          "text": [
            "      Name  Score  Passed\n",
            "0    Alice   85.0    True\n",
            "1      Bob   92.0    True\n",
            "2  Charlie   78.0   False\n",
            "3    David   90.0    True\n",
            "4   Edward    NaN    True\n",
            "           Score\n",
            "count   4.000000\n",
            "mean   86.250000\n",
            "std     6.238322\n",
            "min    78.000000\n",
            "25%    83.250000\n",
            "50%    87.500000\n",
            "75%    90.500000\n",
            "max    92.000000\n",
            "Students scoring above 80:\n",
            "    Name  Score  Passed\n",
            "0  Alice   85.0    True\n",
            "1    Bob   92.0    True\n",
            "3  David   90.0    True\n"
          ]
        }
      ],
      "source": [
        "import pandas as pd\n",
        "import numpy as np\n",
        "\n",
        "# Create a sample dataset\n",
        "data = {\n",
        "    'Name': ['Alice', 'Bob', 'Charlie', 'David', 'Edward'],\n",
        "    'Score': [85, 92, 78, 90, np.nan],\n",
        "    'Passed': [True, True, False, True, True]\n",
        "}\n",
        "\n",
        "df = pd.DataFrame(data)\n",
        "\n",
        "# Show structure and data\n",
        "print(df.head())\n",
        "print(df.describe())\n",
        "\n",
        "# Filter students with Score > 80\n",
        "print(\"Students scoring above 80:\")\n",
        "print(df[df['Score'] > 80])\n"
      ]
    },
    {
      "cell_type": "markdown",
      "id": "58f3e211",
      "metadata": {
        "id": "58f3e211"
      },
      "source": [
        "### Practice\n",
        "Apply what you've learned by modifying the code or writing your own version.\n",
        "\n",
        "- Try creating a different shape of ndarray.\n",
        "- Filter DataFrame rows using a different condition.\n",
        "- Fill missing values using the median instead of the mean.\n",
        "- Create a new column based on existing ones."
      ]
    },
    {
      "cell_type": "code",
      "execution_count": 3,
      "id": "7f5846fa",
      "metadata": {
        "id": "7f5846fa"
      },
      "outputs": [
        {
          "data": {
            "text/html": [
              "<div>\n",
              "<style scoped>\n",
              "    .dataframe tbody tr th:only-of-type {\n",
              "        vertical-align: middle;\n",
              "    }\n",
              "\n",
              "    .dataframe tbody tr th {\n",
              "        vertical-align: top;\n",
              "    }\n",
              "\n",
              "    .dataframe thead th {\n",
              "        text-align: right;\n",
              "    }\n",
              "</style>\n",
              "<table border=\"1\" class=\"dataframe\">\n",
              "  <thead>\n",
              "    <tr style=\"text-align: right;\">\n",
              "      <th></th>\n",
              "      <th>Name</th>\n",
              "      <th>Score</th>\n",
              "      <th>Passed</th>\n",
              "    </tr>\n",
              "  </thead>\n",
              "  <tbody>\n",
              "    <tr>\n",
              "      <th>2</th>\n",
              "      <td>Charlie</td>\n",
              "      <td>78</td>\n",
              "      <td>False</td>\n",
              "    </tr>\n",
              "  </tbody>\n",
              "</table>\n",
              "</div>"
            ],
            "text/plain": [
              "      Name  Score  Passed\n",
              "2  Charlie     78   False"
            ]
          },
          "execution_count": 3,
          "metadata": {},
          "output_type": "execute_result"
        }
      ],
      "source": [
        "# Your practice code here\n",
        "df[df['Passed']==False]"
      ]
    },
    {
      "cell_type": "code",
      "execution_count": 30,
      "id": "581154af",
      "metadata": {},
      "outputs": [
        {
          "data": {
            "text/html": [
              "<div>\n",
              "<style scoped>\n",
              "    .dataframe tbody tr th:only-of-type {\n",
              "        vertical-align: middle;\n",
              "    }\n",
              "\n",
              "    .dataframe tbody tr th {\n",
              "        vertical-align: top;\n",
              "    }\n",
              "\n",
              "    .dataframe thead th {\n",
              "        text-align: right;\n",
              "    }\n",
              "</style>\n",
              "<table border=\"1\" class=\"dataframe\">\n",
              "  <thead>\n",
              "    <tr style=\"text-align: right;\">\n",
              "      <th></th>\n",
              "      <th>Name</th>\n",
              "      <th>Score</th>\n",
              "      <th>Passed</th>\n",
              "    </tr>\n",
              "  </thead>\n",
              "  <tbody>\n",
              "    <tr>\n",
              "      <th>0</th>\n",
              "      <td>Alice</td>\n",
              "      <td>85.0</td>\n",
              "      <td>True</td>\n",
              "    </tr>\n",
              "    <tr>\n",
              "      <th>1</th>\n",
              "      <td>Bob</td>\n",
              "      <td>92.0</td>\n",
              "      <td>True</td>\n",
              "    </tr>\n",
              "    <tr>\n",
              "      <th>2</th>\n",
              "      <td>Charlie</td>\n",
              "      <td>78.0</td>\n",
              "      <td>False</td>\n",
              "    </tr>\n",
              "    <tr>\n",
              "      <th>3</th>\n",
              "      <td>David</td>\n",
              "      <td>90.0</td>\n",
              "      <td>True</td>\n",
              "    </tr>\n",
              "  </tbody>\n",
              "</table>\n",
              "</div>"
            ],
            "text/plain": [
              "      Name  Score  Passed\n",
              "0    Alice   85.0    True\n",
              "1      Bob   92.0    True\n",
              "2  Charlie   78.0   False\n",
              "3    David   90.0    True"
            ]
          },
          "execution_count": 30,
          "metadata": {},
          "output_type": "execute_result"
        }
      ],
      "source": [
        "df[df['Score'] > 0]"
      ]
    },
    {
      "cell_type": "code",
      "execution_count": 31,
      "id": "6d79f729",
      "metadata": {},
      "outputs": [
        {
          "name": "stdout",
          "output_type": "stream",
          "text": [
            "87.5\n"
          ]
        },
        {
          "data": {
            "text/html": [
              "<div>\n",
              "<style scoped>\n",
              "    .dataframe tbody tr th:only-of-type {\n",
              "        vertical-align: middle;\n",
              "    }\n",
              "\n",
              "    .dataframe tbody tr th {\n",
              "        vertical-align: top;\n",
              "    }\n",
              "\n",
              "    .dataframe thead th {\n",
              "        text-align: right;\n",
              "    }\n",
              "</style>\n",
              "<table border=\"1\" class=\"dataframe\">\n",
              "  <thead>\n",
              "    <tr style=\"text-align: right;\">\n",
              "      <th></th>\n",
              "      <th>Name</th>\n",
              "      <th>Score</th>\n",
              "      <th>Passed</th>\n",
              "    </tr>\n",
              "  </thead>\n",
              "  <tbody>\n",
              "    <tr>\n",
              "      <th>0</th>\n",
              "      <td>Alice</td>\n",
              "      <td>85.0</td>\n",
              "      <td>True</td>\n",
              "    </tr>\n",
              "    <tr>\n",
              "      <th>1</th>\n",
              "      <td>Bob</td>\n",
              "      <td>92.0</td>\n",
              "      <td>True</td>\n",
              "    </tr>\n",
              "    <tr>\n",
              "      <th>2</th>\n",
              "      <td>Charlie</td>\n",
              "      <td>78.0</td>\n",
              "      <td>False</td>\n",
              "    </tr>\n",
              "    <tr>\n",
              "      <th>3</th>\n",
              "      <td>David</td>\n",
              "      <td>90.0</td>\n",
              "      <td>True</td>\n",
              "    </tr>\n",
              "    <tr>\n",
              "      <th>4</th>\n",
              "      <td>Edward</td>\n",
              "      <td>87.5</td>\n",
              "      <td>True</td>\n",
              "    </tr>\n",
              "  </tbody>\n",
              "</table>\n",
              "</div>"
            ],
            "text/plain": [
              "      Name  Score  Passed\n",
              "0    Alice   85.0    True\n",
              "1      Bob   92.0    True\n",
              "2  Charlie   78.0   False\n",
              "3    David   90.0    True\n",
              "4   Edward   87.5    True"
            ]
          },
          "execution_count": 31,
          "metadata": {},
          "output_type": "execute_result"
        }
      ],
      "source": [
        "med = df['Score'].median()\n",
        "df.fillna(med, inplace=True)\n",
        "df"
      ]
    },
    {
      "cell_type": "code",
      "execution_count": 33,
      "id": "51ae6904",
      "metadata": {},
      "outputs": [
        {
          "name": "stdout",
          "output_type": "stream",
          "text": [
            "<class 'pandas.core.frame.DataFrame'>\n",
            "RangeIndex: 5 entries, 0 to 4\n",
            "Data columns (total 3 columns):\n",
            " #   Column  Non-Null Count  Dtype  \n",
            "---  ------  --------------  -----  \n",
            " 0   Name    5 non-null      object \n",
            " 1   Score   5 non-null      float64\n",
            " 2   Passed  5 non-null      bool   \n",
            "dtypes: bool(1), float64(1), object(1)\n",
            "memory usage: 217.0+ bytes\n"
          ]
        }
      ],
      "source": [
        "df.info()"
      ]
    },
    {
      "cell_type": "code",
      "execution_count": 34,
      "id": "44b2d997",
      "metadata": {},
      "outputs": [
        {
          "data": {
            "text/html": [
              "<div>\n",
              "<style scoped>\n",
              "    .dataframe tbody tr th:only-of-type {\n",
              "        vertical-align: middle;\n",
              "    }\n",
              "\n",
              "    .dataframe tbody tr th {\n",
              "        vertical-align: top;\n",
              "    }\n",
              "\n",
              "    .dataframe thead th {\n",
              "        text-align: right;\n",
              "    }\n",
              "</style>\n",
              "<table border=\"1\" class=\"dataframe\">\n",
              "  <thead>\n",
              "    <tr style=\"text-align: right;\">\n",
              "      <th></th>\n",
              "      <th>Name</th>\n",
              "      <th>Score</th>\n",
              "      <th>Passed</th>\n",
              "    </tr>\n",
              "  </thead>\n",
              "  <tbody>\n",
              "    <tr>\n",
              "      <th>0</th>\n",
              "      <td>Alice</td>\n",
              "      <td>85.0</td>\n",
              "      <td>True</td>\n",
              "    </tr>\n",
              "    <tr>\n",
              "      <th>1</th>\n",
              "      <td>Bob</td>\n",
              "      <td>92.0</td>\n",
              "      <td>True</td>\n",
              "    </tr>\n",
              "    <tr>\n",
              "      <th>2</th>\n",
              "      <td>Charlie</td>\n",
              "      <td>78.0</td>\n",
              "      <td>False</td>\n",
              "    </tr>\n",
              "    <tr>\n",
              "      <th>3</th>\n",
              "      <td>David</td>\n",
              "      <td>90.0</td>\n",
              "      <td>True</td>\n",
              "    </tr>\n",
              "    <tr>\n",
              "      <th>4</th>\n",
              "      <td>Edward</td>\n",
              "      <td>87.5</td>\n",
              "      <td>True</td>\n",
              "    </tr>\n",
              "  </tbody>\n",
              "</table>\n",
              "</div>"
            ],
            "text/plain": [
              "      Name  Score  Passed\n",
              "0    Alice   85.0    True\n",
              "1      Bob   92.0    True\n",
              "2  Charlie   78.0   False\n",
              "3    David   90.0    True\n",
              "4   Edward   87.5    True"
            ]
          },
          "execution_count": 34,
          "metadata": {},
          "output_type": "execute_result"
        }
      ],
      "source": [
        "df.head()"
      ]
    },
    {
      "cell_type": "code",
      "execution_count": 32,
      "id": "e69f0857",
      "metadata": {},
      "outputs": [
        {
          "data": {
            "text/html": [
              "<div>\n",
              "<style scoped>\n",
              "    .dataframe tbody tr th:only-of-type {\n",
              "        vertical-align: middle;\n",
              "    }\n",
              "\n",
              "    .dataframe tbody tr th {\n",
              "        vertical-align: top;\n",
              "    }\n",
              "\n",
              "    .dataframe thead th {\n",
              "        text-align: right;\n",
              "    }\n",
              "</style>\n",
              "<table border=\"1\" class=\"dataframe\">\n",
              "  <thead>\n",
              "    <tr style=\"text-align: right;\">\n",
              "      <th></th>\n",
              "      <th>Score</th>\n",
              "    </tr>\n",
              "  </thead>\n",
              "  <tbody>\n",
              "    <tr>\n",
              "      <th>count</th>\n",
              "      <td>5.00000</td>\n",
              "    </tr>\n",
              "    <tr>\n",
              "      <th>mean</th>\n",
              "      <td>86.50000</td>\n",
              "    </tr>\n",
              "    <tr>\n",
              "      <th>std</th>\n",
              "      <td>5.43139</td>\n",
              "    </tr>\n",
              "    <tr>\n",
              "      <th>min</th>\n",
              "      <td>78.00000</td>\n",
              "    </tr>\n",
              "    <tr>\n",
              "      <th>25%</th>\n",
              "      <td>85.00000</td>\n",
              "    </tr>\n",
              "    <tr>\n",
              "      <th>50%</th>\n",
              "      <td>87.50000</td>\n",
              "    </tr>\n",
              "    <tr>\n",
              "      <th>75%</th>\n",
              "      <td>90.00000</td>\n",
              "    </tr>\n",
              "    <tr>\n",
              "      <th>max</th>\n",
              "      <td>92.00000</td>\n",
              "    </tr>\n",
              "  </tbody>\n",
              "</table>\n",
              "</div>"
            ],
            "text/plain": [
              "          Score\n",
              "count   5.00000\n",
              "mean   86.50000\n",
              "std     5.43139\n",
              "min    78.00000\n",
              "25%    85.00000\n",
              "50%    87.50000\n",
              "75%    90.00000\n",
              "max    92.00000"
            ]
          },
          "execution_count": 32,
          "metadata": {},
          "output_type": "execute_result"
        }
      ],
      "source": [
        "df.describe()"
      ]
    },
    {
      "cell_type": "code",
      "execution_count": 27,
      "id": "ece212e8",
      "metadata": {},
      "outputs": [
        {
          "data": {
            "text/html": [
              "<div>\n",
              "<style scoped>\n",
              "    .dataframe tbody tr th:only-of-type {\n",
              "        vertical-align: middle;\n",
              "    }\n",
              "\n",
              "    .dataframe tbody tr th {\n",
              "        vertical-align: top;\n",
              "    }\n",
              "\n",
              "    .dataframe thead th {\n",
              "        text-align: right;\n",
              "    }\n",
              "</style>\n",
              "<table border=\"1\" class=\"dataframe\">\n",
              "  <thead>\n",
              "    <tr style=\"text-align: right;\">\n",
              "      <th></th>\n",
              "      <th>Name</th>\n",
              "      <th>Score</th>\n",
              "      <th>Passed</th>\n",
              "    </tr>\n",
              "  </thead>\n",
              "  <tbody>\n",
              "    <tr>\n",
              "      <th>0</th>\n",
              "      <td>Alice</td>\n",
              "      <td>0.850</td>\n",
              "      <td>True</td>\n",
              "    </tr>\n",
              "    <tr>\n",
              "      <th>1</th>\n",
              "      <td>Bob</td>\n",
              "      <td>0.920</td>\n",
              "      <td>True</td>\n",
              "    </tr>\n",
              "    <tr>\n",
              "      <th>2</th>\n",
              "      <td>Charlie</td>\n",
              "      <td>0.780</td>\n",
              "      <td>False</td>\n",
              "    </tr>\n",
              "    <tr>\n",
              "      <th>3</th>\n",
              "      <td>David</td>\n",
              "      <td>0.900</td>\n",
              "      <td>True</td>\n",
              "    </tr>\n",
              "    <tr>\n",
              "      <th>4</th>\n",
              "      <td>Edward</td>\n",
              "      <td>0.875</td>\n",
              "      <td>True</td>\n",
              "    </tr>\n",
              "  </tbody>\n",
              "</table>\n",
              "</div>"
            ],
            "text/plain": [
              "      Name  Score  Passed\n",
              "0    Alice  0.850    True\n",
              "1      Bob  0.920    True\n",
              "2  Charlie  0.780   False\n",
              "3    David  0.900    True\n",
              "4   Edward  0.875    True"
            ]
          },
          "execution_count": 27,
          "metadata": {},
          "output_type": "execute_result"
        }
      ],
      "source": [
        "df['Score'] = df['Score'].apply(lambda x: x / 100)\n",
        "df"
      ]
    },
    {
      "cell_type": "markdown",
      "id": "59f9ce06",
      "metadata": {
        "id": "59f9ce06"
      },
      "source": [
        "### Handling Missing Data with Pandas\n",
        "Missing data is common in real-world datasets. Pandas provides methods to detect and fill or remove missing values.\n",
        "\n",
        "**Handling Strategies:**\n",
        "- Remove missing values (`dropna()`).\n",
        "- Replace missing values with a fixed value or statistic (`fillna()`).\n",
        "- Analyze the impact of missing data.\n",
        "\n",
        "In this exercise, you’ll practice these techniques using a DataFrame with missing entries.\n"
      ]
    },
    {
      "cell_type": "code",
      "execution_count": 2,
      "id": "2136010e",
      "metadata": {
        "colab": {
          "base_uri": "https://localhost:8080/"
        },
        "id": "2136010e",
        "outputId": "b55dddf8-a78b-4f34-f520-e61737d7516d"
      },
      "outputs": [
        {
          "name": "stdout",
          "output_type": "stream",
          "text": [
            "Original DataFrame:\n",
            "     A    B\n",
            "0  1.0  NaN\n",
            "1  2.0  2.0\n",
            "2  NaN  3.0\n",
            "3  4.0  4.0\n",
            "DataFrame after filling missing values:\n",
            "          A    B\n",
            "0  1.000000  3.0\n",
            "1  2.000000  2.0\n",
            "2  2.333333  3.0\n",
            "3  4.000000  4.0\n"
          ]
        }
      ],
      "source": [
        "import pandas as pd\n",
        "import numpy as np\n",
        "\n",
        "# Create a DataFrame with NaNs\n",
        "data = {\n",
        "    'A': [1, 2, np.nan, 4],\n",
        "    'B': [np.nan, 2, 3, 4]\n",
        "}\n",
        "\n",
        "df = pd.DataFrame(data)\n",
        "\n",
        "print(\"Original DataFrame:\")\n",
        "print(df)\n",
        "\n",
        "# Fill missing values with column mean\n",
        "df_filled = df.fillna(df.mean(numeric_only=True))\n",
        "\n",
        "print(\"DataFrame after filling missing values:\")\n",
        "print(df_filled)\n"
      ]
    }
  ],
  "metadata": {
    "colab": {
      "provenance": []
    },
    "kernelspec": {
      "display_name": "Python 3",
      "name": "python3"
    },
    "language_info": {
      "codemirror_mode": {
        "name": "ipython",
        "version": 3
      },
      "file_extension": ".py",
      "mimetype": "text/x-python",
      "name": "python",
      "nbconvert_exporter": "python",
      "pygments_lexer": "ipython3",
      "version": "3.12.3"
    }
  },
  "nbformat": 4,
  "nbformat_minor": 5
}
