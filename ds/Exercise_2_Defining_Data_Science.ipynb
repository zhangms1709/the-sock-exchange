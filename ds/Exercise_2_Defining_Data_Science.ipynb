{
  "cells": [
    {
      "cell_type": "markdown",
      "id": "881568ff",
      "metadata": {
        "id": "881568ff"
      },
      "source": [
        "# Exercise 2 - Defining Data Science"
      ]
    },
    {
      "cell_type": "markdown",
      "id": "12b8d9ae",
      "metadata": {
        "id": "12b8d9ae"
      },
      "source": [
        "## What is Data Science?\n",
        "**Data Science** is an interdisciplinary field that combines computer science, statistics, and domain knowledge to extract meaningful insights from data.\n",
        "\n",
        "**Use Cases of Data Science:**\n",
        "- Recommender systems (Netflix, Amazon)\n",
        "- Fraud detection (banking)\n",
        "- Predictive maintenance (manufacturing)\n",
        "- Health monitoring and diagnostics (healthcare)\n",
        "\n",
        "In this exercise, we’ll explore what data science involves and identify key roles in a typical data science team.\n"
      ]
    },
    {
      "cell_type": "code",
      "execution_count": 1,
      "id": "263459f9",
      "metadata": {
        "id": "263459f9"
      },
      "outputs": [
        {
          "name": "stdout",
          "output_type": "stream",
          "text": [
            "Data Collection: Gathering raw data from sources like databases, sensors, APIs.\n",
            "Data Cleaning: Removing inconsistencies, handling missing values, correcting errors.\n",
            "Exploratory Analysis: Identifying trends, patterns, and summaries using statistics and visualization.\n",
            "Modeling: Training machine learning models to make predictions or classifications.\n",
            "Deployment: Integrating models into real-world systems for production use.\n"
          ]
        }
      ],
      "source": [
        "# Key components of Data Science\n",
        "components = {\n",
        "    \"Data Collection\": \"Gathering raw data from sources like databases, sensors, APIs.\",\n",
        "    \"Data Cleaning\": \"Removing inconsistencies, handling missing values, correcting errors.\",\n",
        "    \"Exploratory Analysis\": \"Identifying trends, patterns, and summaries using statistics and visualization.\",\n",
        "    \"Modeling\": \"Training machine learning models to make predictions or classifications.\",\n",
        "    \"Deployment\": \"Integrating models into real-world systems for production use.\"\n",
        "}\n",
        "\n",
        "for stage, description in components.items():\n",
        "    print(f\"{stage}: {description}\")\n"
      ]
    },
    {
      "cell_type": "markdown",
      "id": "30ec0731",
      "metadata": {
        "id": "30ec0731"
      },
      "source": [
        "### Practice\n",
        "- Define an example data science problem for your area of interest.\n",
        "- List how each stage of the data science workflow would apply to that problem.\n"
      ]
    },
    {
      "cell_type": "markdown",
      "id": "76a517c9",
      "metadata": {},
      "source": [
        "An example data science problem is classifying tumors based off of tissue slice images.\n",
        "- For data collection, one would have to access NIH, UK, and private institute databases to source data\n",
        "- For data cleaning, the data may be in different formats so they have to be made consistent\n",
        "- For exploratory analysis, one can run a PCA on the ground truth\n",
        "- For modellng, one can use a convolutional neural network\n",
        "- For deployment, one can make the model available via API"
      ]
    },
    {
      "cell_type": "markdown",
      "id": "29dea11a",
      "metadata": {
        "id": "29dea11a"
      },
      "source": [
        "## Roles in a Data Science Team\n",
        "A data science project often involves multiple specialists working together:\n",
        "\n",
        "- **Data Scientist**: Builds models and interprets results\n",
        "- **Data Engineer**: Prepares scalable infrastructure and data pipelines\n",
        "- **ML Engineer**: Deploys and manages machine learning models\n",
        "- **Domain Expert**: Provides business or industry knowledge\n",
        "- **Data Analyst**: Focuses on visualizations and BI-style reports\n",
        "\n",
        "Understanding each role helps clarify responsibilities in real projects.\n"
      ]
    },
    {
      "cell_type": "code",
      "execution_count": 2,
      "id": "6778e5af",
      "metadata": {
        "id": "6778e5af"
      },
      "outputs": [
        {
          "name": "stdout",
          "output_type": "stream",
          "text": [
            "Key Roles in a Data Science Team:\n",
            "Data Scientist: Analyzes data and builds predictive models.\n",
            "Data Engineer: Develops data pipelines and manages data flow.\n",
            "ML Engineer: Deploys machine learning models in production.\n",
            "Domain Expert: Brings subject matter knowledge.\n",
            "Data Analyst: Creates dashboards and performs trend analysis.\n"
          ]
        }
      ],
      "source": [
        "roles = {\n",
        "    \"Data Scientist\": \"Analyzes data and builds predictive models.\",\n",
        "    \"Data Engineer\": \"Develops data pipelines and manages data flow.\",\n",
        "    \"ML Engineer\": \"Deploys machine learning models in production.\",\n",
        "    \"Domain Expert\": \"Brings subject matter knowledge.\",\n",
        "    \"Data Analyst\": \"Creates dashboards and performs trend analysis.\"\n",
        "}\n",
        "\n",
        "print(\"Key Roles in a Data Science Team:\")\n",
        "for role, job in roles.items():\n",
        "    print(f\"{role}: {job}\")\n"
      ]
    },
    {
      "cell_type": "markdown",
      "id": "2fed63e5",
      "metadata": {
        "id": "2fed63e5"
      },
      "source": [
        "### Practice\n",
        "- Which of these roles most interests you?\n",
        "- What skills are required for that role?\n",
        "- Can you find a real-world job posting that matches one of these titles?\n"
      ]
    },
    {
      "cell_type": "markdown",
      "id": "84b8091b",
      "metadata": {},
      "source": [
        "I'm most interested in the data scientist role. This would require lots of knowledge regarding ML models and tradeoffs. Yes, I can find real world job postings matching these titles."
      ]
    }
  ],
  "metadata": {
    "colab": {
      "provenance": [],
      "toc_visible": true
    },
    "kernelspec": {
      "display_name": "Python 3",
      "language": "python",
      "name": "python3"
    },
    "language_info": {
      "codemirror_mode": {
        "name": "ipython",
        "version": 3
      },
      "file_extension": ".py",
      "mimetype": "text/x-python",
      "name": "python",
      "nbconvert_exporter": "python",
      "pygments_lexer": "ipython3",
      "version": "3.12.3"
    }
  },
  "nbformat": 4,
  "nbformat_minor": 5
}
