{
  "cells": [
    {
      "cell_type": "markdown",
      "id": "5b29d04a",
      "metadata": {
        "id": "5b29d04a"
      },
      "source": [
        "# Exercise 1a - NumPy Basics"
      ]
    },
    {
      "cell_type": "markdown",
      "id": "bc7d0020",
      "metadata": {
        "id": "bc7d0020"
      },
      "source": [
        "### Understanding NumPy and ndarrays\n",
        "NumPy is the foundational package for numerical computing in Python. It provides the ndarray object, which is an efficient, N-dimensional array structure.\n",
        "\n",
        "**Why use NumPy?**\n",
        "- It enables fast numerical computations using vectorized operations.\n",
        "- Memory-efficient compared to regular Python lists.\n",
        "- Essential for data science, machine learning, and image processing tasks.\n",
        "\n",
        "**Key Features of ndarrays:**\n",
        "- Homogeneous data types (all elements must be the same type).\n",
        "- Support for broadcasting and shape manipulation.\n",
        "- Built-in mathematical functions for arrays.\n",
        "\n",
        "In this exercise, you'll create and manipulate ndarrays using NumPy.\n"
      ]
    },
    {
      "cell_type": "code",
      "execution_count": 1,
      "id": "99db6d23",
      "metadata": {
        "colab": {
          "base_uri": "https://localhost:8080/"
        },
        "id": "99db6d23",
        "outputId": "0f1675b2-fcb0-473f-f8be-f8fba4609645"
      },
      "outputs": [
        {
          "name": "stdout",
          "output_type": "stream",
          "text": [
            "Original array: [0 1 2 3 4 5 6 7 8 9]\n",
            "Reshaped array (2x5): [[0 1 2 3 4]\n",
            " [5 6 7 8 9]]\n",
            "Array multiplied by 3: [[ 0  3  6  9 12]\n",
            " [15 18 21 24 27]]\n"
          ]
        }
      ],
      "source": [
        "import numpy as np\n",
        "\n",
        "# Create a 1D array with values from 0 to 9\n",
        "a = np.arange(10)\n",
        "print(\"Original array:\", a)\n",
        "\n",
        "# Reshape to a 2D array (2 rows, 5 columns)\n",
        "b = a.reshape(2, 5)\n",
        "print(\"Reshaped array (2x5):\", b)\n",
        "\n",
        "# Multiply all elements by 3\n",
        "c = b * 3\n",
        "print(\"Array multiplied by 3:\", c)\n"
      ]
    },
    {
      "cell_type": "markdown",
      "id": "1176a679",
      "metadata": {
        "id": "1176a679"
      },
      "source": [
        "### Practice\n",
        "Apply what you've learned by modifying the code or writing your own version.\n",
        "\n",
        "- Try creating a different shape of ndarray.\n",
        "- Filter DataFrame rows using a different condition.\n",
        "- Fill missing values using the median instead of the mean.\n",
        "- Create a new column based on existing ones."
      ]
    },
    {
      "cell_type": "code",
      "execution_count": null,
      "id": "6392c093",
      "metadata": {
        "id": "6392c093"
      },
      "outputs": [],
      "source": [
        "# Your practice code here\n"
      ]
    },
    {
      "cell_type": "markdown",
      "id": "e618dcf2",
      "metadata": {
        "id": "e618dcf2"
      },
      "source": [
        "### Broadcasting and Arithmetic Operations in NumPy\n",
        "**Broadcasting** is a powerful NumPy feature that allows arithmetic operations between arrays of different shapes.\n",
        "\n",
        "**Use Cases:**\n",
        "- Adding a constant to every element in a matrix.\n",
        "- Applying operations across rows or columns efficiently.\n",
        "\n",
        "In this exercise, you'll perform addition and multiplication using broadcasting in NumPy arrays.\n"
      ]
    },
    {
      "cell_type": "code",
      "execution_count": 2,
      "id": "a1de446e",
      "metadata": {
        "colab": {
          "base_uri": "https://localhost:8080/"
        },
        "id": "a1de446e",
        "outputId": "d2d96e10-96b6-4cc5-fa75-d89e677ecc6e"
      },
      "outputs": [
        {
          "name": "stdout",
          "output_type": "stream",
          "text": [
            "Original Array:\n",
            " [[1 2 3]\n",
            " [4 5 6]\n",
            " [7 8 9]]\n",
            "Array + 10:\n",
            " [[11 12 13]\n",
            " [14 15 16]\n",
            " [17 18 19]]\n",
            "Array * [1, 2, 3]:\n",
            " [[ 1  4  9]\n",
            " [ 4 10 18]\n",
            " [ 7 16 27]]\n"
          ]
        }
      ],
      "source": [
        "import numpy as np\n",
        "\n",
        "# Create a 2D array\n",
        "array = np.array([[1, 2, 3], [4, 5, 6], [7, 8, 9]])\n",
        "\n",
        "# Broadcast a scalar value to all elements\n",
        "array_plus_10 = array + 10\n",
        "\n",
        "# Broadcast a 1D array across rows\n",
        "multiplier = np.array([1, 2, 3])\n",
        "result = array * multiplier\n",
        "\n",
        "print(\"Original Array:\\n\", array)\n",
        "print(\"Array + 10:\\n\", array_plus_10)\n",
        "print(\"Array * [1, 2, 3]:\\n\", result)\n"
      ]
    },
    {
      "cell_type": "markdown",
      "id": "5bb2b4b6",
      "metadata": {
        "id": "5bb2b4b6"
      },
      "source": [
        "### Practice\n",
        "Apply what you've learned by modifying the code or writing your own version.\n",
        "\n",
        "- Try creating a different shape of ndarray.\n",
        "- Filter DataFrame rows using a different condition.\n",
        "- Fill missing values using the median instead of the mean.\n",
        "- Create a new column based on existing ones."
      ]
    },
    {
      "cell_type": "code",
      "execution_count": null,
      "id": "10ecf9b6",
      "metadata": {
        "id": "10ecf9b6"
      },
      "outputs": [],
      "source": [
        "# Your practice code here\n"
      ]
    }
  ],
  "metadata": {
    "colab": {
      "provenance": []
    },
    "kernelspec": {
      "display_name": "Python 3",
      "name": "python3"
    },
    "language_info": {
      "codemirror_mode": {
        "name": "ipython",
        "version": 3
      },
      "file_extension": ".py",
      "mimetype": "text/x-python",
      "name": "python",
      "nbconvert_exporter": "python",
      "pygments_lexer": "ipython3",
      "version": "3.12.3"
    }
  },
  "nbformat": 4,
  "nbformat_minor": 5
}
