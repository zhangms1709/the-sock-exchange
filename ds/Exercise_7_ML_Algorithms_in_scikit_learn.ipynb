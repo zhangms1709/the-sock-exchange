{
  "cells": [
    {
      "cell_type": "markdown",
      "id": "24cd0c63",
      "metadata": {
        "id": "24cd0c63"
      },
      "source": [
        "# Exercise 7 - ML Algorithms in scikit-learn"
      ]
    },
    {
      "cell_type": "markdown",
      "id": "2cb35326",
      "metadata": {
        "id": "2cb35326"
      },
      "source": [
        "## Understanding Supervised Learning\n",
        "\n",
        "Machine learning tasks are generally categorized into:\n",
        "- **Supervised Learning**: Labeled data is used. The algorithm learns to map inputs to outputs.\n",
        "- **Unsupervised Learning**: No labels; the algorithm finds patterns in the data.\n",
        "- **Reinforcement Learning**: The model learns through trial and error based on rewards.\n",
        "\n",
        "We will focus on **Supervised Learning**, which includes:\n",
        "- **Classification**: Predicting categories (e.g., spam vs. not spam)\n",
        "- **Regression**: Predicting continuous values (e.g., house prices)\n",
        "\n",
        "These models are trained using labeled datasets and evaluated based on prediction accuracy or error metrics.\n"
      ]
    },
    {
      "cell_type": "markdown",
      "id": "b6692c15",
      "metadata": {
        "id": "b6692c15"
      },
      "source": [
        "### Practice\n",
        "- Think of two examples each for classification and regression.\n",
        "- Why might classification be important in healthcare?\n"
      ]
    },
    {
      "cell_type": "code",
      "source": [
        "# Your practice code/notes here\n"
      ],
      "metadata": {
        "id": "V1GxvmBQnuu4"
      },
      "id": "V1GxvmBQnuu4",
      "execution_count": null,
      "outputs": []
    },
    {
      "cell_type": "markdown",
      "id": "f2a606b0",
      "metadata": {
        "id": "f2a606b0"
      },
      "source": [
        "## Classification: Predicting Categories\n",
        "\n",
        "In this task, we predict a discrete class or category.\n",
        "\n",
        "### Use Case\n",
        "Predicting the species of a flower based on features like petal width and sepal length.\n",
        "\n",
        "We’ll use the **Iris dataset**, which includes:\n",
        "- Inputs: sepal length, sepal width, petal length, petal width\n",
        "- Outputs: species (setosa, versicolor, virginica)\n"
      ]
    },
    {
      "cell_type": "code",
      "execution_count": 1,
      "id": "e5a7ff05",
      "metadata": {
        "colab": {
          "base_uri": "https://localhost:8080/"
        },
        "id": "e5a7ff05",
        "outputId": "5bda77c2-6fde-4569-f3f1-0ab7cd716ae7"
      },
      "outputs": [
        {
          "output_type": "stream",
          "name": "stdout",
          "text": [
            "Accuracy Score: 1.0\n",
            "\n",
            "Classification Report:\n",
            "              precision    recall  f1-score   support\n",
            "\n",
            "           0       1.00      1.00      1.00        10\n",
            "           1       1.00      1.00      1.00         9\n",
            "           2       1.00      1.00      1.00        11\n",
            "\n",
            "    accuracy                           1.00        30\n",
            "   macro avg       1.00      1.00      1.00        30\n",
            "weighted avg       1.00      1.00      1.00        30\n",
            "\n"
          ]
        }
      ],
      "source": [
        "from sklearn.datasets import load_iris\n",
        "from sklearn.model_selection import train_test_split\n",
        "from sklearn.ensemble import RandomForestClassifier\n",
        "from sklearn.metrics import accuracy_score, classification_report\n",
        "\n",
        "# Load dataset\n",
        "iris = load_iris()\n",
        "X = iris.data\n",
        "y = iris.target\n",
        "\n",
        "# Split dataset (80% train, 20% test)\n",
        "X_train, X_test, y_train, y_test = train_test_split(X, y, test_size=0.2, random_state=42)\n",
        "\n",
        "# Train model\n",
        "clf = RandomForestClassifier()\n",
        "clf.fit(X_train, y_train)\n",
        "\n",
        "# Evaluate\n",
        "y_pred = clf.predict(X_test)\n",
        "print(\"Accuracy Score:\", accuracy_score(y_test, y_pred))\n",
        "print(\"\\nClassification Report:\")\n",
        "print(classification_report(y_test, y_pred))\n"
      ]
    },
    {
      "cell_type": "markdown",
      "id": "eccd8c62",
      "metadata": {
        "id": "eccd8c62"
      },
      "source": [
        "### Practice\n",
        "- Change `test_size` to 0.3 or 0.4. What changes?\n",
        "- Try using `KNeighborsClassifier` instead of `RandomForestClassifier`.\n",
        "- Which classifier performs best on this dataset?\n",
        "- How does `KNeighborsClassifier` work compared to `RandomForestClassifier`?\n"
      ]
    },
    {
      "cell_type": "code",
      "source": [
        "# Your practice code/notes here\n"
      ],
      "metadata": {
        "id": "HJvRBIAMny0Q"
      },
      "id": "HJvRBIAMny0Q",
      "execution_count": null,
      "outputs": []
    },
    {
      "cell_type": "markdown",
      "id": "78f5a83d",
      "metadata": {
        "id": "78f5a83d"
      },
      "source": [
        "## Visualizing the Impact of Data Splitting Ratios\n",
        "\n",
        "Understanding how splitting your dataset impacts model training and evaluation is critical.\n",
        "\n",
        "We typically divide data into three parts:\n",
        "- **Training set**: Used to fit the model\n",
        "- **Validation set**: Used to tune parameters and prevent overfitting\n",
        "- **Test set**: Used to evaluate the final model performance\n",
        "\n",
        "Below, we’ll explore how varying the split ratio affects accuracy.\n"
      ]
    },
    {
      "cell_type": "code",
      "execution_count": 2,
      "id": "e6c46616",
      "metadata": {
        "colab": {
          "base_uri": "https://localhost:8080/"
        },
        "id": "e6c46616",
        "outputId": "e132504c-9fab-44c7-aa4f-bc6c435bcb85"
      },
      "outputs": [
        {
          "output_type": "stream",
          "name": "stdout",
          "text": [
            "Test Size: 0.1 -> Accuracy: 1.0000\n",
            "Test Size: 0.2 -> Accuracy: 1.0000\n",
            "Test Size: 0.3 -> Accuracy: 1.0000\n",
            "Test Size: 0.4 -> Accuracy: 0.9833\n"
          ]
        }
      ],
      "source": [
        "from sklearn.datasets import load_iris\n",
        "from sklearn.model_selection import train_test_split\n",
        "from sklearn.ensemble import RandomForestClassifier\n",
        "from sklearn.metrics import accuracy_score\n",
        "\n",
        "iris = load_iris()\n",
        "X, y = iris.data, iris.target\n",
        "\n",
        "# Try different split ratios\n",
        "for test_size in [0.1, 0.2, 0.3, 0.4]:\n",
        "    X_train, X_test, y_train, y_test = train_test_split(X, y, test_size=test_size, random_state=42)\n",
        "    clf = RandomForestClassifier()\n",
        "    clf.fit(X_train, y_train)\n",
        "    y_pred = clf.predict(X_test)\n",
        "    acc = accuracy_score(y_test, y_pred)\n",
        "    print(f\"Test Size: {test_size:.1f} -> Accuracy: {acc:.4f}\")\n"
      ]
    },
    {
      "cell_type": "markdown",
      "id": "dca03614",
      "metadata": {
        "id": "dca03614"
      },
      "source": [
        "### Practice\n",
        "- Try test sizes of 0.05 and 0.5. What happens to accuracy and why?\n",
        "- Add a second split (validation set) using:\n",
        "```python\n",
        "X_train, X_temp, y_train, y_temp = train_test_split(X, y, test_size=0.4, random_state=42)\n",
        "X_val, X_test, y_val, y_test = train_test_split(X_temp, y_temp, test_size=0.5, random_state=42)\n",
        "```\n",
        "- Evaluate your model using the validation set before final testing.\n"
      ]
    },
    {
      "cell_type": "code",
      "source": [
        "# Your practice code/notes here\n"
      ],
      "metadata": {
        "id": "-iMbWoSgp5zL"
      },
      "id": "-iMbWoSgp5zL",
      "execution_count": null,
      "outputs": []
    },
    {
      "cell_type": "markdown",
      "id": "81b0dcba",
      "metadata": {
        "id": "81b0dcba"
      },
      "source": [
        "## Explanation: Train-Test-Validation Splits and Accuracy\n",
        "\n",
        "### Why Split the Data?\n",
        "\n",
        "We split data into:\n",
        "- **Training set** (60–80%): Builds the model\n",
        "- **Validation set** (10–20%): Helps tune and evaluate model hyperparameters\n",
        "- **Test set** (10–20%): Tests final model on unseen data\n",
        "\n",
        "**Without validation**, we risk overfitting: a model that performs well on training data but poorly on real data.\n",
        "\n",
        "### Accuracy vs Other Metrics\n",
        "\n",
        "- **Accuracy**: Good for balanced datasets\n",
        "- **Precision/Recall**: Better for imbalanced data\n",
        "- **F1 Score**: Combines precision and recall\n",
        "\n",
        "**Real-World Use Cases**:\n",
        "- Fraud detection (imbalanced): use precision/recall\n",
        "- Image classification: accuracy often sufficient\n",
        "- Spam filters: balance between precision and recall is key\n"
      ]
    },
    {
      "cell_type": "code",
      "metadata": {
        "colab": {
          "base_uri": "https://localhost:8080/"
        },
        "id": "908e8cb9",
        "outputId": "4d6a140f-0ad7-4f98-d1e8-05ed47502aba"
      },
      "source": [
        "from sklearn.datasets import load_iris\n",
        "from sklearn.model_selection import train_test_split\n",
        "\n",
        "iris = load_iris()\n",
        "X, y = iris.data, iris.target\n",
        "\n",
        "print(f\"Original dataset size: {len(X)}\")\n",
        "\n",
        "# Split data into 80% train+validation and 20% test\n",
        "X_train_val, X_test, y_train_val, y_test = train_test_split(X, y, test_size=0.2, random_state=42)\n",
        "print(f\"Size after first split (train+val, test): {len(X_train_val)} / {len(X_test)}\")\n",
        "\n",
        "# Split train+validation into 75% train and 25% validation (which is 60/20 of the original dataset)\n",
        "X_train, X_val, y_train, y_val = train_test_split(X_train_val, y_train_val, test_size=0.25, random_state=42)\n",
        "print(f\"Size after second split (train, val): {len(X_train)} / {len(X_val)}\")\n",
        "\n",
        "print(f\"Final split sizes:\")\n",
        "print(f\"Training set size: {len(X_train)}\")\n",
        "print(f\"Validation set size: {len(X_val)}\")\n",
        "print(f\"Test set size: {len(X_test)}\")"
      ],
      "id": "908e8cb9",
      "execution_count": 3,
      "outputs": [
        {
          "output_type": "stream",
          "name": "stdout",
          "text": [
            "Original dataset size: 150\n",
            "Size after first split (train+val, test): 120 / 30\n",
            "Size after second split (train, val): 90 / 30\n",
            "Final split sizes:\n",
            "Training set size: 90\n",
            "Validation set size: 30\n",
            "Test set size: 30\n"
          ]
        }
      ]
    },
    {
      "cell_type": "markdown",
      "metadata": {
        "id": "9ccf2f48"
      },
      "source": [
        "### Practice\n",
        "- Evaluate a model using the validation set (`X_val`, `y_val`) after training on the training set (`X_train`, `y_train`).\n",
        "- Compare model performance with different hyperparameters (e.g., `n_neighbors` for `KNeighborsClassifier`) using the validation set to choose the best ones before evaluating on the test set.\n",
        "- Simulate overfitting by training a complex model on the training set and observing performance on both the training and validation sets."
      ],
      "id": "9ccf2f48"
    },
    {
      "cell_type": "code",
      "source": [
        "# Your practice code here\n"
      ],
      "metadata": {
        "id": "60R2RcYpsL5G"
      },
      "id": "60R2RcYpsL5G",
      "execution_count": null,
      "outputs": []
    },
    {
      "cell_type": "code",
      "source": [
        "# Your practice code/notes here\n"
      ],
      "metadata": {
        "id": "0-k43A0rLiVf"
      },
      "id": "0-k43A0rLiVf",
      "execution_count": null,
      "outputs": []
    },
    {
      "cell_type": "markdown",
      "id": "0de500cf",
      "metadata": {
        "id": "0de500cf"
      },
      "source": [
        "## Demo: Visualizing Training vs. Testing Data Size\n",
        "\n",
        "This section helps you **visualize the effect** of changing split ratios on the amount of data used for training and testing.\n",
        "\n",
        "We’ll plot how much data is allocated for training and testing for each split percentage.\n"
      ]
    },
    {
      "cell_type": "code",
      "execution_count": 8,
      "id": "2592000a",
      "metadata": {
        "colab": {
          "base_uri": "https://localhost:8080/",
          "height": 507
        },
        "id": "2592000a",
        "outputId": "bf677c0b-8665-41b0-f89e-5148458634d6"
      },
      "outputs": [
        {
          "output_type": "display_data",
          "data": {
            "text/plain": [
              "<Figure size 800x500 with 1 Axes>"
            ],
            "image/png": "[encoded data removed]"
          },
          "metadata": {}
        }
      ],
      "source": [
        "import matplotlib.pyplot as plt # Import the matplotlib library for plotting\n",
        "import numpy as np # Import the numpy library for numerical operations\n",
        "\n",
        "# Define a list of different test size ratios to visualize\n",
        "split_ratios = [0.05, 0.1, 0.2, 0.3, 0.4, 0.5]\n",
        "total_samples = 150 # Define the total number of samples in the dataset\n",
        "\n",
        "# Calculate the size of the training set for each split ratio\n",
        "# This is done by subtracting the test size from the total samples\n",
        "train_sizes = [total_samples - int(total_samples * s) for s in split_ratios]\n",
        "\n",
        "# Calculate the size of the test set for each split ratio\n",
        "# This is the total samples multiplied by the split ratio\n",
        "test_sizes = [int(total_samples * s) for s in split_ratios]\n",
        "\n",
        "# Create a new figure for the plot with a specified size\n",
        "plt.figure(figsize=(8,5))\n",
        "\n",
        "# Define the width of the bars in the bar chart\n",
        "bar_width = 0.35\n",
        "# Create an array of indices for the x-axis positions of the bars\n",
        "index = np.arange(len(split_ratios))\n",
        "\n",
        "# Create the bars for the training set sizes\n",
        "# 'index' are the x positions, 'train_sizes' are the heights, 'bar_width' is the width, 'label' is for the legend\n",
        "plt.bar(index, train_sizes, bar_width, label='Train Size')\n",
        "\n",
        "# Create the bars for the test set sizes, offset by bar_width to appear next to train bars\n",
        "# 'index + bar_width' shifts the bars, 'test_sizes' are the heights\n",
        "plt.bar(index + bar_width, test_sizes, bar_width, label='Test Size')\n",
        "\n",
        "# Add labels to the x and y axes\n",
        "plt.xlabel('Test Size Ratio')\n",
        "plt.ylabel('Number of Samples')\n",
        "\n",
        "# Add a title to the plot\n",
        "plt.title('Impact of Test Size on Data Splits (Total Samples = 150)')\n",
        "\n",
        "# Set the x-axis tick positions and labels to correspond to the split ratios\n",
        "plt.xticks(index + bar_width / 2, [str(r) for r in split_ratios])\n",
        "\n",
        "# Add a legend to the plot to identify the bars\n",
        "plt.legend()\n",
        "\n",
        "# Adjust the plot to prevent labels from overlapping\n",
        "plt.tight_layout()\n",
        "\n",
        "# Display the plot\n",
        "plt.show()"
      ]
    },
    {
      "cell_type": "markdown",
      "id": "028e548d",
      "metadata": {
        "id": "028e548d"
      },
      "source": [
        "### Practice\n",
        "- Modify `total_samples` to simulate larger datasets (e.g., 500, 1000).\n",
        "- Add a validation set size and compare all three sets."
      ]
    },
    {
      "cell_type": "code",
      "source": [
        "# Your practice code here\n"
      ],
      "metadata": {
        "id": "e9opMYxBsPLC"
      },
      "id": "e9opMYxBsPLC",
      "execution_count": null,
      "outputs": []
    },
    {
      "cell_type": "markdown",
      "id": "480b2d51",
      "metadata": {
        "id": "480b2d51"
      },
      "source": [
        "## Regression: Predicting Numeric Values\n",
        "\n",
        "Regression is used when we predict a continuous value.\n",
        "\n",
        "### Use Case\n",
        "Predicting California housing prices based on:\n",
        "- Median income\n",
        "- House age\n",
        "- Population\n",
        "- Other features\n",
        "\n",
        "We will use **Linear Regression** and evaluate with **Mean Squared Error (MSE)**.\n"
      ]
    },
    {
      "cell_type": "code",
      "execution_count": null,
      "id": "195f9f42",
      "metadata": {
        "colab": {
          "base_uri": "https://localhost:8080/"
        },
        "id": "195f9f42",
        "outputId": "8d61b8cd-84d7-4e6a-8440-7294f4774948"
      },
      "outputs": [
        {
          "output_type": "stream",
          "name": "stdout",
          "text": [
            "Mean Squared Error: 0.555891598695244\n"
          ]
        }
      ],
      "source": [
        "from sklearn.datasets import fetch_california_housing\n",
        "from sklearn.linear_model import LinearRegression\n",
        "from sklearn.metrics import mean_squared_error\n",
        "from sklearn.preprocessing import StandardScaler\n",
        "from sklearn.model_selection import train_test_split\n",
        "\n",
        "# Load and scale data\n",
        "housing = fetch_california_housing()\n",
        "X = housing.data\n",
        "y = housing.target\n",
        "\n",
        "scaler = StandardScaler()\n",
        "X_scaled = scaler.fit_transform(X)\n",
        "\n",
        "# Split and train\n",
        "X_train, X_test, y_train, y_test = train_test_split(X_scaled, y, test_size=0.2, random_state=42)\n",
        "model = LinearRegression()\n",
        "model.fit(X_train, y_train)\n",
        "\n",
        "# Evaluate\n",
        "y_pred = model.predict(X_test)\n",
        "print(\"Mean Squared Error:\", mean_squared_error(y_test, y_pred))\n"
      ]
    },
    {
      "cell_type": "markdown",
      "id": "a5fae039",
      "metadata": {
        "id": "a5fae039"
      },
      "source": [
        "### Practice\n",
        "- Replace `LinearRegression` with `DecisionTreeRegressor` and compare MSE.\n",
        "- Try plotting predicted vs. actual values using matplotlib.\n"
      ]
    },
    {
      "cell_type": "code",
      "source": [
        "# Your practice code here\n"
      ],
      "metadata": {
        "id": "OvbXrHOknsJB"
      },
      "id": "OvbXrHOknsJB",
      "execution_count": null,
      "outputs": []
    },
    {
      "cell_type": "markdown",
      "metadata": {
        "id": "aa953af9"
      },
      "source": [
        "## Optional: Explore More on Dataset Splitting\n",
        "\n",
        "The code above demonstrates how to split a dataset into three distinct subsets:\n",
        "\n",
        "1.  **Training Set**: This is the largest portion of the data (60% in the example). It is used to train the machine learning model, meaning the model learns the patterns and relationships within this data.\n",
        "2.  **Validation Set**: This is an intermediate set (20% in the example). It is used *during* the model development process to:\n",
        "    *   **Tune hyperparameters**: Hyperparameters are settings that are not learned from the data but are set before training (e.g., the number of trees in a Random Forest). The validation set helps you choose the best hyperparameters by evaluating model performance with different settings.\n",
        "    *   **Prevent overfitting**: Overfitting occurs when a model learns the training data too well, including noise, and performs poorly on new data. By monitoring performance on the validation set during training, you can stop training early if the model starts performing worse on the validation data, even if it's still improving on the training data.\n",
        "3.  **Test Set**: This set (20% in the example) is held back until the very end of the model development process. It is used for the **final evaluation** of the model's performance on completely unseen data. This provides an unbiased estimate of how well your model will perform in a real-world scenario.\n",
        "\n",
        "**When and Why Use a Validation Set?**\n",
        "\n",
        "A validation set is crucial when you need to make decisions about your model *before* the final evaluation. This includes:\n",
        "\n",
        "*   **Comparing different algorithms**: If you're deciding between a Linear Regression and a Decision Tree, you can train both on the training set and evaluate them on the validation set to see which performs better.\n",
        "*   **Tuning model complexity**: For models like Decision Trees or Neural Networks, you might adjust parameters that control their complexity. The validation set helps you find the right balance between complexity and generalization.\n",
        "*   **Early stopping**: In iterative training processes (like neural networks), you use the validation set to determine when to stop training to avoid overfitting.\n",
        "\n",
        "Using a validation set helps ensure that your model generalizes well to new data and that the performance reported on the test set is a realistic expectation of the model's performance in practice. Without it, you might tune your model based on the test set, leading to an overly optimistic evaluation and poor performance in the real world."
      ],
      "id": "aa953af9"
    },
    {
      "cell_type": "code",
      "metadata": {
        "colab": {
          "base_uri": "https://localhost:8080/"
        },
        "id": "02f7eb5b",
        "outputId": "b5482ba8-52dd-44ac-a80c-d42525136a81"
      },
      "source": [
        "from sklearn.datasets import load_iris\n",
        "from sklearn.model_selection import train_test_split\n",
        "from sklearn.ensemble import RandomForestClassifier\n",
        "from sklearn.metrics import accuracy_score\n",
        "\n",
        "# Load dataset\n",
        "iris = load_iris()\n",
        "X = iris.data\n",
        "y = iris.target\n",
        "\n",
        "# Split data into 60% train, 20% validation, and 20% test\n",
        "X_train_val, X_test, y_train_val, y_test = train_test_split(X, y, test_size=0.2, random_state=42)\n",
        "X_train, X_val, y_train, y_val = train_test_split(X_train_val, y_train_val, test_size=0.25, random_state=42) # 0.25 * 0.8 = 0.2\n",
        "\n",
        "# Train model on the training set\n",
        "model = RandomForestClassifier(random_state=42)\n",
        "model.fit(X_train, y_train)\n",
        "\n",
        "# Evaluate on the validation set\n",
        "y_val_pred = model.predict(X_val)\n",
        "validation_accuracy = accuracy_score(y_val, y_val_pred)\n",
        "print(f\"Validation Accuracy: {validation_accuracy:.4f}\")\n",
        "\n",
        "# Evaluate on the test set\n",
        "y_test_pred = model.predict(X_test)\n",
        "test_accuracy = accuracy_score(y_test, y_test_pred)\n",
        "print(f\"Test Accuracy: {test_accuracy:.4f}\")"
      ],
      "id": "02f7eb5b",
      "execution_count": 5,
      "outputs": [
        {
          "output_type": "stream",
          "name": "stdout",
          "text": [
            "Validation Accuracy: 0.9333\n",
            "Test Accuracy: 1.0000\n"
          ]
        }
      ]
    },
    {
      "cell_type": "markdown",
      "id": "9f4a1b3a",
      "metadata": {
        "id": "9f4a1b3a"
      },
      "source": [
        "### Practice\n",
        "- Why might a validation set be important in high-stakes applications like medicine?\n",
        "- Explore `StratifiedKFold` or `cross_val_score` to use cross-validation instead.\n",
        " + **Tip:** Review the API documentation:\n",
        "   + https://scikit-learn.org/stable/modules/generated/sklearn.model_selection.StratifiedKFold.html\n",
        "   + https://scikit-learn.org/stable/modules/generated/sklearn.model_selection.cross_val_score.html\n",
        "\n"
      ]
    },
    {
      "cell_type": "code",
      "source": [
        "# Your practice code here\n"
      ],
      "metadata": {
        "id": "6MVBGYOznlff"
      },
      "id": "6MVBGYOznlff",
      "execution_count": null,
      "outputs": []
    }
  ],
  "metadata": {
    "colab": {
      "provenance": [],
      "toc_visible": true
    },
    "language_info": {
      "name": "python"
    },
    "kernelspec": {
      "name": "python3",
      "display_name": "Python 3"
    }
  },
  "nbformat": 4,
  "nbformat_minor": 5
}