{
  "cells": [
    {
      "cell_type": "markdown",
      "id": "5dc7c225",
      "metadata": {
        "id": "5dc7c225"
      },
      "source": [
        "# Exercise 3 - Data Processing Phases\n"
      ]
    },
    {
      "cell_type": "markdown",
      "id": "b78539b3",
      "metadata": {
        "id": "b78539b3"
      },
      "source": [
        "## Understanding the Data Science Lifecycle\n",
        "The data science lifecycle consists of several important phases that structure a project from start to finish:\n",
        "\n",
        "**Phases Include:**\n",
        "1. Data Collection – gather raw data\n",
        "2. Data Cleaning – handle missing or incorrect data\n",
        "3. Data Exploration – understand patterns and distributions\n",
        "4. Feature Engineering – create inputs for modeling\n",
        "5. Modeling – apply machine learning algorithms\n",
        "6. Evaluation – assess model performance\n",
        "7. Deployment – deliver insights or live models\n",
        "\n",
        "Each stage builds on the last to create a pipeline of insights and automation.\n"
      ]
    },
    {
      "cell_type": "code",
      "execution_count": 1,
      "id": "4988c2ce",
      "metadata": {
        "colab": {
          "base_uri": "https://localhost:8080/"
        },
        "id": "4988c2ce",
        "outputId": "2f6ac3e6-e238-4bfb-ade1-c5f188022bc3"
      },
      "outputs": [
        {
          "name": "stdout",
          "output_type": "stream",
          "text": [
            "Data Science Lifecycle Phases:\n",
            "1. Data Collection\n",
            "2. Data Cleaning\n",
            "3. Data Exploration\n",
            "4. Feature Engineering\n",
            "5. Modeling\n",
            "6. Evaluation\n",
            "7. Deployment\n"
          ]
        }
      ],
      "source": [
        "lifecycle = [\n",
        "    \"1. Data Collection\",\n",
        "    \"2. Data Cleaning\",\n",
        "    \"3. Data Exploration\",\n",
        "    \"4. Feature Engineering\",\n",
        "    \"5. Modeling\",\n",
        "    \"6. Evaluation\",\n",
        "    \"7. Deployment\"\n",
        "]\n",
        "\n",
        "print(\"Data Science Lifecycle Phases:\")\n",
        "for step in lifecycle:\n",
        "    print(step)\n"
      ]
    },
    {
      "cell_type": "markdown",
      "id": "c33c9546",
      "metadata": {
        "id": "c33c9546"
      },
      "source": [
        "### Practice\n",
        "- Describe an example project and match it to each phase in the lifecycle.\n",
        "- Which step do you think takes the most time in practice? Why?\n"
      ]
    },
    {
      "cell_type": "markdown",
      "id": "2d6d121c",
      "metadata": {},
      "source": [
        "Stock price prediction:\n",
        "- Need to collect data by web scraping or API calls\n",
        "- Need to clean data, make sure all in same format, no missing values\n",
        "- Data exploration - need to find most predictive features\n",
        "- Need to explore different combinations of features\n",
        "- Need to test different models\n",
        "- Need to evaluate the performance of the chosen model\n",
        "- Deploy it into real world, so that people can submit realtime data"
      ]
    },
    {
      "cell_type": "markdown",
      "id": "dc58dd66",
      "metadata": {
        "id": "dc58dd66"
      },
      "source": [
        "## Extract – Getting Data from a Source\n",
        "**Extract** is the first step in ETL. It involves pulling data from various sources such as CSV files, databases, APIs, or web scraping.\n",
        "\n",
        "In this example, we simulate extracting data from a CSV file.\n"
      ]
    },
    {
      "cell_type": "code",
      "execution_count": 3,
      "id": "390dad2a",
      "metadata": {
        "colab": {
          "base_uri": "https://localhost:8080/"
        },
        "id": "390dad2a",
        "outputId": "9d79431d-39dc-4a36-a8bc-abf531cc466f"
      },
      "outputs": [
        {
          "name": "stdout",
          "output_type": "stream",
          "text": [
            "Extracted Data:\n",
            "    Name  Score\n",
            "0  Alice   85.0\n",
            "1    Bob   90.0\n",
            "2   None    NaN\n",
            "3  David   88.0\n"
          ]
        }
      ],
      "source": [
        "import pandas as pd\n",
        "\n",
        "# Simulating extract from CSV\n",
        "# In practice, you'd use: df = pd.read_csv(\"filename.csv\")\n",
        "data = {\n",
        "    'Name': ['Alice', 'Bob', None, 'David'],\n",
        "    'Score': [85, 90, None, 88]\n",
        "}\n",
        "df_extracted = pd.DataFrame(data)\n",
        "print(\"Extracted Data:\")\n",
        "print(df_extracted)\n"
      ]
    },
    {
      "cell_type": "markdown",
      "id": "a6d28230",
      "metadata": {
        "id": "a6d28230"
      },
      "source": [
        "### Practice\n",
        "- Try simulating a different dataset with missing or inconsistent data.\n",
        "- What happens if you extract from a different file format like Excel?\n"
      ]
    },
    {
      "cell_type": "code",
      "execution_count": 22,
      "id": "d389992d",
      "metadata": {
        "id": "d389992d"
      },
      "outputs": [
        {
          "data": {
            "text/html": [
              "<div>\n",
              "<style scoped>\n",
              "    .dataframe tbody tr th:only-of-type {\n",
              "        vertical-align: middle;\n",
              "    }\n",
              "\n",
              "    .dataframe tbody tr th {\n",
              "        vertical-align: top;\n",
              "    }\n",
              "\n",
              "    .dataframe thead th {\n",
              "        text-align: right;\n",
              "    }\n",
              "</style>\n",
              "<table border=\"1\" class=\"dataframe\">\n",
              "  <thead>\n",
              "    <tr style=\"text-align: right;\">\n",
              "      <th></th>\n",
              "      <th>Name</th>\n",
              "      <th>Score</th>\n",
              "    </tr>\n",
              "  </thead>\n",
              "  <tbody>\n",
              "    <tr>\n",
              "      <th>0</th>\n",
              "      <td>Alice</td>\n",
              "      <td>85.000000</td>\n",
              "    </tr>\n",
              "    <tr>\n",
              "      <th>1</th>\n",
              "      <td>Bob</td>\n",
              "      <td>90.000000</td>\n",
              "    </tr>\n",
              "    <tr>\n",
              "      <th>2</th>\n",
              "      <td>Unknown</td>\n",
              "      <td>87.666667</td>\n",
              "    </tr>\n",
              "    <tr>\n",
              "      <th>3</th>\n",
              "      <td>David</td>\n",
              "      <td>88.000000</td>\n",
              "    </tr>\n",
              "  </tbody>\n",
              "</table>\n",
              "</div>"
            ],
            "text/plain": [
              "      Name      Score\n",
              "0    Alice  85.000000\n",
              "1      Bob  90.000000\n",
              "2  Unknown  87.666667\n",
              "3    David  88.000000"
            ]
          },
          "execution_count": 22,
          "metadata": {},
          "output_type": "execute_result"
        }
      ],
      "source": [
        "# Your practice code here\n",
        "df_extracted['Name'] = df_extracted['Name'].fillna(\"Unknown\")\n",
        "df_extracted['Score'] = df_extracted['Score'].fillna(df_extracted['Score'].mean())\n",
        "df_extracted"
      ]
    },
    {
      "cell_type": "markdown",
      "id": "7e5d2a5c",
      "metadata": {
        "id": "7e5d2a5c"
      },
      "source": [
        "## Transform – Cleaning and Shaping Data\n",
        "**Transform** is the second step in ETL. It involves cleaning, correcting, and shaping the data into usable formats.\n",
        "\n",
        "Common operations include:\n",
        "- Filling missing values\n",
        "- Renaming columns\n",
        "- Type conversions\n",
        "- Creating derived columns\n"
      ]
    },
    {
      "cell_type": "code",
      "execution_count": 5,
      "id": "f7cff630",
      "metadata": {
        "colab": {
          "base_uri": "https://localhost:8080/"
        },
        "id": "f7cff630",
        "outputId": "0d1f9298-e837-421b-f6f2-b5bab078f825"
      },
      "outputs": [
        {
          "name": "stdout",
          "output_type": "stream",
          "text": [
            "Transformed Data:\n",
            "      Name      Score\n",
            "0    Alice  85.000000\n",
            "1      Bob  90.000000\n",
            "2  Unknown  87.666667\n",
            "3    David  88.000000\n"
          ]
        }
      ],
      "source": [
        "# Fill missing values and standardize names\n",
        "df_transformed = df_extracted.copy()\n",
        "df_transformed['Name'] = df_transformed['Name'].fillna('Unknown')\n",
        "df_transformed['Score'] = df_transformed['Score'].fillna(df_transformed['Score'].mean())\n",
        "\n",
        "print(\"Transformed Data:\")\n",
        "print(df_transformed)\n"
      ]
    },
    {
      "cell_type": "markdown",
      "id": "ef05784d",
      "metadata": {
        "id": "ef05784d"
      },
      "source": [
        "### Practice\n",
        "- Try rounding the scores to the nearest whole number.\n",
        "- Add a new column that indicates whether the student passed (e.g., score > 80).\n"
      ]
    },
    {
      "cell_type": "code",
      "execution_count": 18,
      "id": "3ec79f89",
      "metadata": {
        "id": "3ec79f89"
      },
      "outputs": [
        {
          "data": {
            "text/html": [
              "<div>\n",
              "<style scoped>\n",
              "    .dataframe tbody tr th:only-of-type {\n",
              "        vertical-align: middle;\n",
              "    }\n",
              "\n",
              "    .dataframe tbody tr th {\n",
              "        vertical-align: top;\n",
              "    }\n",
              "\n",
              "    .dataframe thead th {\n",
              "        text-align: right;\n",
              "    }\n",
              "</style>\n",
              "<table border=\"1\" class=\"dataframe\">\n",
              "  <thead>\n",
              "    <tr style=\"text-align: right;\">\n",
              "      <th></th>\n",
              "      <th>Name</th>\n",
              "      <th>Score</th>\n",
              "    </tr>\n",
              "  </thead>\n",
              "  <tbody>\n",
              "    <tr>\n",
              "      <th>0</th>\n",
              "      <td>Alice</td>\n",
              "      <td>85.0</td>\n",
              "    </tr>\n",
              "    <tr>\n",
              "      <th>1</th>\n",
              "      <td>Bob</td>\n",
              "      <td>90.0</td>\n",
              "    </tr>\n",
              "    <tr>\n",
              "      <th>2</th>\n",
              "      <td>Unknown</td>\n",
              "      <td>88.0</td>\n",
              "    </tr>\n",
              "    <tr>\n",
              "      <th>3</th>\n",
              "      <td>David</td>\n",
              "      <td>88.0</td>\n",
              "    </tr>\n",
              "  </tbody>\n",
              "</table>\n",
              "</div>"
            ],
            "text/plain": [
              "      Name  Score\n",
              "0    Alice   85.0\n",
              "1      Bob   90.0\n",
              "2  Unknown   88.0\n",
              "3    David   88.0"
            ]
          },
          "execution_count": 18,
          "metadata": {},
          "output_type": "execute_result"
        }
      ],
      "source": [
        "# Your practice code here \n",
        "df_transformed['Score'] = df_transformed['Score'].round()\n",
        "df_transformed"
      ]
    },
    {
      "cell_type": "code",
      "execution_count": 20,
      "id": "67426546",
      "metadata": {},
      "outputs": [
        {
          "data": {
            "text/html": [
              "<div>\n",
              "<style scoped>\n",
              "    .dataframe tbody tr th:only-of-type {\n",
              "        vertical-align: middle;\n",
              "    }\n",
              "\n",
              "    .dataframe tbody tr th {\n",
              "        vertical-align: top;\n",
              "    }\n",
              "\n",
              "    .dataframe thead th {\n",
              "        text-align: right;\n",
              "    }\n",
              "</style>\n",
              "<table border=\"1\" class=\"dataframe\">\n",
              "  <thead>\n",
              "    <tr style=\"text-align: right;\">\n",
              "      <th></th>\n",
              "      <th>Name</th>\n",
              "      <th>Score</th>\n",
              "      <th>Passed</th>\n",
              "    </tr>\n",
              "  </thead>\n",
              "  <tbody>\n",
              "    <tr>\n",
              "      <th>0</th>\n",
              "      <td>Alice</td>\n",
              "      <td>85.0</td>\n",
              "      <td>True</td>\n",
              "    </tr>\n",
              "    <tr>\n",
              "      <th>1</th>\n",
              "      <td>Bob</td>\n",
              "      <td>90.0</td>\n",
              "      <td>True</td>\n",
              "    </tr>\n",
              "    <tr>\n",
              "      <th>2</th>\n",
              "      <td>Unknown</td>\n",
              "      <td>88.0</td>\n",
              "      <td>True</td>\n",
              "    </tr>\n",
              "    <tr>\n",
              "      <th>3</th>\n",
              "      <td>David</td>\n",
              "      <td>88.0</td>\n",
              "      <td>True</td>\n",
              "    </tr>\n",
              "  </tbody>\n",
              "</table>\n",
              "</div>"
            ],
            "text/plain": [
              "      Name  Score  Passed\n",
              "0    Alice   85.0    True\n",
              "1      Bob   90.0    True\n",
              "2  Unknown   88.0    True\n",
              "3    David   88.0    True"
            ]
          },
          "execution_count": 20,
          "metadata": {},
          "output_type": "execute_result"
        }
      ],
      "source": [
        "df_transformed['Passed'] = df_transformed['Score'] > 80\n",
        "df_transformed"
      ]
    },
    {
      "cell_type": "markdown",
      "id": "d251e956",
      "metadata": {
        "id": "d251e956"
      },
      "source": [
        "## Load – Storing Processed Data\n",
        "**Load** is the final step in ETL. Once the data is clean, it's saved to a database, data warehouse, or file for use in downstream systems.\n",
        "\n",
        "In this example, we simulate loading by saving to a CSV.\n"
      ]
    },
    {
      "cell_type": "code",
      "execution_count": 7,
      "id": "f72bc12a",
      "metadata": {
        "colab": {
          "base_uri": "https://localhost:8080/"
        },
        "id": "f72bc12a",
        "outputId": "d46c47f1-7967-4da7-c40c-5e8731ff0ddc"
      },
      "outputs": [
        {
          "name": "stdout",
          "output_type": "stream",
          "text": [
            "Data would be saved to 'processed_students.csv'\n"
          ]
        }
      ],
      "source": [
        "# Simulate loading into a CSV\n",
        "# Check file system for new file\n",
        "df_transformed.to_csv(\"processed_students.csv\", index=False)\n",
        "\n",
        "print(\"Data would be saved to 'processed_students.csv'\")\n"
      ]
    },
    {
      "cell_type": "markdown",
      "id": "1b681ae8",
      "metadata": {
        "id": "1b681ae8"
      },
      "source": [
        "### Practice\n",
        "- Try saving the data to Excel using `to_excel()`.\n",
        "- Think about where this data might go in a real project (e.g., database, dashboard).\n"
      ]
    },
    {
      "cell_type": "code",
      "execution_count": null,
      "id": "b3bf6e3d",
      "metadata": {
        "id": "b3bf6e3d"
      },
      "outputs": [],
      "source": [
        "# Your practice code here\n",
        "df_transformed.to_excel(\"output.xlsx\")"
      ]
    },
    {
      "cell_type": "markdown",
      "id": "2d6a1cf6",
      "metadata": {
        "id": "2d6a1cf6"
      },
      "source": [
        "## Putting It All Together – The Full ETL Process\n",
        "This step combines all ETL phases — Extract, Transform, and Load — into one reusable process.\n",
        "\n",
        "This is useful for automating data pipelines.\n"
      ]
    },
    {
      "cell_type": "code",
      "execution_count": 9,
      "id": "742c4839",
      "metadata": {
        "colab": {
          "base_uri": "https://localhost:8080/"
        },
        "id": "742c4839",
        "outputId": "efe9af7f-4580-49d4-de35-a155635f1a8c"
      },
      "outputs": [
        {
          "name": "stdout",
          "output_type": "stream",
          "text": [
            "Final ETL Result:\n",
            "      Name      Score  Passed\n",
            "0    Alice  85.000000    True\n",
            "1      Bob  90.000000    True\n",
            "2  Unknown  87.666667    True\n",
            "3    David  88.000000    True\n"
          ]
        }
      ],
      "source": [
        "import pandas as pd\n",
        "\n",
        "def etl_pipeline():\n",
        "    # Extract\n",
        "    raw_data = {\n",
        "        'Name': ['Alice', 'Bob', None, 'David'],\n",
        "        'Score': [85, 90, None, 88]\n",
        "    }\n",
        "    df = pd.DataFrame(raw_data)\n",
        "\n",
        "    # Transform\n",
        "    df['Name'] = df['Name'].fillna('Unknown')\n",
        "    df['Score'] = df['Score'].fillna(df['Score'].mean())\n",
        "    df['Passed'] = df['Score'] > 80\n",
        "\n",
        "    # Load\n",
        "    # Check file system for new file\n",
        "    df.to_csv(\"etl_output.csv\", index=False)\n",
        "\n",
        "    return df\n",
        "\n",
        "# Run the pipeline\n",
        "df_final = etl_pipeline()\n",
        "print(\"Final ETL Result:\")\n",
        "print(df_final)\n"
      ]
    },
    {
      "cell_type": "markdown",
      "id": "307f9461",
      "metadata": {
        "id": "307f9461"
      },
      "source": [
        "### Practice\n",
        "- Modify the ETL function to include a new feature, like score categories (Low, Medium, High).\n",
        "- Try abstracting the steps into separate functions for extract, transform, and load.\n"
      ]
    },
    {
      "cell_type": "code",
      "execution_count": 11,
      "id": "5df7b7d6",
      "metadata": {
        "id": "5df7b7d6"
      },
      "outputs": [
        {
          "name": "stdout",
          "output_type": "stream",
          "text": [
            "Final ETL Result:\n",
            "      Name      Score  Passed ScoreBucket\n",
            "0    Alice  85.000000    True      Medium\n",
            "1      Bob  90.000000    True        High\n",
            "2  Unknown  87.666667    True        High\n",
            "3    David  88.000000    True        High\n"
          ]
        }
      ],
      "source": [
        "# Your practice code here\n",
        "def etl_pipeline2():\n",
        "    # Extract\n",
        "    raw_data = {\n",
        "        'Name': ['Alice', 'Bob', None, 'David'],\n",
        "        'Score': [85, 90, None, 88]\n",
        "    }\n",
        "    df = pd.DataFrame(raw_data)\n",
        "\n",
        "    # Transform\n",
        "    df['Name'] = df['Name'].fillna('Unknown')\n",
        "    df['Score'] = df['Score'].fillna(df['Score'].mean())\n",
        "    df['Passed'] = df['Score'] > 80\n",
        "\n",
        "    df['ScoreBucket'] = pd.cut(\n",
        "    df['Score'],\n",
        "    bins=[0, 70, 85, 100],         # define bucket edges\n",
        "    labels=['Low', 'Medium', 'High'],  # bucket labels\n",
        "    include_lowest=True)\n",
        "\n",
        "    # Load\n",
        "    # Check file system for new file\n",
        "    df.to_csv(\"etl_output.csv\", index=False)\n",
        "\n",
        "    return df\n",
        "\n",
        "# Run the pipeline\n",
        "df_final = etl_pipeline2()\n",
        "print(\"Final ETL Result:\")\n",
        "print(df_final)"
      ]
    },
    {
      "cell_type": "code",
      "execution_count": 12,
      "id": "ad6cd4d3",
      "metadata": {},
      "outputs": [],
      "source": [
        "def extract():\n",
        "    raw_data = {\n",
        "        'Name': ['Alice', 'Bob', None, 'David'],\n",
        "        'Score': [85, 90, None, 88]\n",
        "    }\n",
        "    df = pd.DataFrame(raw_data)\n",
        "    return df\n",
        "\n",
        "def transform(df):\n",
        "    df['Name'] = df['Name'].fillna('Unknown')\n",
        "    df['Score'] = df['Score'].fillna(df['Score'].mean())\n",
        "    df['Passed'] = df['Score'] > 80\n",
        "\n",
        "    df['ScoreBucket'] = pd.cut(\n",
        "    df['Score'],\n",
        "    bins=[0, 70, 85, 100],         # define bucket edges\n",
        "    labels=['Low', 'Medium', 'High'],  # bucket labels\n",
        "    include_lowest=True)\n",
        "\n",
        "    return df\n",
        "\n",
        "def load(df):\n",
        "    df.to_csv(\"etl_output.csv\", index=False)\n",
        "\n",
        "df = extract()\n",
        "transformed_df = transform(df)\n",
        "load(transformed_df)"
      ]
    }
  ],
  "metadata": {
    "colab": {
      "provenance": [],
      "toc_visible": true
    },
    "kernelspec": {
      "display_name": "Python 3",
      "name": "python3"
    },
    "language_info": {
      "codemirror_mode": {
        "name": "ipython",
        "version": 3
      },
      "file_extension": ".py",
      "mimetype": "text/x-python",
      "name": "python",
      "nbconvert_exporter": "python",
      "pygments_lexer": "ipython3",
      "version": "3.12.3"
    }
  },
  "nbformat": 4,
  "nbformat_minor": 5
}
