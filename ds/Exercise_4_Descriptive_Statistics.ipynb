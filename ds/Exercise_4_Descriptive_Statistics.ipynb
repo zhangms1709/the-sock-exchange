{
  "cells": [
    {
      "cell_type": "markdown",
      "id": "fd05eced",
      "metadata": {
        "id": "fd05eced"
      },
      "source": [
        "# Exercise 4 - Descriptive Statistics"
      ]
    },
    {
      "cell_type": "markdown",
      "id": "66d98c18",
      "metadata": {
        "id": "66d98c18"
      },
      "source": [
        "## Understanding Different Data Types\n",
        "\n",
        "In data analysis, understanding the different types of data you're working with is crucial. Data types determine what kind of operations you can perform and how you should analyze the data. **This is particularly important for descriptive statistics, as the type of data dictates which statistical measures are appropriate and how they should be interpreted.** Here are some common data types you'll encounter:\n",
        "\n",
        "- **Numeric Data:** Represents quantities and can be used in mathematical operations.\n",
        "  - **Integers (`int`):** Whole numbers without decimals (e.g., 1, 100, -5).\n",
        "  - **Floats (`float`):** Numbers with decimal points (e.g., 1.5, 3.14, -0.01).\n",
        "  - **Use Cases:** Analyzing sales figures, temperatures, ages, measurements, etc.\n",
        "  - **Relevance to Descriptive Statistics:** Applicable for measures like mean, median, standard deviation, skewness, and kurtosis.\n",
        "\n",
        "- **Categorical Data:** Represents categories or groups. These can be nominal (no inherent order) or ordinal (have a meaningful order).\n",
        "  - **Objects (`object`):** Often used for strings (text) but can also hold mixed data types. Pandas often uses 'object' for categorical data before it's explicitly converted.\n",
        "  - **Category (`category`):** A Pandas data type for categorical data that can improve memory efficiency and performance.\n",
        "  - **Use Cases:** Analyzing product types, customer segments, survey responses (e.g., 'Yes', 'No', 'Maybe'), educational levels, etc.\n",
        "  - **Relevance to Descriptive Statistics:** Useful for calculating counts, frequencies, modes, and proportions.\n",
        "\n",
        "- **Datetime Data:** Represents points in time.\n",
        "  - **Datetime (`datetime64[ns]`):** Pandas data type for timestamps.\n",
        "  - **Use Cases:** Analyzing trends over time, tracking events, time series analysis, etc.\n",
        "  - **Relevance to Descriptive Statistics:** Used for analyzing trends over time, determining time ranges, and extracting time-based features.\n",
        "\n",
        "- **Boolean Data:** Represents truth values (True or False).\n",
        "  - **Boolean (`bool`):** Represents True or False.\n",
        "  - **Use Cases:** Filtering data based on conditions, representing binary outcomes (e.g., 'Is Active', 'Has Purchased').\n",
        "  - **Relevance to Descriptive Statistics:** Can be used to calculate proportions or counts of True/False values.\n",
        "\n",
        "Understanding the data types in your dataset is often the first step in data cleaning and preparation, and it directly impacts your ability to perform meaningful descriptive analysis."
      ]
    },
    {
      "cell_type": "markdown",
      "id": "2af9deb9",
      "metadata": {
        "id": "2af9deb9"
      },
      "source": [
        "### Practice\n",
        "\n",
        "- Create a new DataFrame with at least 5 different data types.\n",
        "- Use `.info()` to get a summary of the DataFrame, including data types and non-null values.\n",
        "- Select columns based on their data type (e.g., select all numeric columns).\n",
        "- Try converting a numeric column to an object type and observe the change in `.dtypes`."
      ]
    },
    {
      "cell_type": "code",
      "execution_count": 19,
      "id": "663b6df3",
      "metadata": {
        "colab": {
          "base_uri": "https://localhost:8080/"
        },
        "id": "663b6df3",
        "outputId": "e80a2415-836e-47e5-949c-39e0d00554e5"
      },
      "outputs": [
        {
          "name": "stdout",
          "output_type": "stream",
          "text": [
            "Data types of the DataFrame:\n",
            "CustomerID        int64\n",
            "ProductName      object\n",
            "Price           float64\n",
            "Quantity          int64\n",
            "PurchaseDate     object\n",
            "IsMember           bool\n",
            "dtype: object\n",
            "\n",
            "Data types after conversion:\n",
            "CustomerID               int64\n",
            "ProductName           category\n",
            "Price                  float64\n",
            "Quantity                 int64\n",
            "PurchaseDate    datetime64[ns]\n",
            "IsMember                  bool\n",
            "dtype: object\n",
            "\n",
            "Value counts for ProductName:\n",
            "ProductName\n",
            "Laptop      2\n",
            "Keyboard    1\n",
            "Monitor     1\n",
            "Mouse       1\n",
            "Name: count, dtype: int64\n"
          ]
        }
      ],
      "source": [
        "import pandas as pd\n",
        "\n",
        "# Create a sample DataFrame with different data types\n",
        "data = {\n",
        "    'CustomerID': [101, 102, 103, 104, 105],\n",
        "    'ProductName': ['Laptop', 'Keyboard', 'Mouse', 'Laptop', 'Monitor'],\n",
        "    'Price': [1200.50, 75.00, 25.00, 1200.50, 300.00],\n",
        "    'Quantity': [1, 2, 3, 1, 2],\n",
        "    'PurchaseDate': ['2023-01-10', '2023-01-10', '2023-01-15', '2023-01-20', '2023-01-20'],\n",
        "    'IsMember': [True, False, True, True, False]\n",
        "}\n",
        "\n",
        "df_types = pd.DataFrame(data)\n",
        "\n",
        "\n",
        "# Display the data types of each column\n",
        "print(\"Data types of the DataFrame:\")\n",
        "print(df_types.dtypes)\n",
        "\n",
        "# Convert 'PurchaseDate' to datetime\n",
        "df_types['PurchaseDate'] = pd.to_datetime(df_types['PurchaseDate'])\n",
        "\n",
        "# Convert 'ProductName' to category\n",
        "df_types['ProductName'] = df_types['ProductName'].astype('category')\n",
        "\n",
        "print(\"\\nData types after conversion:\")\n",
        "print(df_types.dtypes)\n",
        "\n",
        "# You can also see the unique values and their counts for categorical data\n",
        "print(\"\\nValue counts for ProductName:\")\n",
        "print(df_types['ProductName'].value_counts())"
      ]
    },
    {
      "cell_type": "code",
      "execution_count": 20,
      "id": "775b98b9",
      "metadata": {},
      "outputs": [
        {
          "name": "stdout",
          "output_type": "stream",
          "text": [
            "<class 'pandas.core.frame.DataFrame'>\n",
            "RangeIndex: 5 entries, 0 to 4\n",
            "Data columns (total 6 columns):\n",
            " #   Column        Non-Null Count  Dtype         \n",
            "---  ------        --------------  -----         \n",
            " 0   CustomerID    5 non-null      int64         \n",
            " 1   ProductName   5 non-null      category      \n",
            " 2   Price         5 non-null      float64       \n",
            " 3   Quantity      5 non-null      int64         \n",
            " 4   PurchaseDate  5 non-null      datetime64[ns]\n",
            " 5   IsMember      5 non-null      bool          \n",
            "dtypes: bool(1), category(1), datetime64[ns](1), float64(1), int64(2)\n",
            "memory usage: 506.0 bytes\n"
          ]
        }
      ],
      "source": [
        "df_types.info()"
      ]
    },
    {
      "cell_type": "code",
      "execution_count": 21,
      "id": "a53cb17e",
      "metadata": {},
      "outputs": [
        {
          "data": {
            "text/html": [
              "<div>\n",
              "<style scoped>\n",
              "    .dataframe tbody tr th:only-of-type {\n",
              "        vertical-align: middle;\n",
              "    }\n",
              "\n",
              "    .dataframe tbody tr th {\n",
              "        vertical-align: top;\n",
              "    }\n",
              "\n",
              "    .dataframe thead th {\n",
              "        text-align: right;\n",
              "    }\n",
              "</style>\n",
              "<table border=\"1\" class=\"dataframe\">\n",
              "  <thead>\n",
              "    <tr style=\"text-align: right;\">\n",
              "      <th></th>\n",
              "      <th>CustomerID</th>\n",
              "      <th>Price</th>\n",
              "      <th>Quantity</th>\n",
              "    </tr>\n",
              "  </thead>\n",
              "  <tbody>\n",
              "    <tr>\n",
              "      <th>0</th>\n",
              "      <td>101</td>\n",
              "      <td>1200.5</td>\n",
              "      <td>1</td>\n",
              "    </tr>\n",
              "    <tr>\n",
              "      <th>1</th>\n",
              "      <td>102</td>\n",
              "      <td>75.0</td>\n",
              "      <td>2</td>\n",
              "    </tr>\n",
              "    <tr>\n",
              "      <th>2</th>\n",
              "      <td>103</td>\n",
              "      <td>25.0</td>\n",
              "      <td>3</td>\n",
              "    </tr>\n",
              "    <tr>\n",
              "      <th>3</th>\n",
              "      <td>104</td>\n",
              "      <td>1200.5</td>\n",
              "      <td>1</td>\n",
              "    </tr>\n",
              "    <tr>\n",
              "      <th>4</th>\n",
              "      <td>105</td>\n",
              "      <td>300.0</td>\n",
              "      <td>2</td>\n",
              "    </tr>\n",
              "  </tbody>\n",
              "</table>\n",
              "</div>"
            ],
            "text/plain": [
              "   CustomerID   Price  Quantity\n",
              "0         101  1200.5         1\n",
              "1         102    75.0         2\n",
              "2         103    25.0         3\n",
              "3         104  1200.5         1\n",
              "4         105   300.0         2"
            ]
          },
          "execution_count": 21,
          "metadata": {},
          "output_type": "execute_result"
        }
      ],
      "source": [
        "df_types.select_dtypes(include='number')"
      ]
    },
    {
      "cell_type": "markdown",
      "id": "a021d678",
      "metadata": {
        "id": "a021d678"
      },
      "source": [
        "## Calculating Summary Statistics\n",
        "Descriptive statistics help summarize the central tendency, dispersion, and shape of a dataset’s distribution.\n",
        "\n",
        "**Key Metrics:**\n",
        "- Mean, Median, Mode\n",
        "- Standard Deviation, Variance\n",
        "- Min, Max, and Quantiles\n",
        "\n",
        "**Use Case:**\n",
        "Use descriptive stats to understand customer behavior, sales trends, or survey responses.\n"
      ]
    },
    {
      "cell_type": "code",
      "execution_count": 1,
      "id": "bea86c11",
      "metadata": {
        "id": "bea86c11"
      },
      "outputs": [
        {
          "name": "stdout",
          "output_type": "stream",
          "text": [
            "Mean: 327.14285714285717\n",
            "Standard Deviation: 59.64178784328029\n",
            "Minimum: 250\n",
            "Maximum: 400\n",
            "25th Percentile: 285.0\n"
          ]
        }
      ],
      "source": [
        "import pandas as pd\n",
        "\n",
        "# Create sample data\n",
        "data = {'Sales': [250, 270, 300, 310, 400, 390, 370]}\n",
        "df = pd.DataFrame(data)\n",
        "\n",
        "# Calculate summary statistics\n",
        "print(\"Mean:\", df['Sales'].mean())\n",
        "print(\"Standard Deviation:\", df['Sales'].std())\n",
        "print(\"Minimum:\", df['Sales'].min())\n",
        "print(\"Maximum:\", df['Sales'].max())\n",
        "print(\"25th Percentile:\", df['Sales'].quantile(0.25))\n"
      ]
    },
    {
      "cell_type": "markdown",
      "id": "ca18390d",
      "metadata": {
        "id": "ca18390d"
      },
      "source": [
        "### Practice\n",
        "\n",
        "- Provide defintiions and uses for the key metrics\n",
        "- Create a new column and computing its stats\n",
        "- Compare two columns\n",
        "- Visualize summary stats with a boxplot\n"
      ]
    },
    {
      "cell_type": "code",
      "execution_count": 15,
      "id": "84a648c4",
      "metadata": {
        "id": "84a648c4"
      },
      "outputs": [
        {
          "name": "stdout",
          "output_type": "stream",
          "text": [
            "           SalesA\n",
            "count    7.000000\n",
            "mean   327.142857\n",
            "std     59.641788\n",
            "min    250.000000\n",
            "25%    285.000000\n",
            "50%    310.000000\n",
            "75%    380.000000\n",
            "max    400.000000\n",
            "           SalesB\n",
            "count    7.000000\n",
            "mean   267.142857\n",
            "std    129.706629\n",
            "min    100.000000\n",
            "25%    180.000000\n",
            "50%    220.000000\n",
            "75%    370.000000\n",
            "max    450.000000\n"
          ]
        }
      ],
      "source": [
        "# Your practice code/notes here\n",
        "data = {'SalesA': [250, 270, 300, 310, 400, 390, 370]}\n",
        "data2 = {'SalesB': [100, 220, 350, 390, 450, 190, 170]}\n",
        "df = pd.DataFrame(data)\n",
        "df2 = pd.DataFrame(data2)\n",
        "print(df.describe())\n",
        "print(df2.describe())"
      ]
    },
    {
      "cell_type": "code",
      "execution_count": 11,
      "id": "3a77f929",
      "metadata": {},
      "outputs": [
        {
          "data": {
            "text/plain": [
              "<Axes: >"
            ]
          },
          "execution_count": 11,
          "metadata": {},
          "output_type": "execute_result"
        },
        {
          "data": {
            "image/png": "[encoded data removed]",
            "text/plain": [
              "<Figure size 640x480 with 1 Axes>"
            ]
          },
          "metadata": {},
          "output_type": "display_data"
        }
      ],
      "source": [
        "from matplotlib import pyplot as plt\n",
        "df.boxplot()"
      ]
    },
    {
      "cell_type": "code",
      "execution_count": 17,
      "id": "d086783f",
      "metadata": {},
      "outputs": [
        {
          "data": {
            "image/png": "[encoded data removed]",
            "text/plain": [
              "<Figure size 640x480 with 1 Axes>"
            ]
          },
          "metadata": {},
          "output_type": "display_data"
        }
      ],
      "source": [
        "df2.boxplot()\n",
        "plt.show()"
      ]
    },
    {
      "cell_type": "markdown",
      "id": "29022a64",
      "metadata": {
        "id": "29022a64"
      },
      "source": [
        "## Using Pandas .describe() and Skewness/Kurtosis\n",
        "Pandas offers a built-in `.describe()` method for quick numeric summaries. You can also compute:\n",
        "\n",
        "**Skewnes** tells you about the symmetry of your data.\n",
        "\n",
        "- **Use Case:** If you are analyzing income data and see a high positive skewness, it indicates that there are a few individuals with very high incomes that are pulling the average up, while most people have lower incomes. This can be important for understanding wealth distribution or target marketing. In finance, skewness can indicate the potential for extreme gains or losses.\n",
        "\n",
        "**Kurtosis** tells you about the \"tailedness\" and peak of your data's distribution.\n",
        "\n",
        "- **Use Case:** High kurtosis (leptokurtic distribution) means the data has heavy tails and a sharper peak. This suggests a higher probability of extreme values (outliers). In finance, this could mean a higher risk of large price swings. Low kurtosis (platykurtic distribution) means lighter tails and a flatter peak, suggesting fewer extreme values.\n",
        "\n"
      ]
    },
    {
      "cell_type": "code",
      "execution_count": null,
      "id": "ec003140",
      "metadata": {
        "colab": {
          "base_uri": "https://localhost:8080/"
        },
        "id": "ec003140",
        "outputId": "28e9b624-2185-4796-88de-23998ef34272"
      },
      "outputs": [
        {
          "name": "stdout",
          "output_type": "stream",
          "text": [
            "              Income\n",
            "count       6.000000\n",
            "mean    90833.333333\n",
            "std     67632.585835\n",
            "min     35000.000000\n",
            "25%     47500.000000\n",
            "50%     57500.000000\n",
            "75%    127500.000000\n",
            "max    200000.000000\n",
            "Skewness: 1.1272636006887449\n",
            "Kurtosis: -0.530302560104559\n"
          ]
        }
      ],
      "source": [
        "import pandas as pd\n",
        "\n",
        "# Sample dataset\n",
        "data = {'Income': [35_000, 45_000, 55_000, 60_000, 150_000, 200_000]}\n",
        "df = pd.DataFrame(data)\n",
        "\n",
        "# Describe and compute skew/kurtosis\n",
        "print(df.describe())\n",
        "print(\"Skewness:\", df['Income'].skew())\n",
        "print(\"Kurtosis:\", df['Income'].kurt())\n"
      ]
    },
    {
      "cell_type": "markdown",
      "id": "8fe7c122",
      "metadata": {
        "id": "8fe7c122"
      },
      "source": [
        "### Practice\n",
        "\n",
        "- Add outliers to the dataset and see how skew/kurtosis change\n",
        "- Compute these stats for another numeric column\n"
      ]
    },
    {
      "cell_type": "code",
      "execution_count": 2,
      "id": "e68176aa",
      "metadata": {
        "id": "e68176aa"
      },
      "outputs": [
        {
          "name": "stdout",
          "output_type": "stream",
          "text": [
            "Skewness: 2.4494883250988435\n",
            "Kurtosis: 5.999994596177174\n"
          ]
        }
      ],
      "source": [
        "# Your practice code here\n",
        "data = {'Income': [35_000, 45_000, 55_000, 60_000, 150_000, 200_000_000]}\n",
        "df = pd.DataFrame(data)\n",
        "\n",
        "# Describe and compute skew/kurtosis\n",
        "print(\"Skewness:\", df['Income'].skew())\n",
        "print(\"Kurtosis:\", df['Income'].kurt())"
      ]
    },
    {
      "cell_type": "code",
      "execution_count": 4,
      "id": "da55ef74",
      "metadata": {},
      "outputs": [
        {
          "name": "stdout",
          "output_type": "stream",
          "text": [
            "Skewness: 0.7544432052012143\n",
            "Kurtosis: 0.3438002479166329\n"
          ]
        }
      ],
      "source": [
        "data = {'Sales': [10000, 20000, 5000, 10]}\n",
        "df = pd.DataFrame(data)\n",
        "\n",
        "print(\"Skewness:\", df['Sales'].skew())\n",
        "print(\"Kurtosis:\", df['Sales'].kurt())"
      ]
    },
    {
      "cell_type": "markdown",
      "id": "808b91f2",
      "metadata": {
        "id": "808b91f2"
      },
      "source": [
        "## Descriptive Statistics for Categorical Data\n",
        "\n",
        "Unlike numeric data, which focuses on measures like mean and standard deviation, descriptive statistics for categorical data focus on understanding the distribution and frequency of categories within a dataset. This is essential for summarizing non-numeric information and identifying patterns or common occurrences.\n",
        "\n",
        "**Key Metrics for Categorical Data:**\n",
        "\n",
        "- **Counts:** The number of times each unique category appears in a column.\n",
        "- **Frequencies (or Proportions):** The percentage or proportion of the total observations that fall into each category.\n",
        "- **Mode:** The category that appears most frequently in the dataset.\n",
        "\n",
        "**Why is this important for Descriptive Statistics?**\n",
        "\n",
        "Understanding the distribution of categorical data helps you describe the composition of your dataset. For example, in a customer dataset, analyzing the categories of 'City' or 'Product Type' can tell you which cities have the most customers or which products are most popular. This information is crucial for making informed decisions, such as targeting marketing campaigns or managing inventory."
      ]
    },
    {
      "cell_type": "code",
      "execution_count": 5,
      "id": "39820229",
      "metadata": {
        "colab": {
          "base_uri": "https://localhost:8080/"
        },
        "id": "39820229",
        "outputId": "1102a9d6-107c-4777-8db3-77d9308ec0a3"
      },
      "outputs": [
        {
          "name": "stdout",
          "output_type": "stream",
          "text": [
            "Original DataFrame:\n",
            "  Product Category\n",
            "0      Electronics\n",
            "1         Clothing\n",
            "2      Electronics\n",
            "3            Books\n",
            "4         Clothing\n",
            "5      Electronics\n",
            "6            Books\n",
            "7         Clothing\n",
            "\n",
            "Value counts for 'Product Category':\n",
            "Product Category\n",
            "Electronics    3\n",
            "Clothing       3\n",
            "Books          2\n",
            "Name: count, dtype: int64\n",
            "\n",
            "Frequency of 'Product Category':\n",
            "Product Category\n",
            "Electronics    0.375\n",
            "Clothing       0.375\n",
            "Books          0.250\n",
            "Name: proportion, dtype: float64\n",
            "\n",
            "Mode of 'Product Category':\n",
            "0       Clothing\n",
            "1    Electronics\n",
            "Name: Product Category, dtype: object\n"
          ]
        }
      ],
      "source": [
        "import pandas as pd\n",
        "\n",
        "# Sample DataFrame with categorical data\n",
        "data = {'Product Category': ['Electronics', 'Clothing', 'Electronics', 'Books', 'Clothing', 'Electronics', 'Books', 'Clothing']}\n",
        "df_categorical = pd.DataFrame(data)\n",
        "\n",
        "print(\"Original DataFrame:\")\n",
        "print(df_categorical)\n",
        "\n",
        "# Get the count of each unique category\n",
        "print(\"\\nValue counts for 'Product Category':\")\n",
        "print(df_categorical['Product Category'].value_counts())\n",
        "\n",
        "# Get the frequency (proportion) of each unique category\n",
        "print(\"\\nFrequency of 'Product Category':\")\n",
        "print(df_categorical['Product Category'].value_counts(normalize=True))\n",
        "\n",
        "# Get the mode of the column\n",
        "print(\"\\nMode of 'Product Category':\")\n",
        "print(df_categorical['Product Category'].mode())"
      ]
    },
    {
      "cell_type": "markdown",
      "id": "16ddcc04",
      "metadata": {
        "id": "16ddcc04"
      },
      "source": [
        "### Practice\n",
        "\n",
        "- Create a DataFrame with another categorical column (e.g., 'Customer_Segment').\n",
        "- Compute the value counts and frequencies for the new column.\n",
        "- Find the mode of the new column.\n",
        "- Consider a scenario where a categorical column might have more than one mode (multimodal) and think about how `.mode()` handles this."
      ]
    },
    {
      "cell_type": "code",
      "execution_count": 22,
      "id": "YCCLgq2SS9sI",
      "metadata": {
        "id": "YCCLgq2SS9sI"
      },
      "outputs": [
        {
          "name": "stdout",
          "output_type": "stream",
          "text": [
            "Customer Segment\n",
            "A    3\n",
            "B    3\n",
            "C    2\n",
            "Name: count, dtype: int64\n",
            "Customer Segment\n",
            "A    0.375\n",
            "B    0.375\n",
            "C    0.250\n",
            "Name: proportion, dtype: float64\n",
            "0    A\n",
            "1    B\n",
            "Name: Customer Segment, dtype: object\n"
          ]
        }
      ],
      "source": [
        "# Your practice code here\n",
        "data = {'Product Category': ['Electronics', 'Clothing', 'Electronics', 'Books', 'Clothing', 'Electronics', 'Books', 'Clothing'],\n",
        "        'Customer Segment': ['A', 'B', 'C', 'B', 'A', 'C', 'A', 'B']}\n",
        "df_categorical = pd.DataFrame(data)\n",
        "\n",
        "print(df_categorical['Customer Segment'].value_counts())\n",
        "print(df_categorical['Customer Segment'].value_counts(normalize=True))\n",
        "print(df_categorical['Customer Segment'].mode())"
      ]
    }
  ],
  "metadata": {
    "colab": {
      "provenance": [],
      "toc_visible": true
    },
    "kernelspec": {
      "display_name": "Python 3",
      "name": "python3"
    },
    "language_info": {
      "codemirror_mode": {
        "name": "ipython",
        "version": 3
      },
      "file_extension": ".py",
      "mimetype": "text/x-python",
      "name": "python",
      "nbconvert_exporter": "python",
      "pygments_lexer": "ipython3",
      "version": "3.12.3"
    }
  },
  "nbformat": 4,
  "nbformat_minor": 5
}
