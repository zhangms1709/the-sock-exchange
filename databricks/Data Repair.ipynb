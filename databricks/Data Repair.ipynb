{
 "cells": [
  {
   "cell_type": "code",
   "execution_count": 0,
   "metadata": {
    "application/vnd.databricks.v1+cell": {
     "cellMetadata": {
      "byteLimit": 2048000,
      "rowLimit": 10000
     },
     "inputWidgets": {},
     "nuid": "43b617a2-dfe5-44c3-a495-907ff1f1bfd5",
     "showTitle": false,
     "tableResultSettingsMap": {},
     "title": ""
    }
   },
   "outputs": [
    {
     "output_type": "display_data",
     "data": {
      "text/html": [
       "<style scoped>\n",
       "  .table-result-container {\n",
       "    max-height: 300px;\n",
       "    overflow: auto;\n",
       "  }\n",
       "  table, th, td {\n",
       "    border: 1px solid black;\n",
       "    border-collapse: collapse;\n",
       "  }\n",
       "  th, td {\n",
       "    padding: 5px;\n",
       "  }\n",
       "  th {\n",
       "    text-align: left;\n",
       "  }\n",
       "</style><div class='table-result-container'><table class='table-result'><thead style='background-color: white'><tr><th>Size</th><th>Color</th><th>Pattern</th><th>Material</th></tr></thead><tbody><tr><td>Medium</td><td>RED</td><td>Striped</td><td>Cotton</td></tr><tr><td>Large</td><td></td><td>Polka dot</td><td>123</td></tr><tr><td>null</td><td>BLUE</td><td>null</td><td>Wool</td></tr><tr><td>Small</td><td>Green</td><td>Argyle</td><td>Bamboo</td></tr><tr><td>Medium</td><td>Red</td><td>Checkered</td><td>Cotton</td></tr><tr><td>Large</td><td>Blue</td><td>Graphic</td><td>Polyester</td></tr><tr><td>Small</td><td></td><td>Solid</td><td>Nylon</td></tr><tr><td>null</td><td>Green</td><td>null</td><td>123</td></tr><tr><td>Medium</td><td>Purple</td><td>Polka dot</td><td>Spandex</td></tr><tr><td>Large</td><td>Red</td><td>Striped</td><td>Wool</td></tr></tbody></table></div>"
      ]
     },
     "metadata": {
      "application/vnd.databricks.v1+output": {
       "addedWidgets": {},
       "aggData": [],
       "aggError": "",
       "aggOverflow": false,
       "aggSchema": [],
       "aggSeriesLimitReached": false,
       "aggType": "",
       "arguments": {},
       "columnCustomDisplayInfos": {},
       "data": [
        [
         "Medium",
         "RED",
         "Striped",
         "Cotton"
        ],
        [
         "Large",
         "",
         "Polka dot",
         "123"
        ],
        [
         null,
         "BLUE",
         null,
         "Wool"
        ],
        [
         "Small",
         "Green",
         "Argyle",
         "Bamboo"
        ],
        [
         "Medium",
         "Red",
         "Checkered",
         "Cotton"
        ],
        [
         "Large",
         "Blue",
         "Graphic",
         "Polyester"
        ],
        [
         "Small",
         "",
         "Solid",
         "Nylon"
        ],
        [
         null,
         "Green",
         null,
         "123"
        ],
        [
         "Medium",
         "Purple",
         "Polka dot",
         "Spandex"
        ],
        [
         "Large",
         "Red",
         "Striped",
         "Wool"
        ]
       ],
       "datasetInfos": [],
       "dbfsResultPath": null,
       "isJsonSchema": true,
       "metadata": {},
       "overflow": false,
       "plotOptions": {
        "customPlotOptions": {},
        "displayType": "table",
        "pivotAggregation": null,
        "pivotColumns": null,
        "xColumns": null,
        "yColumns": null
       },
       "removedWidgets": [],
       "schema": [
        {
         "metadata": "{}",
         "name": "Size",
         "type": "\"string\""
        },
        {
         "metadata": "{}",
         "name": "Color",
         "type": "\"string\""
        },
        {
         "metadata": "{}",
         "name": "Pattern",
         "type": "\"string\""
        },
        {
         "metadata": "{}",
         "name": "Material",
         "type": "\"string\""
        }
       ],
       "type": "table"
      }
     },
     "output_type": "display_data"
    }
   ],
   "source": [
    "import pandas as pd\n",
    "# Create a sample DataFrame\n",
    "data = {\n",
    "\"Size\": [\"Medium\", \"Large\", None, \"Small\", \"Medium\", \"Large\", \"Small\", None,\n",
    "         \"Medium\", \"Large\"],\n",
    "\"Color\": [\"RED\", \"\", \"BLUE\", \"Green\", \"Red\", \"Blue\", \"\", \"Green\", \"Purple\",\n",
    "\"Red\"],\n",
    "\"Pattern\": [\"Striped\", \"Polka dot\", None, \"Argyle\", \"Checkered\", \"Graphic\",\n",
    "\"Solid\", None, \"Polka dot\", \"Striped\"],\n",
    "\"Material\": [\"Cotton\", \"123\", \"Wool\", \"Bamboo\", \"Cotton\", \"Polyester\",\n",
    "\"Nylon\", \"123\", \"Spandex\", \"Wool\"]\n",
    "}\n",
    "df = pd.DataFrame(data)\n",
    "display(df)"
   ]
  },
  {
   "cell_type": "code",
   "execution_count": 0,
   "metadata": {
    "application/vnd.databricks.v1+cell": {
     "cellMetadata": {
      "byteLimit": 2048000,
      "rowLimit": 10000
     },
     "inputWidgets": {},
     "nuid": "ab9ce23e-9c61-46cb-b436-b525d093ae64",
     "showTitle": false,
     "tableResultSettingsMap": {},
     "title": ""
    }
   },
   "outputs": [
    {
     "output_type": "display_data",
     "data": {
      "text/html": [
       "<style scoped>\n",
       "  .table-result-container {\n",
       "    max-height: 300px;\n",
       "    overflow: auto;\n",
       "  }\n",
       "  table, th, td {\n",
       "    border: 1px solid black;\n",
       "    border-collapse: collapse;\n",
       "  }\n",
       "  th, td {\n",
       "    padding: 5px;\n",
       "  }\n",
       "  th {\n",
       "    text-align: left;\n",
       "  }\n",
       "</style><div class='table-result-container'><table class='table-result'><thead style='background-color: white'><tr><th>Size</th><th>Color</th><th>Pattern</th><th>Material</th></tr></thead><tbody><tr><td>Medium</td><td>RED</td><td>Striped</td><td>Cotton</td></tr><tr><td>Large</td><td></td><td>Polka dot</td><td>123</td></tr><tr><td>Large</td><td>BLUE</td><td>Polka dot</td><td>Wool</td></tr><tr><td>Small</td><td>Green</td><td>Argyle</td><td>Bamboo</td></tr><tr><td>Medium</td><td>Red</td><td>Checkered</td><td>Cotton</td></tr><tr><td>Large</td><td>Blue</td><td>Graphic</td><td>Polyester</td></tr><tr><td>Small</td><td></td><td>Solid</td><td>Nylon</td></tr><tr><td>Large</td><td>Green</td><td>Polka dot</td><td>123</td></tr><tr><td>Medium</td><td>Purple</td><td>Polka dot</td><td>Spandex</td></tr><tr><td>Large</td><td>Red</td><td>Striped</td><td>Wool</td></tr></tbody></table></div>"
      ]
     },
     "metadata": {
      "application/vnd.databricks.v1+output": {
       "addedWidgets": {},
       "aggData": [],
       "aggError": "",
       "aggOverflow": false,
       "aggSchema": [],
       "aggSeriesLimitReached": false,
       "aggType": "",
       "arguments": {},
       "columnCustomDisplayInfos": {},
       "data": [
        [
         "Medium",
         "RED",
         "Striped",
         "Cotton"
        ],
        [
         "Large",
         "",
         "Polka dot",
         "123"
        ],
        [
         "Large",
         "BLUE",
         "Polka dot",
         "Wool"
        ],
        [
         "Small",
         "Green",
         "Argyle",
         "Bamboo"
        ],
        [
         "Medium",
         "Red",
         "Checkered",
         "Cotton"
        ],
        [
         "Large",
         "Blue",
         "Graphic",
         "Polyester"
        ],
        [
         "Small",
         "",
         "Solid",
         "Nylon"
        ],
        [
         "Large",
         "Green",
         "Polka dot",
         "123"
        ],
        [
         "Medium",
         "Purple",
         "Polka dot",
         "Spandex"
        ],
        [
         "Large",
         "Red",
         "Striped",
         "Wool"
        ]
       ],
       "datasetInfos": [],
       "dbfsResultPath": null,
       "isJsonSchema": true,
       "metadata": {},
       "overflow": false,
       "plotOptions": {
        "customPlotOptions": {},
        "displayType": "table",
        "pivotAggregation": null,
        "pivotColumns": null,
        "xColumns": null,
        "yColumns": null
       },
       "removedWidgets": [],
       "schema": [
        {
         "metadata": "{}",
         "name": "Size",
         "type": "\"string\""
        },
        {
         "metadata": "{}",
         "name": "Color",
         "type": "\"string\""
        },
        {
         "metadata": "{}",
         "name": "Pattern",
         "type": "\"string\""
        },
        {
         "metadata": "{}",
         "name": "Material",
         "type": "\"string\""
        }
       ],
       "type": "table"
      }
     },
     "output_type": "display_data"
    }
   ],
   "source": [
    "df['Size'] = df['Size'].fillna(df['Size'].mode()[0])\n",
    "df['Pattern'] = df['Pattern'].fillna(df['Pattern'].mode()[0])\n",
    "display(df)"
   ]
  },
  {
   "cell_type": "code",
   "execution_count": 0,
   "metadata": {
    "application/vnd.databricks.v1+cell": {
     "cellMetadata": {
      "byteLimit": 2048000,
      "rowLimit": 10000
     },
     "inputWidgets": {},
     "nuid": "85d9e472-dce5-4d31-b40c-4b44515432c4",
     "showTitle": false,
     "tableResultSettingsMap": {},
     "title": ""
    }
   },
   "outputs": [
    {
     "output_type": "display_data",
     "data": {
      "text/html": [
       "<style scoped>\n",
       "  .table-result-container {\n",
       "    max-height: 300px;\n",
       "    overflow: auto;\n",
       "  }\n",
       "  table, th, td {\n",
       "    border: 1px solid black;\n",
       "    border-collapse: collapse;\n",
       "  }\n",
       "  th, td {\n",
       "    padding: 5px;\n",
       "  }\n",
       "  th {\n",
       "    text-align: left;\n",
       "  }\n",
       "</style><div class='table-result-container'><table class='table-result'><thead style='background-color: white'><tr><th>Size</th><th>Color</th><th>Pattern</th><th>Material</th></tr></thead><tbody><tr><td>Medium</td><td>RED</td><td>Striped</td><td>Cotton</td></tr><tr><td>Large</td><td>BLUE</td><td>Polka dot</td><td>Wool</td></tr><tr><td>Small</td><td>Green</td><td>Argyle</td><td>Bamboo</td></tr><tr><td>Medium</td><td>Red</td><td>Checkered</td><td>Cotton</td></tr><tr><td>Large</td><td>Blue</td><td>Graphic</td><td>Polyester</td></tr><tr><td>Large</td><td>Green</td><td>Polka dot</td><td>123</td></tr><tr><td>Medium</td><td>Purple</td><td>Polka dot</td><td>Spandex</td></tr><tr><td>Large</td><td>Red</td><td>Striped</td><td>Wool</td></tr></tbody></table></div>"
      ]
     },
     "metadata": {
      "application/vnd.databricks.v1+output": {
       "addedWidgets": {},
       "aggData": [],
       "aggError": "",
       "aggOverflow": false,
       "aggSchema": [],
       "aggSeriesLimitReached": false,
       "aggType": "",
       "arguments": {},
       "columnCustomDisplayInfos": {},
       "data": [
        [
         "Medium",
         "RED",
         "Striped",
         "Cotton"
        ],
        [
         "Large",
         "BLUE",
         "Polka dot",
         "Wool"
        ],
        [
         "Small",
         "Green",
         "Argyle",
         "Bamboo"
        ],
        [
         "Medium",
         "Red",
         "Checkered",
         "Cotton"
        ],
        [
         "Large",
         "Blue",
         "Graphic",
         "Polyester"
        ],
        [
         "Large",
         "Green",
         "Polka dot",
         "123"
        ],
        [
         "Medium",
         "Purple",
         "Polka dot",
         "Spandex"
        ],
        [
         "Large",
         "Red",
         "Striped",
         "Wool"
        ]
       ],
       "datasetInfos": [],
       "dbfsResultPath": null,
       "isJsonSchema": true,
       "metadata": {},
       "overflow": false,
       "plotOptions": {
        "customPlotOptions": {},
        "displayType": "table",
        "pivotAggregation": null,
        "pivotColumns": null,
        "xColumns": null,
        "yColumns": null
       },
       "removedWidgets": [],
       "schema": [
        {
         "metadata": "{}",
         "name": "Size",
         "type": "\"string\""
        },
        {
         "metadata": "{}",
         "name": "Color",
         "type": "\"string\""
        },
        {
         "metadata": "{}",
         "name": "Pattern",
         "type": "\"string\""
        },
        {
         "metadata": "{}",
         "name": "Material",
         "type": "\"string\""
        }
       ],
       "type": "table"
      }
     },
     "output_type": "display_data"
    }
   ],
   "source": [
    "df = df[df['Color'] != \"\"]\n",
    "display(df)"
   ]
  },
  {
   "cell_type": "code",
   "execution_count": 0,
   "metadata": {
    "application/vnd.databricks.v1+cell": {
     "cellMetadata": {
      "byteLimit": 2048000,
      "rowLimit": 10000
     },
     "inputWidgets": {},
     "nuid": "999e1d26-75be-42e2-8a51-7da61892be62",
     "showTitle": false,
     "tableResultSettingsMap": {},
     "title": ""
    }
   },
   "outputs": [
    {
     "output_type": "display_data",
     "data": {
      "text/html": [
       "<style scoped>\n",
       "  .table-result-container {\n",
       "    max-height: 300px;\n",
       "    overflow: auto;\n",
       "  }\n",
       "  table, th, td {\n",
       "    border: 1px solid black;\n",
       "    border-collapse: collapse;\n",
       "  }\n",
       "  th, td {\n",
       "    padding: 5px;\n",
       "  }\n",
       "  th {\n",
       "    text-align: left;\n",
       "  }\n",
       "</style><div class='table-result-container'><table class='table-result'><thead style='background-color: white'><tr><th>Size</th><th>Color</th><th>Pattern</th><th>Material</th></tr></thead><tbody><tr><td>Medium</td><td>Red</td><td>Striped</td><td>Cotton</td></tr><tr><td>Large</td><td>Blue</td><td>Polka dot</td><td>Wool</td></tr><tr><td>Small</td><td>Green</td><td>Argyle</td><td>Bamboo</td></tr><tr><td>Medium</td><td>Red</td><td>Checkered</td><td>Cotton</td></tr><tr><td>Large</td><td>Blue</td><td>Graphic</td><td>Polyester</td></tr><tr><td>Large</td><td>Green</td><td>Polka dot</td><td>123</td></tr><tr><td>Medium</td><td>Purple</td><td>Polka dot</td><td>Spandex</td></tr><tr><td>Large</td><td>Red</td><td>Striped</td><td>Wool</td></tr></tbody></table></div>"
      ]
     },
     "metadata": {
      "application/vnd.databricks.v1+output": {
       "addedWidgets": {},
       "aggData": [],
       "aggError": "",
       "aggOverflow": false,
       "aggSchema": [],
       "aggSeriesLimitReached": false,
       "aggType": "",
       "arguments": {},
       "columnCustomDisplayInfos": {},
       "data": [
        [
         "Medium",
         "Red",
         "Striped",
         "Cotton"
        ],
        [
         "Large",
         "Blue",
         "Polka dot",
         "Wool"
        ],
        [
         "Small",
         "Green",
         "Argyle",
         "Bamboo"
        ],
        [
         "Medium",
         "Red",
         "Checkered",
         "Cotton"
        ],
        [
         "Large",
         "Blue",
         "Graphic",
         "Polyester"
        ],
        [
         "Large",
         "Green",
         "Polka dot",
         "123"
        ],
        [
         "Medium",
         "Purple",
         "Polka dot",
         "Spandex"
        ],
        [
         "Large",
         "Red",
         "Striped",
         "Wool"
        ]
       ],
       "datasetInfos": [],
       "dbfsResultPath": null,
       "isJsonSchema": true,
       "metadata": {},
       "overflow": false,
       "plotOptions": {
        "customPlotOptions": {},
        "displayType": "table",
        "pivotAggregation": null,
        "pivotColumns": null,
        "xColumns": null,
        "yColumns": null
       },
       "removedWidgets": [],
       "schema": [
        {
         "metadata": "{}",
         "name": "Size",
         "type": "\"string\""
        },
        {
         "metadata": "{}",
         "name": "Color",
         "type": "\"string\""
        },
        {
         "metadata": "{}",
         "name": "Pattern",
         "type": "\"string\""
        },
        {
         "metadata": "{}",
         "name": "Material",
         "type": "\"string\""
        }
       ],
       "type": "table"
      }
     },
     "output_type": "display_data"
    }
   ],
   "source": [
    "df['Color'] = df['Color'].str.capitalize()\n",
    "display(df)"
   ]
  },
  {
   "cell_type": "code",
   "execution_count": 0,
   "metadata": {
    "application/vnd.databricks.v1+cell": {
     "cellMetadata": {
      "byteLimit": 2048000,
      "rowLimit": 10000
     },
     "inputWidgets": {},
     "nuid": "7019a42b-d5c6-4341-9cbc-19805069f386",
     "showTitle": false,
     "tableResultSettingsMap": {},
     "title": ""
    }
   },
   "outputs": [
    {
     "output_type": "display_data",
     "data": {
      "text/html": [
       "<style scoped>\n",
       "  .table-result-container {\n",
       "    max-height: 300px;\n",
       "    overflow: auto;\n",
       "  }\n",
       "  table, th, td {\n",
       "    border: 1px solid black;\n",
       "    border-collapse: collapse;\n",
       "  }\n",
       "  th, td {\n",
       "    padding: 5px;\n",
       "  }\n",
       "  th {\n",
       "    text-align: left;\n",
       "  }\n",
       "</style><div class='table-result-container'><table class='table-result'><thead style='background-color: white'><tr><th>Size</th><th>Color</th><th>Pattern</th><th>Material</th></tr></thead><tbody><tr><td>Medium</td><td>Red</td><td>Striped</td><td>Cotton</td></tr><tr><td>Large</td><td>Blue</td><td>Polka dot</td><td>Wool</td></tr><tr><td>Small</td><td>Green</td><td>Argyle</td><td>Bamboo</td></tr><tr><td>Medium</td><td>Red</td><td>Checkered</td><td>Cotton</td></tr><tr><td>Large</td><td>Blue</td><td>Graphic</td><td>Polyester</td></tr><tr><td>Large</td><td>Green</td><td>Polka dot</td><td>Unknown</td></tr><tr><td>Medium</td><td>Purple</td><td>Polka dot</td><td>Spandex</td></tr><tr><td>Large</td><td>Red</td><td>Striped</td><td>Wool</td></tr></tbody></table></div>"
      ]
     },
     "metadata": {
      "application/vnd.databricks.v1+output": {
       "addedWidgets": {},
       "aggData": [],
       "aggError": "",
       "aggOverflow": false,
       "aggSchema": [],
       "aggSeriesLimitReached": false,
       "aggType": "",
       "arguments": {},
       "columnCustomDisplayInfos": {},
       "data": [
        [
         "Medium",
         "Red",
         "Striped",
         "Cotton"
        ],
        [
         "Large",
         "Blue",
         "Polka dot",
         "Wool"
        ],
        [
         "Small",
         "Green",
         "Argyle",
         "Bamboo"
        ],
        [
         "Medium",
         "Red",
         "Checkered",
         "Cotton"
        ],
        [
         "Large",
         "Blue",
         "Graphic",
         "Polyester"
        ],
        [
         "Large",
         "Green",
         "Polka dot",
         "Unknown"
        ],
        [
         "Medium",
         "Purple",
         "Polka dot",
         "Spandex"
        ],
        [
         "Large",
         "Red",
         "Striped",
         "Wool"
        ]
       ],
       "datasetInfos": [],
       "dbfsResultPath": null,
       "isJsonSchema": true,
       "metadata": {},
       "overflow": false,
       "plotOptions": {
        "customPlotOptions": {},
        "displayType": "table",
        "pivotAggregation": null,
        "pivotColumns": null,
        "xColumns": null,
        "yColumns": null
       },
       "removedWidgets": [],
       "schema": [
        {
         "metadata": "{}",
         "name": "Size",
         "type": "\"string\""
        },
        {
         "metadata": "{}",
         "name": "Color",
         "type": "\"string\""
        },
        {
         "metadata": "{}",
         "name": "Pattern",
         "type": "\"string\""
        },
        {
         "metadata": "{}",
         "name": "Material",
         "type": "\"string\""
        }
       ],
       "type": "table"
      }
     },
     "output_type": "display_data"
    }
   ],
   "source": [
    "df['Material'] = df['Material'].apply(lambda x: \"Unknown\" if not x.isalpha() else\n",
    "x)\n",
    "display(df)"
   ]
  },
  {
   "cell_type": "code",
   "execution_count": 0,
   "metadata": {
    "application/vnd.databricks.v1+cell": {
     "cellMetadata": {
      "byteLimit": 2048000,
      "rowLimit": 10000
     },
     "inputWidgets": {},
     "nuid": "9b558ff5-ee09-432c-9935-bc18692613e0",
     "showTitle": false,
     "tableResultSettingsMap": {},
     "title": ""
    }
   },
   "outputs": [
    {
     "output_type": "stream",
     "name": "stdout",
     "output_type": "stream",
     "text": [
      "Size        object\nColor       object\nPattern     object\nMaterial    object\ndtype: object\n"
     ]
    },
    {
     "output_type": "display_data",
     "data": {
      "text/html": [
       "<style scoped>\n",
       "  .table-result-container {\n",
       "    max-height: 300px;\n",
       "    overflow: auto;\n",
       "  }\n",
       "  table, th, td {\n",
       "    border: 1px solid black;\n",
       "    border-collapse: collapse;\n",
       "  }\n",
       "  th, td {\n",
       "    padding: 5px;\n",
       "  }\n",
       "  th {\n",
       "    text-align: left;\n",
       "  }\n",
       "</style><div class='table-result-container'><table class='table-result'><thead style='background-color: white'><tr><th>Size</th><th>Color</th><th>Pattern</th><th>Material</th></tr></thead><tbody><tr><td>Medium</td><td>Red</td><td>Striped</td><td>Cotton</td></tr><tr><td>Large</td><td>Blue</td><td>Polka dot</td><td>Wool</td></tr><tr><td>Small</td><td>Green</td><td>Argyle</td><td>Bamboo</td></tr><tr><td>Medium</td><td>Red</td><td>Checkered</td><td>Cotton</td></tr><tr><td>Large</td><td>Blue</td><td>Graphic</td><td>Polyester</td></tr><tr><td>Large</td><td>Green</td><td>Polka dot</td><td>Unknown</td></tr><tr><td>Medium</td><td>Purple</td><td>Polka dot</td><td>Spandex</td></tr><tr><td>Large</td><td>Red</td><td>Striped</td><td>Wool</td></tr></tbody></table></div>"
      ]
     },
     "metadata": {
      "application/vnd.databricks.v1+output": {
       "addedWidgets": {},
       "aggData": [],
       "aggError": "",
       "aggOverflow": false,
       "aggSchema": [],
       "aggSeriesLimitReached": false,
       "aggType": "",
       "arguments": {},
       "columnCustomDisplayInfos": {},
       "data": [
        [
         "Medium",
         "Red",
         "Striped",
         "Cotton"
        ],
        [
         "Large",
         "Blue",
         "Polka dot",
         "Wool"
        ],
        [
         "Small",
         "Green",
         "Argyle",
         "Bamboo"
        ],
        [
         "Medium",
         "Red",
         "Checkered",
         "Cotton"
        ],
        [
         "Large",
         "Blue",
         "Graphic",
         "Polyester"
        ],
        [
         "Large",
         "Green",
         "Polka dot",
         "Unknown"
        ],
        [
         "Medium",
         "Purple",
         "Polka dot",
         "Spandex"
        ],
        [
         "Large",
         "Red",
         "Striped",
         "Wool"
        ]
       ],
       "datasetInfos": [],
       "dbfsResultPath": null,
       "isJsonSchema": true,
       "metadata": {},
       "overflow": false,
       "plotOptions": {
        "customPlotOptions": {},
        "displayType": "table",
        "pivotAggregation": null,
        "pivotColumns": null,
        "xColumns": null,
        "yColumns": null
       },
       "removedWidgets": [],
       "schema": [
        {
         "metadata": "{}",
         "name": "Size",
         "type": "\"string\""
        },
        {
         "metadata": "{}",
         "name": "Color",
         "type": "\"string\""
        },
        {
         "metadata": "{}",
         "name": "Pattern",
         "type": "\"string\""
        },
        {
         "metadata": "{}",
         "name": "Material",
         "type": "\"string\""
        }
       ],
       "type": "table"
      }
     },
     "output_type": "display_data"
    }
   ],
   "source": [
    "# Check current data types\n",
    "print(df.dtypes)\n",
    "# Assume the user has decided the current types are correct; otherwise, convert as necessary\n",
    "# Example: Convert 'Material' to categorical if it was not\n",
    "df['Material'] = df['Material'].astype('category')\n",
    "display(df)"
   ]
  },
  {
   "cell_type": "code",
   "execution_count": 0,
   "metadata": {
    "application/vnd.databricks.v1+cell": {
     "cellMetadata": {
      "byteLimit": 2048000,
      "rowLimit": 10000
     },
     "inputWidgets": {},
     "nuid": "c18e43d2-3bc2-41f6-bc05-4b63a5c45610",
     "showTitle": false,
     "tableResultSettingsMap": {},
     "title": ""
    }
   },
   "outputs": [],
   "source": [
    "df = df.drop_duplicates()"
   ]
  },
  {
   "cell_type": "code",
   "execution_count": 0,
   "metadata": {
    "application/vnd.databricks.v1+cell": {
     "cellMetadata": {
      "byteLimit": 2048000,
      "rowLimit": 10000
     },
     "inputWidgets": {},
     "nuid": "48253f08-d5b1-4eb9-a0a5-c130d8188d64",
     "showTitle": false,
     "tableResultSettingsMap": {},
     "title": ""
    }
   },
   "outputs": [
    {
     "output_type": "stream",
     "name": "stdout",
     "output_type": "stream",
     "text": [
      "['Cotton', 'Wool', 'Bamboo', 'Polyester', 'Unknown', 'Spandex']\nCategories (6, object): ['Bamboo', 'Cotton', 'Polyester', 'Spandex', 'Unknown', 'Wool']\n"
     ]
    }
   ],
   "source": [
    "print(df['Material'].unique())\n",
    "# Assuming 'Unknown' is considered an outlier\n",
    "df = df[df['Material'] != 'Unknown']"
   ]
  },
  {
   "cell_type": "code",
   "execution_count": 0,
   "metadata": {
    "application/vnd.databricks.v1+cell": {
     "cellMetadata": {
      "byteLimit": 2048000,
      "rowLimit": 10000
     },
     "inputWidgets": {},
     "nuid": "cde901e5-769d-4b69-8547-dcc62ef487b8",
     "showTitle": false,
     "tableResultSettingsMap": {},
     "title": ""
    }
   },
   "outputs": [],
   "source": [
    "spark_df = spark.createDataFrame(df)\n",
    "spark_df.write.parquet('cleaned_sock_data11.parquet', mode=\"overwrite\")"
   ]
  },
  {
   "cell_type": "code",
   "execution_count": 0,
   "metadata": {
    "application/vnd.databricks.v1+cell": {
     "cellMetadata": {
      "byteLimit": 2048000,
      "rowLimit": 10000
     },
     "inputWidgets": {},
     "nuid": "5f890768-c7f1-4178-b711-06abc4c00d57",
     "showTitle": false,
     "tableResultSettingsMap": {},
     "title": ""
    }
   },
   "outputs": [
    {
     "output_type": "display_data",
     "data": {
      "text/html": [
       "<style scoped>\n",
       "  .table-result-container {\n",
       "    max-height: 300px;\n",
       "    overflow: auto;\n",
       "  }\n",
       "  table, th, td {\n",
       "    border: 1px solid black;\n",
       "    border-collapse: collapse;\n",
       "  }\n",
       "  th, td {\n",
       "    padding: 5px;\n",
       "  }\n",
       "  th {\n",
       "    text-align: left;\n",
       "  }\n",
       "</style><div class='table-result-container'><table class='table-result'><thead style='background-color: white'><tr><th>Size</th><th>Color</th><th>Pattern</th><th>Material</th></tr></thead><tbody><tr><td>Medium</td><td>Red</td><td>Striped</td><td>Cotton</td></tr><tr><td>Medium</td><td>Red</td><td>Checkered</td><td>Cotton</td></tr><tr><td>Large</td><td>Blue</td><td>Graphic</td><td>Polyester</td></tr><tr><td>Medium</td><td>Purple</td><td>Polka dot</td><td>Spandex</td></tr><tr><td>Large</td><td>Red</td><td>Striped</td><td>Wool</td></tr><tr><td>Large</td><td>Blue</td><td>Polka dot</td><td>Wool</td></tr><tr><td>Small</td><td>Green</td><td>Argyle</td><td>Bamboo</td></tr></tbody></table></div>"
      ]
     },
     "metadata": {
      "application/vnd.databricks.v1+output": {
       "addedWidgets": {},
       "aggData": [],
       "aggError": "",
       "aggOverflow": false,
       "aggSchema": [],
       "aggSeriesLimitReached": false,
       "aggType": "",
       "arguments": {},
       "columnCustomDisplayInfos": {},
       "data": [
        [
         "Medium",
         "Red",
         "Striped",
         "Cotton"
        ],
        [
         "Medium",
         "Red",
         "Checkered",
         "Cotton"
        ],
        [
         "Large",
         "Blue",
         "Graphic",
         "Polyester"
        ],
        [
         "Medium",
         "Purple",
         "Polka dot",
         "Spandex"
        ],
        [
         "Large",
         "Red",
         "Striped",
         "Wool"
        ],
        [
         "Large",
         "Blue",
         "Polka dot",
         "Wool"
        ],
        [
         "Small",
         "Green",
         "Argyle",
         "Bamboo"
        ]
       ],
       "datasetInfos": [],
       "dbfsResultPath": null,
       "isJsonSchema": true,
       "metadata": {},
       "overflow": false,
       "plotOptions": {
        "customPlotOptions": {},
        "displayType": "table",
        "pivotAggregation": null,
        "pivotColumns": null,
        "xColumns": null,
        "yColumns": null
       },
       "removedWidgets": [],
       "schema": [
        {
         "metadata": "{}",
         "name": "Size",
         "type": "\"string\""
        },
        {
         "metadata": "{}",
         "name": "Color",
         "type": "\"string\""
        },
        {
         "metadata": "{}",
         "name": "Pattern",
         "type": "\"string\""
        },
        {
         "metadata": "{}",
         "name": "Material",
         "type": "\"string\""
        }
       ],
       "type": "table"
      }
     },
     "output_type": "display_data"
    }
   ],
   "source": [
    "parquet_df = spark.read.parquet(\"/cleaned_sock_data11.parquet\")\n",
    "display(parquet_df)"
   ]
  },
  {
   "cell_type": "code",
   "execution_count": 0,
   "metadata": {
    "application/vnd.databricks.v1+cell": {
     "cellMetadata": {
      "byteLimit": 2048000,
      "rowLimit": 10000
     },
     "inputWidgets": {},
     "nuid": "bf04f2e2-92bb-4ef2-886e-3a372c602d0c",
     "showTitle": false,
     "tableResultSettingsMap": {},
     "title": ""
    }
   },
   "outputs": [
    {
     "output_type": "stream",
     "name": "stdout",
     "output_type": "stream",
     "text": [
      "+------+------+---------+---------+\n|  Size| Color|  Pattern| Material|\n+------+------+---------+---------+\n|Medium|   Red|  Striped|   Cotton|\n| Large|      |Polka dot|      123|\n|  NULL|  Blue|     NULL|     Wool|\n| Small| Green|   Argyle|   Bamboo|\n|Medium|   Red|Checkered|   Cotton|\n| Large|  Blue|  Graphic|Polyester|\n| Small|      |    Solid|    Nylon|\n|  NULL| Green|     NULL|      123|\n|Medium|Purple|Polka dot|  Spandex|\n| Large|   Red|  Striped|     Wool|\n+------+------+---------+---------+\n\nroot\n |-- Size: string (nullable = true)\n |-- Color: string (nullable = true)\n |-- Pattern: string (nullable = true)\n |-- Material: string (nullable = true)\n\n+------+------+---------+---------+\n|  Size| Color|  Pattern| Material|\n+------+------+---------+---------+\n|Medium|   Red|  Striped|   Cotton|\n|Medium|  Blue|Polka dot|     Wool|\n| Small| Green|   Argyle|   Bamboo|\n| Large|  Blue|  Graphic|Polyester|\n|Medium|   Red|Checkered|   Cotton|\n|Medium|Purple|Polka dot|  Spandex|\n| Large|   Red|  Striped|     Wool|\n+------+------+---------+---------+\n\n+----+-----+-------+--------+\n|Size|Color|Pattern|Material|\n+----+-----+-------+--------+\n|   0|    0|      0|       0|\n+----+-----+-------+--------+\n\n"
     ]
    },
    {
     "output_type": "display_data",
     "data": {
      "text/html": [
       "<style scoped>\n",
       "  .table-result-container {\n",
       "    max-height: 300px;\n",
       "    overflow: auto;\n",
       "  }\n",
       "  table, th, td {\n",
       "    border: 1px solid black;\n",
       "    border-collapse: collapse;\n",
       "  }\n",
       "  th, td {\n",
       "    padding: 5px;\n",
       "  }\n",
       "  th {\n",
       "    text-align: left;\n",
       "  }\n",
       "</style><div class='table-result-container'><table class='table-result'><thead style='background-color: white'><tr><th>Size</th><th>Color</th><th>Pattern</th><th>Material</th></tr></thead><tbody><tr><td>Medium</td><td>Red</td><td>Striped</td><td>Cotton</td></tr><tr><td>Medium</td><td>Blue</td><td>Polka dot</td><td>Wool</td></tr><tr><td>Small</td><td>Green</td><td>Argyle</td><td>Bamboo</td></tr><tr><td>Large</td><td>Blue</td><td>Graphic</td><td>Polyester</td></tr><tr><td>Medium</td><td>Red</td><td>Checkered</td><td>Cotton</td></tr><tr><td>Medium</td><td>Purple</td><td>Polka dot</td><td>Spandex</td></tr><tr><td>Large</td><td>Red</td><td>Striped</td><td>Wool</td></tr></tbody></table></div>"
      ]
     },
     "metadata": {
      "application/vnd.databricks.v1+output": {
       "addedWidgets": {},
       "aggData": [],
       "aggError": "",
       "aggOverflow": false,
       "aggSchema": [],
       "aggSeriesLimitReached": false,
       "aggType": "",
       "arguments": {},
       "columnCustomDisplayInfos": {},
       "data": [
        [
         "Medium",
         "Red",
         "Striped",
         "Cotton"
        ],
        [
         "Medium",
         "Blue",
         "Polka dot",
         "Wool"
        ],
        [
         "Small",
         "Green",
         "Argyle",
         "Bamboo"
        ],
        [
         "Large",
         "Blue",
         "Graphic",
         "Polyester"
        ],
        [
         "Medium",
         "Red",
         "Checkered",
         "Cotton"
        ],
        [
         "Medium",
         "Purple",
         "Polka dot",
         "Spandex"
        ],
        [
         "Large",
         "Red",
         "Striped",
         "Wool"
        ]
       ],
       "datasetInfos": [],
       "dbfsResultPath": null,
       "isJsonSchema": true,
       "metadata": {},
       "overflow": false,
       "plotOptions": {
        "customPlotOptions": {},
        "displayType": "table",
        "pivotAggregation": null,
        "pivotColumns": null,
        "xColumns": null,
        "yColumns": null
       },
       "removedWidgets": [],
       "schema": [
        {
         "metadata": "{}",
         "name": "Size",
         "type": "\"string\""
        },
        {
         "metadata": "{}",
         "name": "Color",
         "type": "\"string\""
        },
        {
         "metadata": "{}",
         "name": "Pattern",
         "type": "\"string\""
        },
        {
         "metadata": "{}",
         "name": "Material",
         "type": "\"string\""
        }
       ],
       "type": "table"
      }
     },
     "output_type": "display_data"
    }
   ],
   "source": [
    "from pyspark.sql import SparkSession\n",
    "from pyspark.sql.functions import col, initcap, when, lower, lit, count\n",
    "# Example DataFrame creation\n",
    "data = [(\"Medium\", \"Red\", \"Striped\", \"Cotton\"),\n",
    "(\"Large\", \"\", \"Polka dot\", \"123\"),\n",
    "(None, \"Blue\", None, \"Wool\"),\n",
    "(\"Small\", \"Green\", \"Argyle\", \"Bamboo\"),\n",
    "(\"Medium\", \"Red\", \"Checkered\", \"Cotton\"),\n",
    "(\"Large\", \"Blue\", \"Graphic\", \"Polyester\"),\n",
    "(\"Small\", \"\", \"Solid\", \"Nylon\"),\n",
    "(None, \"Green\", None, \"123\"),\n",
    "(\"Medium\", \"Purple\", \"Polka dot\", \"Spandex\"),\n",
    "(\"Large\", \"Red\", \"Striped\", \"Wool\")]\n",
    "schema = [\"Size\", \"Color\", \"Pattern\", \"Material\"]\n",
    "df = spark.createDataFrame(data, schema=schema)\n",
    "# Display Data\n",
    "df.show()\n",
    "# Fixing Null Values\n",
    "mode_size = df.groupBy(\"Size\").count().orderBy(\"count\", ascending=False).first()[\"Size\"]\n",
    "mode_pattern = df.groupBy(\"Pattern\").count().orderBy(\"count\", ascending=False).first()[\"Pattern\"]\n",
    "df = df.withColumn(\"Size\", when(col(\"Size\").isNull(), mode_size).otherwise(col(\"Size\")))\n",
    "df = df.withColumn(\"Pattern\", when(col(\"Pattern\").isNull(), mode_pattern).otherwise(col(\"Pattern\")))\n",
    "# Standardizing Text Fields\n",
    "df = df.withColumn(\"Color\", initcap(col(\"Color\")))\n",
    "# Removing Blank Entries\n",
    "df = df.filter(col(\"Color\") != \"\")\n",
    "# Correcting Invalid Material Entries\n",
    "df = df.withColumn(\"Material\", when(col(\"Material\").rlike(\"^[0-9]+$\"),\n",
    "lit(\"Unknown\")).otherwise(col(\"Material\")))\n",
    "# Schema Validation\n",
    "df.printSchema() # Assuming schema is as intended, otherwise, cast types as necessary\n",
    "# Deduplication\n",
    "df = df.dropDuplicates()\n",
    "#Handling Outliers\n",
    "# Remove 'Unknown' considered as outlier for illustration\n",
    "df = df.filter(col(\"Material\") != \"Unknown\")\n",
    "# Export Cleaned Data\n",
    "# Save to Parquet\n",
    "df.write.parquet(\"cleaned_data_spark<number>.parquet\", mode=\"overwrite\")\n",
    "# Data Integrity Checks\n",
    "# Show the cleaned DataFrame and verify no nulls or empty strings\n",
    "df.show()\n",
    "df.select([count(when(col(c).isNull() | (col(c) == \"\"), c)).alias(c) for c in\n",
    "df.columns]).show()\n",
    "display(df)"
   ]
  }
 ],
 "metadata": {
  "application/vnd.databricks.v1+notebook": {
   "computePreferences": null,
   "dashboards": [],
   "environmentMetadata": {
    "base_environment": "",
    "environment_version": "2"
   },
   "inputWidgetPreferences": null,
   "language": "python",
   "notebookMetadata": {
    "pythonIndentUnit": 4
   },
   "notebookName": "Data Repair",
   "widgets": {}
  },
  "language_info": {
   "name": "python"
  }
 },
 "nbformat": 4,
 "nbformat_minor": 0
}