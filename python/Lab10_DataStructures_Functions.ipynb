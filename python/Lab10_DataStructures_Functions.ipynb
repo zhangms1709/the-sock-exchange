{
 "cells": [
  {
   "cell_type": "markdown",
   "id": "ffba7941",
   "metadata": {},
   "source": [
    "# 🧪 Lab 10: Combining Data Structures with Functions\n",
    "\n",
    "## Objectives\n",
    "- Practice using lists and dictionaries in real-world data scenarios\n",
    "- Build pipelines using `filter()`, `map()`, and `reduce()`\n",
    "- Process a list of dictionary records (JSON-like)\n",
    "- Learn functional patterns for transforming and aggregating structured data\n",
    "\n",
    "---"
   ]
  },
  {
   "cell_type": "markdown",
   "id": "09b73b3d",
   "metadata": {},
   "source": [
    "## 📘 Real-World Scenario\n",
    "We often work with data that is structured as a list of dictionaries—very similar to rows in a database or records in a JSON file.\n",
    "Functional programming can help clean, transform, and summarize such data efficiently."
   ]
  },
  {
   "cell_type": "code",
   "execution_count": 1,
   "id": "b9a1a714",
   "metadata": {},
   "outputs": [],
   "source": [
    "# ✅ Example dataset: list of employee records\n",
    "employees = [\n",
    "    {\"name\": \"Alice\", \"age\": 30, \"department\": \"Sales\", \"salary\": 60000},\n",
    "    {\"name\": \"Bob\", \"age\": 24, \"department\": \"IT\", \"salary\": 55000},\n",
    "    {\"name\": \"Charlie\", \"age\": 28, \"department\": \"Sales\", \"salary\": 62000},\n",
    "    {\"name\": \"Diana\", \"age\": 35, \"department\": \"IT\", \"salary\": 70000},\n",
    "    {\"name\": \"Evan\", \"age\": 40, \"department\": \"HR\", \"salary\": 52000},\n",
    "]"
   ]
  },
  {
   "cell_type": "markdown",
   "id": "b11aa0b1",
   "metadata": {},
   "source": [
    "### Step 1: Filter employees in Sales department"
   ]
  },
  {
   "cell_type": "code",
   "execution_count": 2,
   "id": "f33674ac",
   "metadata": {},
   "outputs": [
    {
     "name": "stdout",
     "output_type": "stream",
     "text": [
      "[{'name': 'Alice', 'age': 30, 'department': 'Sales', 'salary': 60000}, {'name': 'Charlie', 'age': 28, 'department': 'Sales', 'salary': 62000}]\n"
     ]
    }
   ],
   "source": [
    "sales_employees = list(filter(lambda e: e[\"department\"] == \"Sales\", employees))\n",
    "print(sales_employees)"
   ]
  },
  {
   "cell_type": "markdown",
   "id": "310eb176",
   "metadata": {},
   "source": [
    "### Step 2: Map to salaries of Sales employees"
   ]
  },
  {
   "cell_type": "code",
   "execution_count": 3,
   "id": "cec7223c",
   "metadata": {},
   "outputs": [
    {
     "name": "stdout",
     "output_type": "stream",
     "text": [
      "[60000, 62000]\n"
     ]
    }
   ],
   "source": [
    "sales_salaries = list(map(lambda e: e[\"salary\"], sales_employees))\n",
    "print(sales_salaries)"
   ]
  },
  {
   "cell_type": "markdown",
   "id": "accf6f54",
   "metadata": {},
   "source": [
    "### Step 3: Reduce to total salary in Sales"
   ]
  },
  {
   "cell_type": "code",
   "execution_count": 4,
   "id": "810a6e12",
   "metadata": {},
   "outputs": [
    {
     "name": "stdout",
     "output_type": "stream",
     "text": [
      "Total Sales Payroll: 122000\n"
     ]
    }
   ],
   "source": [
    "from functools import reduce\n",
    "total_sales_salary = reduce(lambda acc, x: acc + x, sales_salaries, 0)\n",
    "print(\"Total Sales Payroll:\", total_sales_salary)"
   ]
  },
  {
   "cell_type": "markdown",
   "id": "cb9e7551",
   "metadata": {},
   "source": [
    "## 🔗 Full Functional Pipeline (filter → map → reduce)"
   ]
  },
  {
   "cell_type": "code",
   "execution_count": 5,
   "id": "4639fb12",
   "metadata": {},
   "outputs": [
    {
     "name": "stdout",
     "output_type": "stream",
     "text": [
      "Total Sales Payroll (Pipeline): 122000\n"
     ]
    }
   ],
   "source": [
    "total_sales = reduce(\n",
    "    lambda acc, x: acc + x,\n",
    "    map(lambda e: e[\"salary\"],\n",
    "        filter(lambda e: e[\"department\"] == \"Sales\", employees)\n",
    "    ),\n",
    "    0\n",
    ")\n",
    "print(\"Total Sales Payroll (Pipeline):\", total_sales)"
   ]
  },
  {
   "cell_type": "markdown",
   "id": "4f0cf0f9",
   "metadata": {},
   "source": [
    "## 📝 Practice\n",
    "1. Filter employees over age 30 and list their names.\n",
    "2. Map all employees to their department names (no duplicates).\n",
    "3. Use reduce to find the highest salary among all employees.\n",
    "4. Create a functional pipeline to calculate total salary for IT department.\n",
    "5. BONUS: Use a dictionary comprehension to group employees by department."
   ]
  },
  {
   "cell_type": "code",
   "execution_count": 6,
   "id": "c50ab688",
   "metadata": {},
   "outputs": [
    {
     "data": {
      "text/plain": [
       "[{'name': 'Diana', 'age': 35, 'department': 'IT', 'salary': 70000},\n",
       " {'name': 'Evan', 'age': 40, 'department': 'HR', 'salary': 52000}]"
      ]
     },
     "execution_count": 6,
     "metadata": {},
     "output_type": "execute_result"
    }
   ],
   "source": [
    "old_employees = list(filter(lambda e: e[\"age\"] > 30, employees))\n",
    "old_employees"
   ]
  },
  {
   "cell_type": "code",
   "execution_count": 8,
   "id": "553bcc4c",
   "metadata": {},
   "outputs": [
    {
     "data": {
      "text/plain": [
       "['Sales', 'IT', 'Sales', 'IT', 'HR']"
      ]
     },
     "execution_count": 8,
     "metadata": {},
     "output_type": "execute_result"
    }
   ],
   "source": [
    "list(map(lambda e: e['department'], employees))"
   ]
  },
  {
   "cell_type": "code",
   "execution_count": 9,
   "id": "33f2c72b",
   "metadata": {},
   "outputs": [
    {
     "data": {
      "text/plain": [
       "70000"
      ]
     },
     "execution_count": 9,
     "metadata": {},
     "output_type": "execute_result"
    }
   ],
   "source": [
    "largest = reduce(lambda x, y: x if x > y else y, list(map(lambda e: e['salary'], employees)))\n",
    "largest"
   ]
  },
  {
   "cell_type": "code",
   "execution_count": 12,
   "id": "e8fd5096",
   "metadata": {},
   "outputs": [
    {
     "data": {
      "text/plain": [
       "125000"
      ]
     },
     "execution_count": 12,
     "metadata": {},
     "output_type": "execute_result"
    }
   ],
   "source": [
    "it_total = reduce(lambda x, y: x + y, map(lambda e : e['salary'], filter(lambda e: e['department']=='IT', employees)))\n",
    "it_total"
   ]
  },
  {
   "cell_type": "code",
   "execution_count": 20,
   "id": "1a75cdac",
   "metadata": {},
   "outputs": [
    {
     "data": {
      "text/plain": [
       "{'Alice': 'Sales',\n",
       " 'Bob': 'IT',\n",
       " 'Charlie': 'Sales',\n",
       " 'Diana': 'IT',\n",
       " 'Evan': 'HR'}"
      ]
     },
     "execution_count": 20,
     "metadata": {},
     "output_type": "execute_result"
    }
   ],
   "source": [
    "bonus = {v:k for k, v in list(map(lambda e : (e['department'], e['name']), employees))} # keys are unique so if you do k:v instead of v:k it will delete duplicate depts\n",
    "bonus"
   ]
  }
 ],
 "metadata": {
  "kernelspec": {
   "display_name": "Python 3",
   "language": "python",
   "name": "python3"
  },
  "language_info": {
   "codemirror_mode": {
    "name": "ipython",
    "version": 3
   },
   "file_extension": ".py",
   "mimetype": "text/x-python",
   "name": "python",
   "nbconvert_exporter": "python",
   "pygments_lexer": "ipython3",
   "version": "3.12.3"
  }
 },
 "nbformat": 4,
 "nbformat_minor": 5
}
