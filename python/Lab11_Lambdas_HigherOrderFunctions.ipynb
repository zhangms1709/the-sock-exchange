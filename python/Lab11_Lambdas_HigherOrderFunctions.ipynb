{
 "cells": [
  {
   "cell_type": "markdown",
   "id": "c1f18506",
   "metadata": {},
   "source": [
    "# 🧪 Lab 11: Lambdas and Custom Higher-Order Functions\n",
    "\n",
    "## Objectives\n",
    "- Understand and write lambda (anonymous) functions\n",
    "- Learn how to create higher-order functions (functions that accept or return other functions)\n",
    "- Use lambdas with `sorted()`, `filter()`, and `map()`\n",
    "- Practice function composition and custom logic\n",
    "\n",
    "---"
   ]
  },
  {
   "cell_type": "markdown",
   "id": "d04f982d",
   "metadata": {},
   "source": [
    "## 📘 What are Higher-Order Functions?\n",
    "A higher-order function is a function that either:\n",
    "- Takes one or more functions as arguments, or\n",
    "- Returns another function as its result.\n",
    "\n",
    "This allows for powerful abstraction and reuse of logic."
   ]
  },
  {
   "cell_type": "code",
   "execution_count": 1,
   "id": "a2f64940",
   "metadata": {},
   "outputs": [
    {
     "name": "stdout",
     "output_type": "stream",
     "text": [
      "8\n"
     ]
    }
   ],
   "source": [
    "# ✅ Basic lambda example\n",
    "add = lambda x, y: x + y\n",
    "print(add(3, 5))"
   ]
  },
  {
   "cell_type": "code",
   "execution_count": 2,
   "id": "bfd65f4e",
   "metadata": {},
   "outputs": [
    {
     "name": "stdout",
     "output_type": "stream",
     "text": [
      "['banana', 'apple', 'cherry']\n"
     ]
    }
   ],
   "source": [
    "# ✅ Sort by last character using lambda\n",
    "words = [\"banana\", \"apple\", \"cherry\"]\n",
    "sorted_words = sorted(words, key=lambda word: word[-1])\n",
    "print(sorted_words)"
   ]
  },
  {
   "cell_type": "markdown",
   "id": "640c87ee",
   "metadata": {},
   "source": [
    "## 🔧 Creating a Higher-Order Function"
   ]
  },
  {
   "cell_type": "code",
   "execution_count": 3,
   "id": "a696c255",
   "metadata": {},
   "outputs": [
    {
     "name": "stdout",
     "output_type": "stream",
     "text": [
      "Double 4: 8\n",
      "Triple 4: 12\n"
     ]
    }
   ],
   "source": [
    "# ✅ A function that returns another function\n",
    "def make_multiplier(factor):\n",
    "    return lambda x: x * factor\n",
    "\n",
    "double = make_multiplier(2)\n",
    "triple = make_multiplier(3)\n",
    "\n",
    "print(\"Double 4:\", double(4))\n",
    "print(\"Triple 4:\", triple(4))"
   ]
  },
  {
   "cell_type": "code",
   "execution_count": 4,
   "id": "18ba0170",
   "metadata": {},
   "outputs": [
    {
     "name": "stdout",
     "output_type": "stream",
     "text": [
      "5\n"
     ]
    }
   ],
   "source": [
    "# ✅ A function that accepts a function as an argument\n",
    "def apply_twice(func, value):\n",
    "    return func(func(value))\n",
    "\n",
    "print(apply_twice(lambda x: x + 1, 3))  # returns 5"
   ]
  },
  {
   "cell_type": "code",
   "execution_count": 5,
   "id": "43c70c56",
   "metadata": {},
   "outputs": [
    {
     "name": "stdout",
     "output_type": "stream",
     "text": [
      "['Alice']\n"
     ]
    }
   ],
   "source": [
    "# ✅ Use lambda to filter complex conditions\n",
    "people = [\"Alice\", \"Bob\", \"Charlie\", \"Eve\"]\n",
    "filtered = list(filter(lambda name: len(name) > 3 and name[0] in \"AEIOU\", people))\n",
    "print(filtered)"
   ]
  },
  {
   "cell_type": "markdown",
   "id": "fa533fd8",
   "metadata": {},
   "source": [
    "## 📝 Practice\n",
    "1. Write a lambda that returns the square of a number.\n",
    "2. Create a higher-order function `make_power(n)` that returns a function to raise to power `n`.\n",
    "3. Use `sorted()` and a lambda to sort a list of names by their second letter.\n",
    "4. Use `map()` and a lambda to capitalize each word in a list.\n",
    "5. BONUS: Write a function that takes a list and a function, applies the function to each item, and returns the result."
   ]
  },
  {
   "cell_type": "code",
   "execution_count": 6,
   "id": "e63aba43",
   "metadata": {},
   "outputs": [
    {
     "data": {
      "text/plain": [
       "81"
      ]
     },
     "execution_count": 6,
     "metadata": {},
     "output_type": "execute_result"
    }
   ],
   "source": [
    "square = lambda x: x**2\n",
    "square(9)"
   ]
  },
  {
   "cell_type": "code",
   "execution_count": 7,
   "id": "0dfb5b5c",
   "metadata": {},
   "outputs": [
    {
     "data": {
      "text/plain": [
       "64"
      ]
     },
     "execution_count": 7,
     "metadata": {},
     "output_type": "execute_result"
    }
   ],
   "source": [
    "def make_power(n):\n",
    "    return lambda x : x ** n\n",
    "cube = make_power(3)\n",
    "cube(4)"
   ]
  },
  {
   "cell_type": "code",
   "execution_count": 17,
   "id": "612d6ccb",
   "metadata": {},
   "outputs": [
    {
     "data": {
      "text/plain": [
       "['Carlos', 'Ben', 'Sinner', 'Arthur', 'Grigor']"
      ]
     },
     "execution_count": 17,
     "metadata": {},
     "output_type": "execute_result"
    }
   ],
   "source": [
    "names = ['Arthur', 'Sinner', 'Carlos', 'Ben', 'Grigor']\n",
    "sorted(names, key=lambda name: name[1])"
   ]
  },
  {
   "cell_type": "code",
   "execution_count": 23,
   "id": "23121d9f",
   "metadata": {},
   "outputs": [
    {
     "data": {
      "text/plain": [
       "['Arthur', 'Sinner', 'Carlos', 'Ben', 'Grigor']"
      ]
     },
     "execution_count": 23,
     "metadata": {},
     "output_type": "execute_result"
    }
   ],
   "source": [
    "list(map(lambda e : e[0].upper() + e[1:], names))"
   ]
  },
  {
   "cell_type": "code",
   "execution_count": 28,
   "id": "4cd78da7",
   "metadata": {},
   "outputs": [
    {
     "data": {
      "text/plain": [
       "[1, 27, 125, 216]"
      ]
     },
     "execution_count": 28,
     "metadata": {},
     "output_type": "execute_result"
    }
   ],
   "source": [
    "def change_list(li, func):\n",
    "    return list(map(lambda e: func(e), li))\n",
    "\n",
    "nums = [1, 3, 5, 6]\n",
    "change_list(nums, cube)"
   ]
  }
 ],
 "metadata": {
  "kernelspec": {
   "display_name": "Python 3",
   "language": "python",
   "name": "python3"
  },
  "language_info": {
   "codemirror_mode": {
    "name": "ipython",
    "version": 3
   },
   "file_extension": ".py",
   "mimetype": "text/x-python",
   "name": "python",
   "nbconvert_exporter": "python",
   "pygments_lexer": "ipython3",
   "version": "3.12.3"
  }
 },
 "nbformat": 4,
 "nbformat_minor": 5
}
