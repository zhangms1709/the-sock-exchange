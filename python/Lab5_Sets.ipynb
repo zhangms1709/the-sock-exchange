{
 "cells": [
  {
   "cell_type": "markdown",
   "id": "2c3a9d3a",
   "metadata": {},
   "source": [
    "# 🧪 Lab 5: Working with Sets in Python\n",
    "\n",
    "## Objectives\n",
    "- Understand what sets are and how they differ from lists and tuples\n",
    "- Learn how to create, modify, and use sets\n",
    "- Explore key set operations: union, intersection, difference\n",
    "- Practice using sets for data cleaning and comparison tasks\n",
    "\n",
    "---"
   ]
  },
  {
   "cell_type": "markdown",
   "id": "87f2dfbb",
   "metadata": {},
   "source": [
    "## 📘 What is a Set?\n",
    "A set is an unordered collection of unique elements. Sets are useful for checking membership and eliminating duplicates.\n",
    "\n",
    "### Set Syntax:\n",
    "```python\n",
    "my_set = {1, 2, 3}\n",
    "```"
   ]
  },
  {
   "cell_type": "code",
   "execution_count": 1,
   "id": "8a0e6e3c",
   "metadata": {},
   "outputs": [
    {
     "name": "stdout",
     "output_type": "stream",
     "text": [
      "{'green', 'blue', 'red'}\n",
      "After adding duplicate: {'green', 'blue', 'red'}\n",
      "After adding yellow: {'green', 'blue', 'yellow', 'red'}\n"
     ]
    }
   ],
   "source": [
    "# ✅ Create a set of colors\n",
    "colors = {\"red\", \"green\", \"blue\"}\n",
    "print(colors)\n",
    "\n",
    "# ✅ Add a duplicate color (no effect)\n",
    "colors.add(\"red\")\n",
    "print(\"After adding duplicate:\", colors)\n",
    "\n",
    "# ✅ Add a new color\n",
    "colors.add(\"yellow\")\n",
    "print(\"After adding yellow:\", colors)"
   ]
  },
  {
   "cell_type": "markdown",
   "id": "a9178a67",
   "metadata": {},
   "source": [
    "## ❌ Removing Items and Checking Membership"
   ]
  },
  {
   "cell_type": "code",
   "execution_count": 2,
   "id": "208e1eb5",
   "metadata": {},
   "outputs": [
    {
     "name": "stdout",
     "output_type": "stream",
     "text": [
      "{'blue', 'yellow', 'red'}\n",
      "True\n",
      "False\n"
     ]
    }
   ],
   "source": [
    "# ✅ Remove an item\n",
    "colors.remove(\"green\")\n",
    "print(colors)\n",
    "\n",
    "# ✅ Check if a color is in the set\n",
    "print(\"blue\" in colors)\n",
    "print(\"green\" in colors)"
   ]
  },
  {
   "cell_type": "markdown",
   "id": "4f11fc91",
   "metadata": {},
   "source": [
    "## 🔁 Set Operations"
   ]
  },
  {
   "cell_type": "code",
   "execution_count": 3,
   "id": "43220f12",
   "metadata": {},
   "outputs": [
    {
     "name": "stdout",
     "output_type": "stream",
     "text": [
      "Union: {1, 2, 3, 4, 5, 6}\n",
      "Intersection: {3, 4}\n",
      "Difference (a - b): {1, 2}\n",
      "Symmetric Difference: {1, 2, 5, 6}\n"
     ]
    }
   ],
   "source": [
    "# ✅ Create two sets\n",
    "a = {1, 2, 3, 4}\n",
    "b = {3, 4, 5, 6}\n",
    "\n",
    "# ✅ Union\n",
    "print(\"Union:\", a | b)\n",
    "\n",
    "# ✅ Intersection\n",
    "print(\"Intersection:\", a & b)\n",
    "\n",
    "# ✅ Difference\n",
    "print(\"Difference (a - b):\", a - b)\n",
    "\n",
    "# ✅ Symmetric Difference\n",
    "print(\"Symmetric Difference:\", a ^ b)"
   ]
  },
  {
   "cell_type": "markdown",
   "id": "c7185d87",
   "metadata": {},
   "source": [
    "## 🧹 Example: Removing Duplicates with Sets"
   ]
  },
  {
   "cell_type": "code",
   "execution_count": 4,
   "id": "b5e70485",
   "metadata": {},
   "outputs": [
    {
     "name": "stdout",
     "output_type": "stream",
     "text": [
      "{'Alice', 'Eve', 'Bob'}\n"
     ]
    }
   ],
   "source": [
    "# ✅ Convert a list with duplicates to a set\n",
    "names = [\"Alice\", \"Bob\", \"Alice\", \"Eve\"]\n",
    "unique_names = set(names)\n",
    "print(unique_names)"
   ]
  },
  {
   "cell_type": "markdown",
   "id": "e551aeb2",
   "metadata": {},
   "source": [
    "## 📝 Practice\n",
    "1. Create two sets: `python_users` and `java_users`.\n",
    "2. Find users who know both languages.\n",
    "3. Find users who know only Python.\n",
    "4. Add a new user to the `python_users` set.\n",
    "5. Remove a user from the `java_users` set.\n",
    "6. Convert the `python_users` set to a list."
   ]
  },
  {
   "cell_type": "code",
   "execution_count": 6,
   "id": "0c982024",
   "metadata": {},
   "outputs": [
    {
     "name": "stdout",
     "output_type": "stream",
     "text": [
      "{'a'}\n",
      "{'b'}\n",
      "['a', 'b', 'e']\n"
     ]
    }
   ],
   "source": [
    "python_users = set([\"a\", \"b\"])\n",
    "java_users = set([\"c\", \"a\", \"d\"])\n",
    "print(python_users & java_users)\n",
    "print(python_users - java_users)\n",
    "python_users.add(\"e\")\n",
    "java_users.remove(\"d\")\n",
    "python_users = list(python_users)\n",
    "print(python_users)"
   ]
  }
 ],
 "metadata": {
  "kernelspec": {
   "display_name": "Python 3",
   "language": "python",
   "name": "python3"
  },
  "language_info": {
   "codemirror_mode": {
    "name": "ipython",
    "version": 3
   },
   "file_extension": ".py",
   "mimetype": "text/x-python",
   "name": "python",
   "nbconvert_exporter": "python",
   "pygments_lexer": "ipython3",
   "version": "3.12.3"
  }
 },
 "nbformat": 4,
 "nbformat_minor": 5
}
