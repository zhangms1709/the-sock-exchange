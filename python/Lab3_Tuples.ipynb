{
 "cells": [
  {
   "cell_type": "markdown",
   "id": "fa7919de",
   "metadata": {},
   "source": [
    "# 🧪 Lab 3: Working with Tuples in Python\n",
    "\n",
    "## Objectives\n",
    "- Understand what tuples are and how they differ from lists\n",
    "- Learn how to create and access tuples\n",
    "- Practice tuple unpacking\n",
    "- Use tuples in functions to return multiple values\n",
    "\n",
    "---"
   ]
  },
  {
   "cell_type": "markdown",
   "id": "f54892da",
   "metadata": {},
   "source": [
    "## 📘 What is a Tuple?\n",
    "A tuple is an ordered, immutable collection of values. Tuples are great for storing fixed sets of data or returning multiple values from functions.\n",
    "\n",
    "### Tuple Syntax:\n",
    "```python\n",
    "my_tuple = (1, 2, 3)\n",
    "```"
   ]
  },
  {
   "cell_type": "code",
   "execution_count": 1,
   "id": "499b7290",
   "metadata": {},
   "outputs": [
    {
     "name": "stdout",
     "output_type": "stream",
     "text": [
      "('Alex', 30, 'Toronto')\n",
      "Name: Alex\n",
      "Age: 30\n",
      "City: Toronto\n"
     ]
    }
   ],
   "source": [
    "# ✅ Create a tuple with your name, age, and city\n",
    "person = (\"Alex\", 30, \"Toronto\")\n",
    "\n",
    "# Print the whole tuple\n",
    "print(person)\n",
    "\n",
    "# Access and print each element by index\n",
    "print(\"Name:\", person[0])\n",
    "print(\"Age:\", person[1])\n",
    "print(\"City:\", person[2])"
   ]
  },
  {
   "cell_type": "markdown",
   "id": "d2a0b997",
   "metadata": {},
   "source": [
    "## 🎒 Tuple Unpacking\n",
    "You can assign tuple elements to variables in one line."
   ]
  },
  {
   "cell_type": "code",
   "execution_count": 2,
   "id": "2005368f",
   "metadata": {},
   "outputs": [
    {
     "name": "stdout",
     "output_type": "stream",
     "text": [
      "Alex is 30 years old and lives in Toronto.\n"
     ]
    }
   ],
   "source": [
    "# ✅ Unpack the tuple into variables\n",
    "name, age, city = person\n",
    "print(f\"{name} is {age} years old and lives in {city}.\")"
   ]
  },
  {
   "cell_type": "markdown",
   "id": "9b7a9097",
   "metadata": {},
   "source": [
    "## 🔒 Tuples are Immutable\n",
    "Trying to change a value in a tuple will raise an error."
   ]
  },
  {
   "cell_type": "code",
   "execution_count": 3,
   "id": "0bb9942f",
   "metadata": {},
   "outputs": [
    {
     "name": "stdout",
     "output_type": "stream",
     "text": [
      "Tuples cannot be modified once created!\n"
     ]
    }
   ],
   "source": [
    "# ❌ Uncommenting the next line will cause an error\n",
    "# person[1] = 35  # TypeError\n",
    "print(\"Tuples cannot be modified once created!\")"
   ]
  },
  {
   "cell_type": "markdown",
   "id": "2c3497cf",
   "metadata": {},
   "source": [
    "## 🧠 Tuples in Functions\n",
    "Functions can return multiple values using tuples."
   ]
  },
  {
   "cell_type": "code",
   "execution_count": 4,
   "id": "22255ea3",
   "metadata": {},
   "outputs": [
    {
     "name": "stdout",
     "output_type": "stream",
     "text": [
      "Name: Jordan, Age: 25\n"
     ]
    }
   ],
   "source": [
    "# ✅ Create a function that returns a person's name and age\n",
    "def get_person_info():\n",
    "    return (\"Jordan\", 25)\n",
    "\n",
    "# Get the values and unpack\n",
    "name, age = get_person_info()\n",
    "print(f\"Name: {name}, Age: {age}\")"
   ]
  },
  {
   "cell_type": "markdown",
   "id": "7bea9535",
   "metadata": {},
   "source": [
    "## 📝 Practice\n",
    "1. Create a tuple called `book` with the title, author, and year.\n",
    "2. Print each item in the tuple.\n",
    "3. Try to change the author to someone else (observe the error).\n",
    "4. Write a function `min_max` that takes a list of numbers and returns the min and max as a tuple.\n",
    "5. Test your function with this list: `[5, 9, 2, 7, 3]`."
   ]
  },
  {
   "cell_type": "code",
   "execution_count": 6,
   "id": "b34ecfa5",
   "metadata": {},
   "outputs": [
    {
     "name": "stdout",
     "output_type": "stream",
     "text": [
      "Name: Melville, Author: Moby Dick, Year: 1890\n",
      "{0, 12}\n"
     ]
    }
   ],
   "source": [
    "book = {\"Moby Dick\", \"Melville\", 1890}\n",
    "name, author, year = book\n",
    "print(f\"Name: {name}, Author: {author}, Year: {year}\")\n",
    "\n",
    "def min_max(nums):\n",
    "    nums.sort()\n",
    "    return {nums[0], nums[-1]}\n",
    "\n",
    "print(min_max([1, 3, 4, 2, 9, 12, 0]))"
   ]
  }
 ],
 "metadata": {
  "kernelspec": {
   "display_name": "Python 3",
   "language": "python",
   "name": "python3"
  },
  "language_info": {
   "codemirror_mode": {
    "name": "ipython",
    "version": 3
   },
   "file_extension": ".py",
   "mimetype": "text/x-python",
   "name": "python",
   "nbconvert_exporter": "python",
   "pygments_lexer": "ipython3",
   "version": "3.12.3"
  }
 },
 "nbformat": 4,
 "nbformat_minor": 5
}
