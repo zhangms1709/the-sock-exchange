{
 "cells": [
  {
   "cell_type": "markdown",
   "id": "fb030f35",
   "metadata": {},
   "source": [
    "# 🧪 Lab 7: Dictionary Comprehensions\n",
    "\n",
    "## Objectives\n",
    "- Understand the syntax and use cases of dictionary comprehensions\n",
    "- Practice creating and transforming dictionaries using comprehensions\n",
    "- Apply filtering logic in dictionary comprehensions\n",
    "- Compare to traditional loop-based dictionary creation\n",
    "\n",
    "---"
   ]
  },
  {
   "cell_type": "markdown",
   "id": "9db3e447",
   "metadata": {},
   "source": [
    "## 📘 What is a Dictionary Comprehension?\n",
    "A dictionary comprehension is a concise way to create dictionaries from iterables.\n",
    "\n",
    "### Syntax:\n",
    "```python\n",
    "{key_expr: value_expr for item in iterable if condition}\n",
    "```"
   ]
  },
  {
   "cell_type": "code",
   "execution_count": 1,
   "id": "594b4747",
   "metadata": {},
   "outputs": [
    {
     "name": "stdout",
     "output_type": "stream",
     "text": [
      "{0: 0, 1: 1, 2: 4, 3: 9, 4: 16, 5: 25}\n"
     ]
    }
   ],
   "source": [
    "# ✅ Create a dictionary of squares\n",
    "squares = {x: x**2 for x in range(6)}\n",
    "print(squares)"
   ]
  },
  {
   "cell_type": "markdown",
   "id": "11c38549",
   "metadata": {},
   "source": [
    "## 🔁 Equivalent Using a Loop"
   ]
  },
  {
   "cell_type": "code",
   "execution_count": 2,
   "id": "daf2c63c",
   "metadata": {},
   "outputs": [
    {
     "name": "stdout",
     "output_type": "stream",
     "text": [
      "{0: 0, 1: 1, 2: 4, 3: 9, 4: 16, 5: 25}\n"
     ]
    }
   ],
   "source": [
    "squares_loop = {}\n",
    "for x in range(6):\n",
    "    squares_loop[x] = x**2\n",
    "print(squares_loop)"
   ]
  },
  {
   "cell_type": "markdown",
   "id": "82668ead",
   "metadata": {},
   "source": [
    "## 🔍 Filtering in Dictionary Comprehensions"
   ]
  },
  {
   "cell_type": "code",
   "execution_count": 3,
   "id": "78efb297",
   "metadata": {},
   "outputs": [
    {
     "name": "stdout",
     "output_type": "stream",
     "text": [
      "{0: 0, 2: 4, 4: 16, 6: 36, 8: 64}\n"
     ]
    }
   ],
   "source": [
    "# ✅ Include only even keys\n",
    "even_squares = {x: x**2 for x in range(10) if x % 2 == 0}\n",
    "print(even_squares)"
   ]
  },
  {
   "cell_type": "markdown",
   "id": "a090bf28",
   "metadata": {},
   "source": [
    "## 🔄 Transforming Dictionary Values"
   ]
  },
  {
   "cell_type": "code",
   "execution_count": 4,
   "id": "d1de5774",
   "metadata": {},
   "outputs": [
    {
     "name": "stdout",
     "output_type": "stream",
     "text": [
      "{'a': 'Alice', 'b': 'Bob', 'c': 'Carol'}\n"
     ]
    }
   ],
   "source": [
    "# ✅ Capitalize the values of a dictionary\n",
    "names = {\"a\": \"alice\", \"b\": \"bob\", \"c\": \"carol\"}\n",
    "capitalized = {k: v.capitalize() for k, v in names.items()}\n",
    "print(capitalized)"
   ]
  },
  {
   "cell_type": "code",
   "execution_count": 5,
   "id": "9985d239",
   "metadata": {},
   "outputs": [
    {
     "name": "stdout",
     "output_type": "stream",
     "text": [
      "{'python': 6, 'data': 4, 'science': 7}\n"
     ]
    }
   ],
   "source": [
    "# ✅ Create a dictionary mapping words to their lengths\n",
    "words = [\"python\", \"data\", \"science\"]\n",
    "word_lengths = {word: len(word) for word in words}\n",
    "print(word_lengths)"
   ]
  },
  {
   "cell_type": "markdown",
   "id": "07b2b9b1",
   "metadata": {},
   "source": [
    "## 📝 Practice\n",
    "1. Convert a list of items into a dictionary with values as their indices:\n",
    "```python\n",
    "['a', 'b', 'c'] → {'a': 0, 'b': 1, 'c': 2}\n",
    "```\n",
    "2. Create a dictionary from `range(10)` with only odd numbers as keys and their cubes as values.\n",
    "3. Filter a dictionary to only keep items where the value is above 50:\n",
    "```python\n",
    "scores = {'A': 72, 'B': 48, 'C': 95}\n",
    "```\n",
    "4. BONUS: Reverse a dictionary (swap keys and values)."
   ]
  },
  {
   "cell_type": "code",
   "execution_count": 6,
   "id": "70ebe7d0",
   "metadata": {},
   "outputs": [
    {
     "data": {
      "text/plain": [
       "{'a': 0, 'b': 1, 'c': 2}"
      ]
     },
     "execution_count": 6,
     "metadata": {},
     "output_type": "execute_result"
    }
   ],
   "source": [
    "letters = ['a', 'b', 'c']\n",
    "letters_dict = {letters[l]: l for l in range(len(letters))}\n",
    "letters_dict"
   ]
  },
  {
   "cell_type": "code",
   "execution_count": 7,
   "id": "e1522c21",
   "metadata": {},
   "outputs": [
    {
     "data": {
      "text/plain": [
       "{0: 0, 3: 27, 6: 216, 9: 729}"
      ]
     },
     "execution_count": 7,
     "metadata": {},
     "output_type": "execute_result"
    }
   ],
   "source": [
    "nums = {o: o**3 for o in range(10) if o % 3 == 0}\n",
    "nums"
   ]
  },
  {
   "cell_type": "code",
   "execution_count": 8,
   "id": "ca69da0d",
   "metadata": {},
   "outputs": [
    {
     "data": {
      "text/plain": [
       "{'A': 72, 'C': 95}"
      ]
     },
     "execution_count": 8,
     "metadata": {},
     "output_type": "execute_result"
    }
   ],
   "source": [
    "scores = {'A':72, 'B':48, 'C':95}\n",
    "new_scores = {k: v for k, v in scores.items() if v>50}\n",
    "new_scores"
   ]
  },
  {
   "cell_type": "code",
   "execution_count": 9,
   "id": "d27cbc9f",
   "metadata": {},
   "outputs": [
    {
     "data": {
      "text/plain": [
       "{72: 'A', 48: 'B', 95: 'C'}"
      ]
     },
     "execution_count": 9,
     "metadata": {},
     "output_type": "execute_result"
    }
   ],
   "source": [
    "rev_scores = {v:k for k, v in scores.items()}\n",
    "rev_scores"
   ]
  }
 ],
 "metadata": {
  "kernelspec": {
   "display_name": "Python 3",
   "language": "python",
   "name": "python3"
  },
  "language_info": {
   "codemirror_mode": {
    "name": "ipython",
    "version": 3
   },
   "file_extension": ".py",
   "mimetype": "text/x-python",
   "name": "python",
   "nbconvert_exporter": "python",
   "pygments_lexer": "ipython3",
   "version": "3.12.3"
  }
 },
 "nbformat": 4,
 "nbformat_minor": 5
}
