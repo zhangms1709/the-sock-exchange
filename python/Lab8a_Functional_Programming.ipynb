{
 "cells": [
  {
   "cell_type": "markdown",
   "id": "43db26ad",
   "metadata": {},
   "source": [
    "# 🧪 Lab 7: Functional Programming with `map`, `filter`, and `reduce`\n",
    "\n",
    "## Objectives\n",
    "- Learn how to use `map()`, `filter()`, and `reduce()` for data processing\n",
    "- Understand the role of lambda functions in functional programming\n",
    "- Compare with traditional loops and comprehensions\n",
    "- Practice real-world examples of data transformation\n",
    "\n",
    "---"
   ]
  },
  {
   "cell_type": "markdown",
   "id": "32c404d6",
   "metadata": {},
   "source": [
    "## 📘 Functional Programming in Python\n",
    "Python supports a functional style of programming using built-in functions like `map`, `filter`, and `reduce`.\n",
    "\n",
    "These are especially useful for transforming or filtering collections of data."
   ]
  },
  {
   "cell_type": "markdown",
   "id": "1c28061f",
   "metadata": {},
   "source": [
    "## 🔁 `map()` - Transform Items"
   ]
  },
  {
   "cell_type": "code",
   "execution_count": 1,
   "id": "baed2113",
   "metadata": {},
   "outputs": [
    {
     "name": "stdout",
     "output_type": "stream",
     "text": [
      "[1, 4, 9, 16, 25]\n"
     ]
    }
   ],
   "source": [
    "# ✅ Use map to square numbers\n",
    "numbers = [1, 2, 3, 4, 5]\n",
    "squares = list(map(lambda x: x**2, numbers))\n",
    "print(squares)"
   ]
  },
  {
   "cell_type": "markdown",
   "id": "e2a0b3c7",
   "metadata": {},
   "source": [
    "## 🚦 `filter()` - Keep Only Items That Match a Condition"
   ]
  },
  {
   "cell_type": "code",
   "execution_count": 2,
   "id": "39bf8d90",
   "metadata": {},
   "outputs": [
    {
     "name": "stdout",
     "output_type": "stream",
     "text": [
      "[2, 4]\n"
     ]
    }
   ],
   "source": [
    "# ✅ Use filter to get even numbers\n",
    "evens = list(filter(lambda x: x % 2 == 0, numbers))\n",
    "print(evens)"
   ]
  },
  {
   "cell_type": "markdown",
   "id": "15c61443",
   "metadata": {},
   "source": [
    "## 🧮 `reduce()` - Combine Items into a Single Value"
   ]
  },
  {
   "cell_type": "code",
   "execution_count": 3,
   "id": "4aa7fb90",
   "metadata": {},
   "outputs": [
    {
     "name": "stdout",
     "output_type": "stream",
     "text": [
      "120\n"
     ]
    }
   ],
   "source": [
    "# ✅ Use reduce to calculate the product of a list\n",
    "from functools import reduce\n",
    "\n",
    "product = reduce(lambda x, y: x * y, numbers)\n",
    "print(product)"
   ]
  },
  {
   "cell_type": "markdown",
   "id": "0123ed7e",
   "metadata": {},
   "source": [
    "## 🔄 Comparison with Loops"
   ]
  },
  {
   "cell_type": "code",
   "execution_count": 4,
   "id": "331072b2",
   "metadata": {},
   "outputs": [
    {
     "name": "stdout",
     "output_type": "stream",
     "text": [
      "55\n"
     ]
    }
   ],
   "source": [
    "# ✅ Sum of squares using a loop\n",
    "squares_sum = 0\n",
    "for n in numbers:\n",
    "    squares_sum += n ** 2\n",
    "print(squares_sum)"
   ]
  },
  {
   "cell_type": "markdown",
   "id": "b3ba65c2",
   "metadata": {},
   "source": [
    "## 🔗 Combining `filter` and `map`"
   ]
  },
  {
   "cell_type": "code",
   "execution_count": 5,
   "id": "8d19a65a",
   "metadata": {},
   "outputs": [
    {
     "name": "stdout",
     "output_type": "stream",
     "text": [
      "[4, 16]\n"
     ]
    }
   ],
   "source": [
    "# ✅ Square only the even numbers\n",
    "square_evens = list(map(lambda x: x**2, filter(lambda x: x % 2 == 0, numbers)))\n",
    "print(square_evens)"
   ]
  },
  {
   "cell_type": "markdown",
   "id": "32be0844",
   "metadata": {},
   "source": [
    "## 📝 Practice\n",
    "1. Use `map()` to convert a list of temperatures from Celsius to Fahrenheit.\n",
    "   - Formula: `(C * 9/5) + 32`\n",
    "2. Use `filter()` to select strings longer than 3 characters from a list.\n",
    "3. Use `reduce()` to find the maximum value in a list (no `max()` function).\n",
    "4. Combine `map()` and `filter()` to double all numbers greater than 5.\n",
    "```python\n",
    "nums = [2, 4, 6, 8, 10]\n",
    "```"
   ]
  },
  {
   "cell_type": "code",
   "execution_count": 9,
   "id": "5696dad0",
   "metadata": {},
   "outputs": [
    {
     "name": "stdout",
     "output_type": "stream",
     "text": [
      "[53.6, 86.0, 195.8, 32.0]\n"
     ]
    }
   ],
   "source": [
    "c = [12, 30, 91, 0]\n",
    "f = list(map(lambda x: (x*(9/5)) +32, c))\n",
    "print(f)"
   ]
  },
  {
   "cell_type": "code",
   "execution_count": 10,
   "id": "86267b09",
   "metadata": {},
   "outputs": [
    {
     "data": {
      "text/plain": [
       "['hello']"
      ]
     },
     "execution_count": 10,
     "metadata": {},
     "output_type": "execute_result"
    }
   ],
   "source": [
    "words = [\"hello\", \"hi\"]\n",
    "new = list(filter(lambda x: len(x) > 3, words))\n",
    "new"
   ]
  },
  {
   "cell_type": "code",
   "execution_count": 12,
   "id": "b65670c2",
   "metadata": {},
   "outputs": [
    {
     "name": "stdout",
     "output_type": "stream",
     "text": [
      "99\n"
     ]
    }
   ],
   "source": [
    "nums = [5, 7, 8, 99]\n",
    "from functools import reduce\n",
    "largest = reduce(lambda x, y: x if x > y else y, nums)\n",
    "print(largest)"
   ]
  },
  {
   "cell_type": "code",
   "execution_count": 13,
   "id": "c31365a0",
   "metadata": {},
   "outputs": [
    {
     "data": {
      "text/plain": [
       "[20]"
      ]
     },
     "execution_count": 13,
     "metadata": {},
     "output_type": "execute_result"
    }
   ],
   "source": [
    "numbers= [10, 4, 5]\n",
    "res = list(map(lambda x: x*2, filter(lambda x: x > 5, numbers)))\n",
    "res"
   ]
  }
 ],
 "metadata": {
  "kernelspec": {
   "display_name": "Python 3",
   "language": "python",
   "name": "python3"
  },
  "language_info": {
   "codemirror_mode": {
    "name": "ipython",
    "version": 3
   },
   "file_extension": ".py",
   "mimetype": "text/x-python",
   "name": "python",
   "nbconvert_exporter": "python",
   "pygments_lexer": "ipython3",
   "version": "3.12.3"
  }
 },
 "nbformat": 4,
 "nbformat_minor": 5
}
