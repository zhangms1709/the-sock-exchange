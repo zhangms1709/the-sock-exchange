{
 "cells": [
  {
   "cell_type": "markdown",
   "id": "7d85582a",
   "metadata": {},
   "source": [
    "# 🧪 Lab 2b: Python Modules and Imports\n",
    "\n",
    "## Objectives\n",
    "- Understand what a Python module is\n",
    "- Learn how to define and reuse functions in a separate file\n",
    "- Explore different import styles (`import`, `from ... import`, `as`)\n",
    "- Practice organizing and calling functions from modules\n",
    "\n",
    "---"
   ]
  },
  {
   "cell_type": "markdown",
   "id": "e9e875c0",
   "metadata": {},
   "source": [
    "## 📘 What is a Module?\n",
    "A module is simply a Python file (`.py`) that contains definitions, functions, or classes.\n",
    "You can reuse code by importing functions from other modules into your scripts or notebooks."
   ]
  },
  {
   "cell_type": "markdown",
   "id": "1748a96c",
   "metadata": {},
   "source": [
    "## 🏗️ Step 1: Create a Module\n",
    "Create a file named `mymath.py` and add the following code:\n",
    "```python\n",
    "# mymath.py\n",
    "def add(a, b):\n",
    "    return a + b\n",
    "\n",
    "def subtract(a, b):\n",
    "    return a - b\n",
    "```"
   ]
  },
  {
   "cell_type": "markdown",
   "id": "2733f25a",
   "metadata": {},
   "source": [
    "## 🔌 Step 2: Importing the Module\n",
    "Now in this notebook or another script, use the following import styles:\n",
    "\n",
    "### Import the whole module\n",
    "```python\n",
    "import mymath\n",
    "print(mymath.add(5, 3))\n",
    "```\n",
    "\n",
    "### Import specific functions\n",
    "```python\n",
    "from mymath import subtract\n",
    "print(subtract(10, 4))\n",
    "```\n",
    "\n",
    "### Use an alias\n",
    "```python\n",
    "import mymath as mm\n",
    "print(mm.add(2, 2))\n",
    "```"
   ]
  },
  {
   "cell_type": "code",
   "execution_count": 1,
   "id": "921b3f61",
   "metadata": {},
   "outputs": [
    {
     "name": "stdout",
     "output_type": "stream",
     "text": [
      "8\n"
     ]
    }
   ],
   "source": [
    "import mymath\n",
    "print(mymath.add(5, 3))"
   ]
  },
  {
   "cell_type": "code",
   "execution_count": 2,
   "id": "eaa3bdc7",
   "metadata": {},
   "outputs": [
    {
     "name": "stdout",
     "output_type": "stream",
     "text": [
      "6\n"
     ]
    }
   ],
   "source": [
    "from mymath import subtract\n",
    "print(subtract(10, 4))"
   ]
  },
  {
   "cell_type": "code",
   "execution_count": 3,
   "id": "d952df74",
   "metadata": {},
   "outputs": [
    {
     "name": "stdout",
     "output_type": "stream",
     "text": [
      "4\n"
     ]
    }
   ],
   "source": [
    "import mymath as mm\n",
    "print(mm.add(2, 2))"
   ]
  },
  {
   "cell_type": "markdown",
   "id": "e27c3b6b",
   "metadata": {},
   "source": [
    "## 📝 Practice\n",
    "1. Create a new file `helpers.py` with a function `say_hello(name)` that prints a greeting.\n",
    "2. Import and call `say_hello()` in this notebook.\n",
    "3. Add a function to return the square of a number and test it.\n",
    "4. Try importing using different styles: full import, selective, and alias."
   ]
  },
  {
   "cell_type": "code",
   "execution_count": 4,
   "id": "2574c8ef",
   "metadata": {},
   "outputs": [
    {
     "name": "stdout",
     "output_type": "stream",
     "text": [
      "16\n"
     ]
    }
   ],
   "source": [
    "# Start practice here, restart kernel when update a file\n",
    "from mymath import square\n",
    "print(square(2, 4))"
   ]
  },
  {
   "cell_type": "code",
   "execution_count": 5,
   "id": "acc31570",
   "metadata": {},
   "outputs": [
    {
     "name": "stdout",
     "output_type": "stream",
     "text": [
      "Hello!\n"
     ]
    }
   ],
   "source": [
    "mm.say_hello()"
   ]
  }
 ],
 "metadata": {
  "kernelspec": {
   "display_name": "Python 3",
   "language": "python",
   "name": "python3"
  },
  "language_info": {
   "codemirror_mode": {
    "name": "ipython",
    "version": 3
   },
   "file_extension": ".py",
   "mimetype": "text/x-python",
   "name": "python",
   "nbconvert_exporter": "python",
   "pygments_lexer": "ipython3",
   "version": "3.12.3"
  }
 },
 "nbformat": 4,
 "nbformat_minor": 5
}
