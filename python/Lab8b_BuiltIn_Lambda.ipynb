{
 "cells": [
  {
   "cell_type": "markdown",
   "id": "7e04e1bf",
   "metadata": {},
   "source": [
    "# 🧪 Lab 8: Built-in Functions and Lambda Expressions\n",
    "\n",
    "## Objectives\n",
    "- Learn to use built-in functions for data processing: `sorted()`, `min()`, `max()`, `sum()`, `any()`, `all()`\n",
    "- Understand the purpose and syntax of `lambda` functions\n",
    "- Practice writing and using anonymous functions\n",
    "\n",
    "---"
   ]
  },
  {
   "cell_type": "markdown",
   "id": "2596ae86",
   "metadata": {},
   "source": [
    "## 📘 Built-in Data Processing Functions\n",
    "Python provides a number of built-in functions that are frequently used in data analysis and transformation."
   ]
  },
  {
   "cell_type": "code",
   "execution_count": 1,
   "id": "328f1eb1",
   "metadata": {},
   "outputs": [
    {
     "name": "stdout",
     "output_type": "stream",
     "text": [
      "Sum: 22\n",
      "Min: 1\n",
      "Max: 9\n"
     ]
    }
   ],
   "source": [
    "# ✅ Basic numeric functions\n",
    "numbers = [3, 7, 1, 9, 2]\n",
    "print(\"Sum:\", sum(numbers))\n",
    "print(\"Min:\", min(numbers))\n",
    "print(\"Max:\", max(numbers))"
   ]
  },
  {
   "cell_type": "code",
   "execution_count": 2,
   "id": "7eebf1e8",
   "metadata": {},
   "outputs": [
    {
     "name": "stdout",
     "output_type": "stream",
     "text": [
      "Any True? True\n",
      "All True? False\n"
     ]
    }
   ],
   "source": [
    "# ✅ Boolean evaluation functions\n",
    "conditions = [True, True, False]\n",
    "print(\"Any True?\", any(conditions))\n",
    "print(\"All True?\", all(conditions))"
   ]
  },
  {
   "cell_type": "code",
   "execution_count": 3,
   "id": "ac594300",
   "metadata": {},
   "outputs": [
    {
     "name": "stdout",
     "output_type": "stream",
     "text": [
      "Sorted: [1, 3, 5, 7, 10]\n",
      "Original list: [10, 5, 7, 3, 1]\n"
     ]
    }
   ],
   "source": [
    "# ✅ Sorting a list of values\n",
    "unsorted = [10, 5, 7, 3, 1]\n",
    "print(\"Sorted:\", sorted(unsorted))\n",
    "print(\"Original list:\", unsorted)"
   ]
  },
  {
   "cell_type": "markdown",
   "id": "1faefe2e",
   "metadata": {},
   "source": [
    "## 🔧 Lambda Functions (Anonymous Functions)\n",
    "A `lambda` function lets you create small anonymous functions without a name.\n",
    "\n",
    "### Syntax:\n",
    "```python\n",
    "lambda arguments: expression\n",
    "```\n",
    "Example:\n",
    "```python\n",
    "square = lambda x: x * x\n",
    "```"
   ]
  },
  {
   "cell_type": "code",
   "execution_count": 4,
   "id": "e0900559",
   "metadata": {},
   "outputs": [
    {
     "name": "stdout",
     "output_type": "stream",
     "text": [
      "25\n"
     ]
    }
   ],
   "source": [
    "# ✅ Example of using lambda\n",
    "square = lambda x: x * x\n",
    "print(square(5))"
   ]
  },
  {
   "cell_type": "code",
   "execution_count": 5,
   "id": "38bea919",
   "metadata": {},
   "outputs": [
    {
     "name": "stdout",
     "output_type": "stream",
     "text": [
      "['Zoe', 'Bob', 'Alexandra']\n"
     ]
    }
   ],
   "source": [
    "# ✅ Use lambda with `sorted` to sort strings by length\n",
    "names = [\"Zoe\", \"Alexandra\", \"Bob\"]\n",
    "sorted_names = sorted(names, key=lambda name: len(name))\n",
    "print(sorted_names)"
   ]
  },
  {
   "cell_type": "markdown",
   "id": "92389018",
   "metadata": {},
   "source": [
    "## 📝 Practice\n",
    "1. Use `sum()` to add a list of numbers: `[4, 8, 15, 16, 23, 42]`\n",
    "2. Use `any()` and `all()` on `[False, True, True]`\n",
    "3. Sort a list of dictionaries by a numeric key using `sorted()` and `lambda`\n",
    "```python\n",
    "people = [{\"name\": \"Alice\", \"age\": 30}, {\"name\": \"Bob\", \"age\": 20}]\n",
    "```\n",
    "4. Create a `lambda` that returns the last character of a string, and use it to sort a list of strings."
   ]
  },
  {
   "cell_type": "code",
   "execution_count": 7,
   "id": "9867b32f",
   "metadata": {},
   "outputs": [
    {
     "name": "stdout",
     "output_type": "stream",
     "text": [
      "108\n",
      "True\n",
      "False\n",
      "[{'name': 'Bob', 'age': 20}, {'name': 'Alice', 'age': 30}]\n"
     ]
    }
   ],
   "source": [
    "nums = [4, 8, 15, 16, 23, 42]\n",
    "print(sum(nums))\n",
    "\n",
    "print(any([False, True, True]))\n",
    "print(all([False, True, True]))\n",
    "\n",
    "people = [{\"name\": \"Alice\", \"age\": 30}, {\"name\": \"Bob\", \"age\": 20}]\n",
    "sorted_ppl = sorted(people, key=lambda x: x[\"age\"])\n",
    "print(sorted_ppl)"
   ]
  },
  {
   "cell_type": "code",
   "execution_count": 8,
   "id": "5712d4a3",
   "metadata": {},
   "outputs": [
    {
     "data": {
      "text/plain": [
       "['hi', 'hello', 'hey']"
      ]
     },
     "execution_count": 8,
     "metadata": {},
     "output_type": "execute_result"
    }
   ],
   "source": [
    "words=[\"hello\", \"hi\", \"hey\"]\n",
    "# try lab 10, optional for 11\n",
    "last = lambda x : x[-1]\n",
    "sorted_last = sorted(words, key=last)\n",
    "sorted_last"
   ]
  }
 ],
 "metadata": {
  "kernelspec": {
   "display_name": "Python 3",
   "language": "python",
   "name": "python3"
  },
  "language_info": {
   "codemirror_mode": {
    "name": "ipython",
    "version": 3
   },
   "file_extension": ".py",
   "mimetype": "text/x-python",
   "name": "python",
   "nbconvert_exporter": "python",
   "pygments_lexer": "ipython3",
   "version": "3.12.3"
  }
 },
 "nbformat": 4,
 "nbformat_minor": 5
}
